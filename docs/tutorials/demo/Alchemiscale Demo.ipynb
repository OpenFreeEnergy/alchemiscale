{
 "cells": [
  {
   "cell_type": "markdown",
   "id": "6d27b499-55a1-4050-8c69-826a130707bd",
   "metadata": {},
   "source": [
    "# Demo - Using `alchemiscale` to evaluate a relative binding free energy network"
   ]
  },
  {
   "cell_type": "markdown",
   "id": "e3ea5f9b-97ee-4bc2-bfd7-c5cde5e0420c",
   "metadata": {},
   "source": [
    "This notebook details the process of running a relative binding free energy calculation using the [openfe](https://github.com/OpenFreeEnergy/openfe/) toolkit and the execution platform [alchemiscale](https://github.com/openforcefield/alchemiscale).\n",
    "\n",
    "The notebook is broken down into the following section:\n",
    "  1. Creating an `AlchemicalNetwork`\n",
    "  2. Submitting an `Alchemicalnetwork` to `alchemiscale`\n",
    "  3. Monitoring the progress of an `alchemiscale` submission\n",
    "  4. Gathering results and analyzing them using `cinnabar`\n",
    "\n",
    "Credits:\n",
    "- Irfan Alibay ([@ialibay](https://github.com/IAlibay)) for initial structure and content\n",
    "- David Dotson ([@dotsdl](https://github.com/dotsdl)) for expansion and editing for use as a tutorial"
   ]
  },
  {
   "cell_type": "markdown",
   "id": "177075c1-0bf3-4f59-88fd-2b2122b34555",
   "metadata": {},
   "source": [
    "## Creating an `AlchemicalNetwork` for the `tyk2` benchmark system"
   ]
  },
  {
   "cell_type": "markdown",
   "id": "8d1d6468-70a5-4d0b-b4bf-8d7093b6be9a",
   "metadata": {},
   "source": [
    "We first illustrate how to build `AlchemicalNetwork` objects,\n",
    "from a starting point of chemical models stored in sdf and pdb files.\n",
    "\n",
    "An `AlchemicalNetwork` is used to represent an entire network of calculations,\n",
    "and is composed of many smaller objects:\n",
    "\n",
    "- An `AlchemicalNetwork` composed of \n",
    "  - each node a `ChemicalSystem`\n",
    "    - each containing many components, such as `SmallMoleculeComponent`, `ProteinComponent`\n",
    "      - internally each Component usually wraps an RDKit representation\n",
    "  - each directed edge a `Transformation`, containing\n",
    "    - two `ChemicalSystem`s, the 'A' and 'B' side\n",
    "    - zero or more `Mapping` objects relating these two sides\n",
    "    - a `Protocol` defining the computational method to be applied to other items"
   ]
  },
  {
   "cell_type": "code",
   "execution_count": 1,
   "id": "6bb3f4a4-2135-494a-8365-9ef229dd124d",
   "metadata": {},
   "outputs": [],
   "source": [
    "import openfe\n",
    "import gufe\n",
    "from openff.units import unit\n",
    "from rdkit import Chem"
   ]
  },
  {
   "cell_type": "code",
   "execution_count": 2,
   "id": "7d1fca4b-9750-4dcf-816a-b5a0782003af",
   "metadata": {},
   "outputs": [
    {
     "name": "stdout",
     "output_type": "stream",
     "text": [
      "gufe version:  1.0.0\n",
      "openfe version:  1.0.1+0.g48dcbb26.dirty\n"
     ]
    }
   ],
   "source": [
    "print(\"gufe version: \", gufe.__version__)\n",
    "print(\"openfe version: \", openfe.__version__)"
   ]
  },
  {
   "cell_type": "code",
   "execution_count": 3,
   "id": "4517e70f-ed72-46c8-946a-00cac4207882",
   "metadata": {},
   "outputs": [],
   "source": [
    "import logging\n",
    "logger = logging.getLogger()\n",
    "logger.setLevel(logging.WARN)"
   ]
  },
  {
   "cell_type": "markdown",
   "id": "7002df79-73c6-46ca-93dc-a0fe3c0389a5",
   "metadata": {},
   "source": [
    "### Define `ChemicalSystem`s for network nodes\n",
    "\n",
    "We'll start by defining the nodes for our network.\n",
    "A `ChemicalSystem` is made of one or more `Component`s. These can be one of `ProteinComponent`, `SmallMoleculeComponent`, or `SolventComponent`, and potentially others as needed. This design allows for memory efficient representation of large networks with perhaps hundreds or thousands of nodes, but perhaps far fewer variants in proteins, ligands, etc."
   ]
  },
  {
   "cell_type": "markdown",
   "id": "cc900044-72f6-4463-9589-afda3a153c14",
   "metadata": {},
   "source": [
    "#### Reading Ligands\n",
    "\n",
    "The ligands are concatenated in a single sdf file, we'll read these using RDKit.\n",
    "\n",
    "Each of the ligands have been pre-docked into the protein and aligned to their common scaffold. It is important to recognize that any processing required to prepare ligand and protein structures for alchemical free energy calculations should be done *before* the steps we are taking here."
   ]
  },
  {
   "cell_type": "code",
   "execution_count": 4,
   "id": "16527065",
   "metadata": {},
   "outputs": [
    {
     "data": {
      "text/plain": [
       "[SmallMoleculeComponent(name=lig_ejm_54),\n",
       " SmallMoleculeComponent(name=lig_jmc_23),\n",
       " SmallMoleculeComponent(name=lig_ejm_47),\n",
       " SmallMoleculeComponent(name=lig_jmc_27),\n",
       " SmallMoleculeComponent(name=lig_ejm_46),\n",
       " SmallMoleculeComponent(name=lig_ejm_31),\n",
       " SmallMoleculeComponent(name=lig_ejm_42),\n",
       " SmallMoleculeComponent(name=lig_ejm_50),\n",
       " SmallMoleculeComponent(name=lig_ejm_45),\n",
       " SmallMoleculeComponent(name=lig_jmc_28),\n",
       " SmallMoleculeComponent(name=lig_ejm_55),\n",
       " SmallMoleculeComponent(name=lig_ejm_43),\n",
       " SmallMoleculeComponent(name=lig_ejm_48)]"
      ]
     },
     "execution_count": 4,
     "metadata": {},
     "output_type": "execute_result"
    }
   ],
   "source": [
    "ligands = [\n",
    "    openfe.SmallMoleculeComponent(m) for m in Chem.SDMolSupplier('ligands.sdf', removeHs=False)\n",
    "]\n",
    "ligands"
   ]
  },
  {
   "cell_type": "code",
   "execution_count": 5,
   "id": "16e4b2b9-14ab-4d07-8ec7-2926f41c9426",
   "metadata": {},
   "outputs": [],
   "source": [
    "# The OpenFE RBFE protocol does not yet support charge changes (to be changed very soon!)\n",
    "# Here we raise an error if a change in formal charge is identified\n",
    "base_formalcharge = Chem.rdmolops.GetFormalCharge(ligands[0].to_rdkit())\n",
    "\n",
    "for mol in ligands[1:]:\n",
    "    if Chem.rdmolops.GetFormalCharge(mol.to_rdkit()) != base_formalcharge:\n",
    "        errmsg = f\"The molecule {mol} has a different formal charge than the first ligand molecule\"\n",
    "        raise ValueError(errmsg)"
   ]
  },
  {
   "cell_type": "markdown",
   "id": "4307a828-2e40-43d6-b148-23f2b83b0586",
   "metadata": {},
   "source": [
    "#### Reading the protein\n",
    "\n",
    "The protein is supplied as a PDB file, readable via the `ProteinComponent.from_pdb_file` class method."
   ]
  },
  {
   "cell_type": "code",
   "execution_count": 6,
   "id": "a31c89a4",
   "metadata": {},
   "outputs": [
    {
     "data": {
      "text/plain": [
       "ProteinComponent(name=tyk2)"
      ]
     },
     "execution_count": 6,
     "metadata": {},
     "output_type": "execute_result"
    }
   ],
   "source": [
    "protein = openfe.ProteinComponent.from_pdb_file('protein.pdb', name='tyk2')\n",
    "protein"
   ]
  },
  {
   "cell_type": "markdown",
   "id": "78639c38-e866-4186-b932-d48f63099ad4",
   "metadata": {},
   "source": [
    "#### Defining the solvent\n",
    "\n",
    "We'll also need at least one `SolventComponent` to encode our choice of solvent and counterions, with concentration.\n",
    "The concentration is defined as having units supplied by `openff.units`, this package is used to avoid confusion.\n",
    "\n",
    "\n",
    "The `SolventComponent` doesn't actually perform any actual solvation (packing water molecules, ions); that is performed just before simulation time during `Protocol` execution."
   ]
  },
  {
   "cell_type": "code",
   "execution_count": 7,
   "id": "3c47166d-143b-41f0-9dce-7805e56d7191",
   "metadata": {},
   "outputs": [
    {
     "data": {
      "text/plain": [
       "SolventComponent(name=O, Na+, Cl-)"
      ]
     },
     "execution_count": 7,
     "metadata": {},
     "output_type": "execute_result"
    }
   ],
   "source": [
    "solvent = openfe.SolventComponent(positive_ion='Na', \n",
    "                                  negative_ion='Cl',\n",
    "                                  neutralize=True, \n",
    "                                  ion_concentration=0.15*unit.molar)\n",
    "solvent"
   ]
  },
  {
   "cell_type": "markdown",
   "id": "00827c9e-50aa-4d3d-90d0-4f510e3de247",
   "metadata": {},
   "source": [
    "#### Build the `ChemicalSystem`s\n",
    "\n",
    "We can now construct the `ChemicalSystem`s we want represented in our network. Since we are planning to perform relative binding free energy (RBFE) calculations, we'll define both *complex* and *solvent* variants for each ligand.\n",
    "\n",
    "This produces a dictionary mapping the ligand name to the `ChemicalSystem` that contains that ligand.\n",
    "There are two dictionaries, for complexed and solvated ligands respectively."
   ]
  },
  {
   "cell_type": "code",
   "execution_count": 8,
   "id": "10edc8b3-5f45-4e37-b1d5-bd508601e352",
   "metadata": {},
   "outputs": [
    {
     "data": {
      "text/plain": [
       "{'lig_ejm_54': ChemicalSystem(name=lig_ejm_54_complex, components={'ligand': SmallMoleculeComponent(name=lig_ejm_54), 'solvent': SolventComponent(name=O, Na+, Cl-), 'protein': ProteinComponent(name=tyk2)}),\n",
       " 'lig_jmc_23': ChemicalSystem(name=lig_jmc_23_complex, components={'ligand': SmallMoleculeComponent(name=lig_jmc_23), 'solvent': SolventComponent(name=O, Na+, Cl-), 'protein': ProteinComponent(name=tyk2)}),\n",
       " 'lig_ejm_47': ChemicalSystem(name=lig_ejm_47_complex, components={'ligand': SmallMoleculeComponent(name=lig_ejm_47), 'solvent': SolventComponent(name=O, Na+, Cl-), 'protein': ProteinComponent(name=tyk2)}),\n",
       " 'lig_jmc_27': ChemicalSystem(name=lig_jmc_27_complex, components={'ligand': SmallMoleculeComponent(name=lig_jmc_27), 'solvent': SolventComponent(name=O, Na+, Cl-), 'protein': ProteinComponent(name=tyk2)}),\n",
       " 'lig_ejm_46': ChemicalSystem(name=lig_ejm_46_complex, components={'ligand': SmallMoleculeComponent(name=lig_ejm_46), 'solvent': SolventComponent(name=O, Na+, Cl-), 'protein': ProteinComponent(name=tyk2)}),\n",
       " 'lig_ejm_31': ChemicalSystem(name=lig_ejm_31_complex, components={'ligand': SmallMoleculeComponent(name=lig_ejm_31), 'solvent': SolventComponent(name=O, Na+, Cl-), 'protein': ProteinComponent(name=tyk2)}),\n",
       " 'lig_ejm_42': ChemicalSystem(name=lig_ejm_42_complex, components={'ligand': SmallMoleculeComponent(name=lig_ejm_42), 'solvent': SolventComponent(name=O, Na+, Cl-), 'protein': ProteinComponent(name=tyk2)}),\n",
       " 'lig_ejm_50': ChemicalSystem(name=lig_ejm_50_complex, components={'ligand': SmallMoleculeComponent(name=lig_ejm_50), 'solvent': SolventComponent(name=O, Na+, Cl-), 'protein': ProteinComponent(name=tyk2)}),\n",
       " 'lig_ejm_45': ChemicalSystem(name=lig_ejm_45_complex, components={'ligand': SmallMoleculeComponent(name=lig_ejm_45), 'solvent': SolventComponent(name=O, Na+, Cl-), 'protein': ProteinComponent(name=tyk2)}),\n",
       " 'lig_jmc_28': ChemicalSystem(name=lig_jmc_28_complex, components={'ligand': SmallMoleculeComponent(name=lig_jmc_28), 'solvent': SolventComponent(name=O, Na+, Cl-), 'protein': ProteinComponent(name=tyk2)}),\n",
       " 'lig_ejm_55': ChemicalSystem(name=lig_ejm_55_complex, components={'ligand': SmallMoleculeComponent(name=lig_ejm_55), 'solvent': SolventComponent(name=O, Na+, Cl-), 'protein': ProteinComponent(name=tyk2)}),\n",
       " 'lig_ejm_43': ChemicalSystem(name=lig_ejm_43_complex, components={'ligand': SmallMoleculeComponent(name=lig_ejm_43), 'solvent': SolventComponent(name=O, Na+, Cl-), 'protein': ProteinComponent(name=tyk2)}),\n",
       " 'lig_ejm_48': ChemicalSystem(name=lig_ejm_48_complex, components={'ligand': SmallMoleculeComponent(name=lig_ejm_48), 'solvent': SolventComponent(name=O, Na+, Cl-), 'protein': ProteinComponent(name=tyk2)})}"
      ]
     },
     "execution_count": 8,
     "metadata": {},
     "output_type": "execute_result"
    }
   ],
   "source": [
    "complexed = {l.name: openfe.ChemicalSystem(components={'ligand': l,\n",
    "                                                       'solvent': solvent, \n",
    "                                                       'protein': protein}, \n",
    "                                           name=f\"{l.name}_complex\") \n",
    "             for l in ligands}\n",
    "complexed"
   ]
  },
  {
   "cell_type": "code",
   "execution_count": 9,
   "id": "c8a0b60d-bfae-4f99-9f4d-656c982433b9",
   "metadata": {},
   "outputs": [
    {
     "data": {
      "text/plain": [
       "{'lig_ejm_54': ChemicalSystem(name=lig_ejm_54_solvent, components={'ligand': SmallMoleculeComponent(name=lig_ejm_54), 'solvent': SolventComponent(name=O, Na+, Cl-)}),\n",
       " 'lig_jmc_23': ChemicalSystem(name=lig_jmc_23_solvent, components={'ligand': SmallMoleculeComponent(name=lig_jmc_23), 'solvent': SolventComponent(name=O, Na+, Cl-)}),\n",
       " 'lig_ejm_47': ChemicalSystem(name=lig_ejm_47_solvent, components={'ligand': SmallMoleculeComponent(name=lig_ejm_47), 'solvent': SolventComponent(name=O, Na+, Cl-)}),\n",
       " 'lig_jmc_27': ChemicalSystem(name=lig_jmc_27_solvent, components={'ligand': SmallMoleculeComponent(name=lig_jmc_27), 'solvent': SolventComponent(name=O, Na+, Cl-)}),\n",
       " 'lig_ejm_46': ChemicalSystem(name=lig_ejm_46_solvent, components={'ligand': SmallMoleculeComponent(name=lig_ejm_46), 'solvent': SolventComponent(name=O, Na+, Cl-)}),\n",
       " 'lig_ejm_31': ChemicalSystem(name=lig_ejm_31_solvent, components={'ligand': SmallMoleculeComponent(name=lig_ejm_31), 'solvent': SolventComponent(name=O, Na+, Cl-)}),\n",
       " 'lig_ejm_42': ChemicalSystem(name=lig_ejm_42_solvent, components={'ligand': SmallMoleculeComponent(name=lig_ejm_42), 'solvent': SolventComponent(name=O, Na+, Cl-)}),\n",
       " 'lig_ejm_50': ChemicalSystem(name=lig_ejm_50_solvent, components={'ligand': SmallMoleculeComponent(name=lig_ejm_50), 'solvent': SolventComponent(name=O, Na+, Cl-)}),\n",
       " 'lig_ejm_45': ChemicalSystem(name=lig_ejm_45_solvent, components={'ligand': SmallMoleculeComponent(name=lig_ejm_45), 'solvent': SolventComponent(name=O, Na+, Cl-)}),\n",
       " 'lig_jmc_28': ChemicalSystem(name=lig_jmc_28_solvent, components={'ligand': SmallMoleculeComponent(name=lig_jmc_28), 'solvent': SolventComponent(name=O, Na+, Cl-)}),\n",
       " 'lig_ejm_55': ChemicalSystem(name=lig_ejm_55_solvent, components={'ligand': SmallMoleculeComponent(name=lig_ejm_55), 'solvent': SolventComponent(name=O, Na+, Cl-)}),\n",
       " 'lig_ejm_43': ChemicalSystem(name=lig_ejm_43_solvent, components={'ligand': SmallMoleculeComponent(name=lig_ejm_43), 'solvent': SolventComponent(name=O, Na+, Cl-)}),\n",
       " 'lig_ejm_48': ChemicalSystem(name=lig_ejm_48_solvent, components={'ligand': SmallMoleculeComponent(name=lig_ejm_48), 'solvent': SolventComponent(name=O, Na+, Cl-)})}"
      ]
     },
     "execution_count": 9,
     "metadata": {},
     "output_type": "execute_result"
    }
   ],
   "source": [
    "solvated = {l.name: openfe.ChemicalSystem(components={'ligand': l, \n",
    "                                                      'solvent': solvent}, \n",
    "                                          name=f\"{l.name}_solvent\") \n",
    "            for l in ligands}\n",
    "solvated"
   ]
  },
  {
   "cell_type": "markdown",
   "id": "80dd8261-d431-43dd-9439-20c59abce39b",
   "metadata": {},
   "source": [
    "### Define `Transformation`s between `ChemicalSystem`s as network edges"
   ]
  },
  {
   "cell_type": "markdown",
   "id": "b7cabcfe-66c4-48cc-9dfe-e1ec6fb4daa8",
   "metadata": {},
   "source": [
    "A `Transformation` is a directed edge between two `ChemicalSystem`s. It includes a `Protocol` parameterized with `Settings`, and optionally a `ComponentMapping`. \n",
    "\n",
    "The `Protocol` defines the actual computational method used to evaluate the `Transformation` to yield estimates for the free energy difference between the `ChemicalSystem`s.\n",
    "\n",
    "The `ComponentMapping` defines the atom mapping(s) between corresponding `Component`s in the two `ChemicalSystem`s. This is often critical for relative binding free energy calculations, since the choice of mapping can heavily influence convergence of the resulting estimates."
   ]
  },
  {
   "cell_type": "markdown",
   "id": "fae8b80e-1b77-4d64-a967-10f75326647c",
   "metadata": {},
   "source": [
    "#### Define the `Protocol` used for `Transformation` evaluation"
   ]
  },
  {
   "cell_type": "markdown",
   "id": "2101fea6-3fda-4a73-81a0-cea41bb30dc0",
   "metadata": {},
   "source": [
    "For this example, we'll use the same `Protocol` for all our `Transformation`s, with identical `Settings` for each."
   ]
  },
  {
   "cell_type": "code",
   "execution_count": 10,
   "id": "183b23a6-1839-4586-bbbe-60b2defd2f01",
   "metadata": {},
   "outputs": [],
   "source": [
    "from openfe.protocols.openmm_rfe import RelativeHybridTopologyProtocol"
   ]
  },
  {
   "cell_type": "markdown",
   "id": "fb216611-780c-447b-b9d6-b628ba9ea619",
   "metadata": {},
   "source": [
    "Any given `Protocol` has a `default_settings()` method, which can be used to get the default settings that are specific to that `Protocol`:"
   ]
  },
  {
   "cell_type": "code",
   "execution_count": 11,
   "id": "d7bac455-ddc1-4735-96d7-5c6681ab3cbc",
   "metadata": {
    "scrolled": true,
    "tags": []
   },
   "outputs": [
    {
     "data": {
      "text/plain": [
       "{'forcefield_settings': {'constraints': 'hbonds',\n",
       "  'rigid_water': True,\n",
       "  'hydrogen_mass': 3.0,\n",
       "  'forcefields': ['amber/ff14SB.xml',\n",
       "   'amber/tip3p_standard.xml',\n",
       "   'amber/tip3p_HFE_multivalent.xml',\n",
       "   'amber/phosaa10.xml'],\n",
       "  'small_molecule_forcefield': 'openff-2.1.1',\n",
       "  'nonbonded_cutoff': 1.0 <Unit('nanometer')>,\n",
       "  'nonbonded_method': 'PME'},\n",
       " 'thermo_settings': {'temperature': 298.15 <Unit('kelvin')>,\n",
       "  'pressure': 0.9869232667160129 <Unit('standard_atmosphere')>,\n",
       "  'ph': None,\n",
       "  'redox_potential': None},\n",
       " 'protocol_repeats': 3,\n",
       " 'solvation_settings': {'solvent_model': 'tip3p',\n",
       "  'solvent_padding': 1.2 <Unit('nanometer')>},\n",
       " 'partial_charge_settings': {'partial_charge_method': 'am1bcc',\n",
       "  'off_toolkit_backend': 'ambertools',\n",
       "  'number_of_conformers': None,\n",
       "  'nagl_model': None},\n",
       " 'lambda_settings': {'lambda_functions': 'default', 'lambda_windows': 11},\n",
       " 'alchemical_settings': {'softcore_LJ': 'gapsys',\n",
       "  'explicit_charge_correction_cutoff': 0.8 <Unit('nanometer')>,\n",
       "  'endstate_dispersion_correction': False,\n",
       "  'use_dispersion_correction': False,\n",
       "  'softcore_alpha': 0.85,\n",
       "  'turn_off_core_unique_exceptions': False,\n",
       "  'explicit_charge_correction': False},\n",
       " 'simulation_settings': {'equilibration_length': 1.0 <Unit('nanosecond')>,\n",
       "  'production_length': 5.0 <Unit('nanosecond')>,\n",
       "  'minimization_steps': 5000,\n",
       "  'time_per_iteration': 1 <Unit('picosecond')>,\n",
       "  'real_time_analysis_interval': 250 <Unit('picosecond')>,\n",
       "  'early_termination_target_error': 0.0 <Unit('kilocalorie_per_mole')>,\n",
       "  'real_time_analysis_minimum_time': 500 <Unit('picosecond')>,\n",
       "  'sampler_method': 'repex',\n",
       "  'sams_flatness_criteria': 'logZ-flatness',\n",
       "  'sams_gamma0': 1.0,\n",
       "  'n_replicas': 11},\n",
       " 'engine_settings': {'compute_platform': None},\n",
       " 'integrator_settings': {'timestep': 4 <Unit('femtosecond')>,\n",
       "  'langevin_collision_rate': 1.0 <Unit('1 / picosecond')>,\n",
       "  'barostat_frequency': 25 <Unit('timestep')>,\n",
       "  'remove_com': False,\n",
       "  'reassign_velocities': False,\n",
       "  'n_restart_attempts': 20,\n",
       "  'constraint_tolerance': 1e-06},\n",
       " 'output_settings': {'checkpoint_interval': 250 <Unit('picosecond')>,\n",
       "  'forcefield_cache': 'db.json',\n",
       "  'output_indices': 'not water',\n",
       "  'checkpoint_storage_filename': 'checkpoint.chk',\n",
       "  'output_filename': 'simulation.nc',\n",
       "  'output_structure': 'hybrid_system.pdb'}}"
      ]
     },
     "execution_count": 11,
     "metadata": {},
     "output_type": "execute_result"
    }
   ],
   "source": [
    "protocol_settings = RelativeHybridTopologyProtocol.default_settings()\n",
    "protocol_settings.dict()"
   ]
  },
  {
   "cell_type": "code",
   "execution_count": 18,
   "id": "54d04e3c-7602-4b70-8b34-8a47ec5abb29",
   "metadata": {},
   "outputs": [
    {
     "name": "stdout",
     "output_type": "stream",
     "text": [
      "{'alchemical_settings': {'endstate_dispersion_correction': False,\n",
      "                         'explicit_charge_correction': False,\n",
      "                         'explicit_charge_correction_cutoff': <Quantity(0.8, 'nanometer')>,\n",
      "                         'softcore_LJ': 'gapsys',\n",
      "                         'softcore_alpha': 0.85,\n",
      "                         'turn_off_core_unique_exceptions': False,\n",
      "                         'use_dispersion_correction': False},\n",
      " 'engine_settings': {'compute_platform': None},\n",
      " 'forcefield_settings': {'constraints': 'hbonds',\n",
      "                         'forcefields': ['amber/ff14SB.xml',\n",
      "                                         'amber/tip3p_standard.xml',\n",
      "                                         'amber/tip3p_HFE_multivalent.xml',\n",
      "                                         'amber/phosaa10.xml'],\n",
      "                         'hydrogen_mass': 3.0,\n",
      "                         'nonbonded_cutoff': <Quantity(1.0, 'nanometer')>,\n",
      "                         'nonbonded_method': 'PME',\n",
      "                         'rigid_water': True,\n",
      "                         'small_molecule_forcefield': 'openff-2.1.1'},\n",
      " 'integrator_settings': {'barostat_frequency': <Quantity(25, 'timestep')>,\n",
      "                         'constraint_tolerance': 1e-06,\n",
      "                         'langevin_collision_rate': <Quantity(1.0, '1 / picosecond')>,\n",
      "                         'n_restart_attempts': 20,\n",
      "                         'reassign_velocities': False,\n",
      "                         'remove_com': False,\n",
      "                         'timestep': <Quantity(4, 'femtosecond')>},\n",
      " 'lambda_settings': {'lambda_functions': 'default', 'lambda_windows': 11},\n",
      " 'output_settings': {'checkpoint_interval': <Quantity(250, 'picosecond')>,\n",
      "                     'checkpoint_storage_filename': 'checkpoint.chk',\n",
      "                     'forcefield_cache': 'db.json',\n",
      "                     'output_filename': 'simulation.nc',\n",
      "                     'output_indices': 'not water',\n",
      "                     'output_structure': 'hybrid_system.pdb'},\n",
      " 'partial_charge_settings': {'nagl_model': None,\n",
      "                             'number_of_conformers': None,\n",
      "                             'off_toolkit_backend': 'ambertools',\n",
      "                             'partial_charge_method': 'am1bcc'},\n",
      " 'protocol_repeats': 3,\n",
      " 'simulation_settings': {'early_termination_target_error': <Quantity(0.0, 'kilocalorie_per_mole')>,\n",
      "                         'equilibration_length': <Quantity(1.0, 'nanosecond')>,\n",
      "                         'minimization_steps': 5000,\n",
      "                         'n_replicas': 11,\n",
      "                         'production_length': <Quantity(5.0, 'nanosecond')>,\n",
      "                         'real_time_analysis_interval': <Quantity(250, 'picosecond')>,\n",
      "                         'real_time_analysis_minimum_time': <Quantity(500, 'picosecond')>,\n",
      "                         'sampler_method': 'repex',\n",
      "                         'sams_flatness_criteria': 'logZ-flatness',\n",
      "                         'sams_gamma0': 1.0,\n",
      "                         'time_per_iteration': <Quantity(1, 'picosecond')>},\n",
      " 'solvation_settings': {'solvent_model': 'tip3p',\n",
      "                        'solvent_padding': <Quantity(1.2, 'nanometer')>},\n",
      " 'thermo_settings': {'ph': None,\n",
      "                     'pressure': <Quantity(0.986923267, 'standard_atmosphere')>,\n",
      "                     'redox_potential': None,\n",
      "                     'temperature': <Quantity(298.15, 'kelvin')>}}\n"
     ]
    }
   ],
   "source": [
    "protocol_settings"
   ]
  },
  {
   "cell_type": "code",
   "execution_count": 20,
   "id": "c38305b0-879f-43b3-ba13-b010e478d2eb",
   "metadata": {},
   "outputs": [],
   "source": [
    "# Here we make it so that each simulation only features a single repeat\n",
    "# We then do multiple repeats by running each simulation multiple times\n",
    "protocol_settings.protocol_repeats = 1"
   ]
  },
  {
   "cell_type": "markdown",
   "id": "3e2e440e-885d-4109-a845-8b7d96a35e60",
   "metadata": {},
   "source": [
    "We can now produce a parameterized `RelativeHybridTopologyProtocol` instance:"
   ]
  },
  {
   "cell_type": "code",
   "execution_count": 21,
   "id": "bd1d0a0d-00c9-44a1-820c-186b4ee05334",
   "metadata": {},
   "outputs": [],
   "source": [
    "protocol = RelativeHybridTopologyProtocol(protocol_settings)"
   ]
  },
  {
   "cell_type": "markdown",
   "id": "653a8d2f-a693-4ac1-99be-ece310f127e6",
   "metadata": {},
   "source": [
    "#### Build the `Transformation`s"
   ]
  },
  {
   "cell_type": "markdown",
   "id": "c25fc59b-8cf8-48ca-81e9-15ffbdf2a16d",
   "metadata": {},
   "source": [
    "We can now construct the `Transformation`s we want represented in our network.\n",
    "\n",
    "We'll use `openfe`'s implementation of the `LomapAtomMapper` to produce mappings between ligands, the default LOMAP scorer for assessing the quality of the mappings produced, and the minimal spanning tree network planner. However, you could use any network planner of your choice to generate the network connections and mappings and use those instead."
   ]
  },
  {
   "cell_type": "code",
   "execution_count": 22,
   "id": "a5bcca4e",
   "metadata": {},
   "outputs": [],
   "source": [
    "mapper = openfe.LomapAtomMapper(max3d=1.0, element_change=True)\n",
    "scorer = openfe.lomap_scorers.default_lomap_score\n",
    "network_planner = openfe.ligand_network_planning.generate_minimal_spanning_network"
   ]
  },
  {
   "cell_type": "code",
   "execution_count": 23,
   "id": "cad6ecf6",
   "metadata": {},
   "outputs": [
    {
     "data": {
      "application/vnd.jupyter.widget-view+json": {
       "model_id": "81b932ea9a8d4333951fe37ecc0339fd",
       "version_major": 2,
       "version_minor": 0
      },
      "text/plain": [
       " 88%|########8 | 69/78 [00:01<00:00, 45.56it/s]"
      ]
     },
     "metadata": {},
     "output_type": "display_data"
    }
   ],
   "source": [
    "# Note creating a minimum spanning tree requires an all-to-all mapping generation\n",
    "# This can be quite time consuming...\n",
    "ligand_network = network_planner(\n",
    "    ligands=ligands,\n",
    "    mappers=[mapper],\n",
    "    scorer=scorer\n",
    ")"
   ]
  },
  {
   "cell_type": "code",
   "execution_count": 25,
   "id": "03b66822-212a-4522-bbbb-5f7cdc99213d",
   "metadata": {},
   "outputs": [
    {
     "data": {
      "image/png": "[encoded data removed]",
      "text/plain": [
       "<Figure size 800x800 with 1 Axes>"
      ]
     },
     "execution_count": 25,
     "metadata": {},
     "output_type": "execute_result"
    }
   ],
   "source": [
    "from openfe.utils.atommapping_network_plotting import plot_atommapping_network\n",
    "plot_atommapping_network(ligand_network)"
   ]
  },
  {
   "cell_type": "markdown",
   "id": "e2a0653d-ef78-4c69-b9b7-962eb47329db",
   "metadata": {},
   "source": [
    "Since we are planning to perform relative binding free energy (RBFE) calculations, we'll define both *complex* and *solvent* variants for each `Transformation`:"
   ]
  },
  {
   "cell_type": "code",
   "execution_count": 26,
   "id": "56ab9012-7fed-4a57-9433-970f1b5c92cf",
   "metadata": {},
   "outputs": [
    {
     "name": "stdout",
     "output_type": "stream",
     "text": [
      "lig_ejm_46 lig_ejm_31\n",
      "lig_ejm_55 lig_ejm_43\n",
      "lig_ejm_31 lig_ejm_50\n",
      "lig_ejm_31 lig_ejm_48\n",
      "lig_ejm_47 lig_ejm_31\n",
      "lig_ejm_42 lig_ejm_50\n",
      "lig_jmc_23 lig_ejm_46\n",
      "lig_ejm_42 lig_ejm_43\n",
      "lig_jmc_23 lig_jmc_28\n",
      "lig_jmc_27 lig_jmc_28\n",
      "lig_ejm_54 lig_ejm_55\n",
      "lig_ejm_31 lig_ejm_45\n"
     ]
    }
   ],
   "source": [
    "for mapping in ligand_network.edges:\n",
    "    print(mapping.componentA.name, mapping.componentB.name)"
   ]
  },
  {
   "cell_type": "code",
   "execution_count": 27,
   "id": "f3379b4a",
   "metadata": {},
   "outputs": [],
   "source": [
    "complexed_transformations = []\n",
    "solvated_transformations = []\n",
    "\n",
    "for mapping in ligand_network.edges:\n",
    "    ligA_name = mapping.componentA.name\n",
    "    ligB_name = mapping.componentB.name\n",
    "    \n",
    "    ligA = complexed[ligA_name]['ligand']\n",
    "    ligB = complexed[ligB_name]['ligand']\n",
    "        \n",
    "    complexed_transformations.append(\n",
    "        openfe.Transformation(stateA=complexed[ligA_name], \n",
    "                              stateB=complexed[ligB_name], \n",
    "                              mapping={'ligand': mapping},\n",
    "                              protocol=protocol,\n",
    "                              name=f\"{complexed[ligA_name].name}->{complexed[ligB_name].name}\")\n",
    "    )\n",
    "    solvated_transformations.append(\n",
    "        openfe.Transformation(stateA=solvated[ligA_name], \n",
    "                              stateB=solvated[ligB_name], \n",
    "                              mapping={'ligand': mapping},\n",
    "                              protocol=protocol,\n",
    "                              name=f\"{solvated[ligA_name].name}->{solvated[ligB_name].name}\")\n",
    "    )"
   ]
  },
  {
   "cell_type": "markdown",
   "id": "3789edec-beaf-4bae-903b-da35910f848e",
   "metadata": {},
   "source": [
    "### Create the `AlchemicalNetwork`"
   ]
  },
  {
   "cell_type": "markdown",
   "id": "618d399e-d66a-499e-b43a-684b5e1b8ec5",
   "metadata": {},
   "source": [
    "An `AlchemicalNetwork` is simply the combination of `ChemicalSystem`s (nodes) and `Transformation`s (directed edges) that we want to evaluate $\\Delta G$s for. This data structure functions as a declaration of what you want to compute.\n",
    "\n",
    "We'll finish here by creating an `AlchemicalNetwork` from the collection of objects we've built so far."
   ]
  },
  {
   "cell_type": "code",
   "execution_count": 28,
   "id": "b45baada-efa4-46f7-a2cb-6e24a9309f1e",
   "metadata": {},
   "outputs": [
    {
     "data": {
      "text/plain": [
       "<AlchemicalNetwork-901e26f212324c47939436bc9b64a964>"
      ]
     },
     "execution_count": 28,
     "metadata": {},
     "output_type": "execute_result"
    }
   ],
   "source": [
    "network = openfe.AlchemicalNetwork(edges=(solvated_transformations + complexed_transformations), \n",
    "                                   nodes=(list(solvated.values()) + list(complexed.values())),\n",
    "                                   name=\"tyk2_relative_benchmark\")\n",
    "network"
   ]
  },
  {
   "cell_type": "markdown",
   "id": "378a3bf0-7a45-4e70-84a5-49c850a1d441",
   "metadata": {},
   "source": [
    "That's it! We simply toss in all `Transformation`s (edges) and `ChemicalSystem`s (nodes) we want included in this `AlchemicalNetwork`, and optionally give it a name that means something to us (it need not be unique, but can be used to query for network(s) later)."
   ]
  },
  {
   "cell_type": "markdown",
   "id": "dcc15882-61ab-44d1-9eb1-378901063f72",
   "metadata": {},
   "source": [
    "We could have chosen here to leave the `nodes` argument off, since every `ChemicalSystem` we included was already represented among the `edges`, but we show it here for completeness. In this way, it's possible to include `ChemicalSystem`s in the network that aren't connected via any `Transformation`s to others, though in practice there isn't much utility in this."
   ]
  },
  {
   "cell_type": "markdown",
   "id": "2e9e4afd-f64b-406b-898e-4b8dcd2483ec",
   "metadata": {},
   "source": [
    "## Submitting an `AlchemicalNetwork` to `alchemiscale`"
   ]
  },
  {
   "cell_type": "code",
   "execution_count": 29,
   "id": "4471ecb9-5e58-40b2-b959-9c1a04cbda72",
   "metadata": {},
   "outputs": [
    {
     "name": "stdout",
     "output_type": "stream",
     "text": [
      "alchemiscale version:  0.5.0\n"
     ]
    }
   ],
   "source": [
    "import alchemiscale\n",
    "print(\"alchemiscale version: \", alchemiscale.__version__)"
   ]
  },
  {
   "cell_type": "code",
   "execution_count": 30,
   "id": "c09991ea-bb8f-4907-9c99-94d5fe9c3714",
   "metadata": {},
   "outputs": [],
   "source": [
    "from alchemiscale import AlchemiscaleClient, Scope, ScopedKey\n",
    "from getpass import getpass"
   ]
  },
  {
   "cell_type": "code",
   "execution_count": 31,
   "id": "03b860de-8cf7-4ec3-909f-708ab2165a7a",
   "metadata": {},
   "outputs": [
    {
     "name": "stdin",
     "output_type": "stream",
     "text": [
      " ········\n"
     ]
    }
   ],
   "source": [
    "identity_key = getpass()"
   ]
  },
  {
   "cell_type": "code",
   "execution_count": 32,
   "id": "544ba62a-68c2-42e4-98b2-a9067ab643ef",
   "metadata": {},
   "outputs": [
    {
     "data": {
      "text/plain": [
       "AlchemiscaleClient('https://api.alchemiscale.org')"
      ]
     },
     "execution_count": 32,
     "metadata": {},
     "output_type": "execute_result"
    }
   ],
   "source": [
    "asc = AlchemiscaleClient('https://api.alchemiscale.org', 'ddotson', identity_key)\n",
    "asc"
   ]
  },
  {
   "cell_type": "code",
   "execution_count": 33,
   "id": "a124d7ec-fb70-4194-b26c-ba57293c27ae",
   "metadata": {},
   "outputs": [
    {
     "data": {
      "text/plain": [
       "[<Scope('*-*-*')>]"
      ]
     },
     "execution_count": 33,
     "metadata": {},
     "output_type": "execute_result"
    }
   ],
   "source": [
    "asc.list_scopes()"
   ]
  },
  {
   "cell_type": "code",
   "execution_count": 34,
   "id": "8a44648f-fc45-4bd1-8ce0-b12445f1f453",
   "metadata": {},
   "outputs": [
    {
     "data": {
      "text/plain": [
       "[]"
      ]
     },
     "execution_count": 34,
     "metadata": {},
     "output_type": "execute_result"
    }
   ],
   "source": [
    "asc.query_networks(scope=Scope('ddotson'))"
   ]
  },
  {
   "cell_type": "markdown",
   "id": "042e6f29-0409-48d8-86a0-92b70fa30d87",
   "metadata": {},
   "source": [
    "`AlchemicalNetwork`s and the objects associated with them live in a *specific* `Scope`. Because my user identity is able to use any `Scope` from the above (`'*-*-*'`), I can choose whatever I want. `AlchemicalNetwork`s submitted to the same `Scope` will share `Transformation`s they have in common, along with results for those `Transformation`s; `AlchemicalNetwork`s in different `Scope`s will share nothing.\n",
    "\n",
    "How you choose to use the `Scope`s you have access to is entirely up to you. I'll choose this is my `Scope` for this network:"
   ]
  },
  {
   "cell_type": "code",
   "execution_count": 35,
   "id": "194b7484-2db0-4255-84e6-dabe220ff455",
   "metadata": {},
   "outputs": [],
   "source": [
    "scope = Scope('ddotson', 'tyk2', 'demo')"
   ]
  },
  {
   "cell_type": "markdown",
   "id": "ba9519cd-380a-4f92-99fb-799735ae835b",
   "metadata": {},
   "source": [
    "And then we'll submit the `AlchemicalNetwork` to that `Scope` with:"
   ]
  },
  {
   "cell_type": "code",
   "execution_count": 36,
   "id": "503a72fb-7d6a-4206-a34b-4f696880b148",
   "metadata": {},
   "outputs": [
    {
     "data": {
      "application/vnd.jupyter.widget-view+json": {
       "model_id": "6dbc2f0a1b134571bae417ab2cef51d2",
       "version_major": 2,
       "version_minor": 0
      },
      "text/plain": [
       "Output()"
      ]
     },
     "metadata": {},
     "output_type": "display_data"
    },
    {
     "data": {
      "text/html": [
       "<pre style=\"white-space:pre;overflow-x:auto;line-height:normal;font-family:Menlo,'DejaVu Sans Mono',consolas,'Courier New',monospace\"></pre>\n"
      ],
      "text/plain": []
     },
     "metadata": {},
     "output_type": "display_data"
    }
   ],
   "source": [
    "an_sk = asc.create_network(network, scope)"
   ]
  },
  {
   "cell_type": "markdown",
   "id": "a4fd3102-06f5-4da5-92c5-364ab0b9f625",
   "metadata": {},
   "source": [
    "We get back a `ScopedKey` for the `AlchemicalNetwork:"
   ]
  },
  {
   "cell_type": "code",
   "execution_count": 37,
   "id": "57928257-eea8-43dd-8899-bde7550eac46",
   "metadata": {},
   "outputs": [
    {
     "data": {
      "text/plain": [
       "<ScopedKey('AlchemicalNetwork-6f22642592f789c4e7f918412ca947c5-ddotson-tyk2-demo')>"
      ]
     },
     "execution_count": 37,
     "metadata": {},
     "output_type": "execute_result"
    }
   ],
   "source": [
    "an_sk"
   ]
  },
  {
   "cell_type": "markdown",
   "id": "000921f6-9ad4-4f15-90df-7caf71534429",
   "metadata": {},
   "source": [
    "This uniquely identifies the `AlchemicalNetwork` in the database, and allows us to perform operations later on it. We can get the `ScopedKey`s for all `AlchemicalNetwork`s that exist in `Scope`s accessible to us with:"
   ]
  },
  {
   "cell_type": "code",
   "execution_count": 38,
   "id": "89a4302b-1f3e-4aef-b20d-09ea763d9c80",
   "metadata": {},
   "outputs": [
    {
     "data": {
      "text/plain": [
       "[<ScopedKey('AlchemicalNetwork-6f22642592f789c4e7f918412ca947c5-ddotson-tyk2-demo')>]"
      ]
     },
     "execution_count": 38,
     "metadata": {},
     "output_type": "execute_result"
    }
   ],
   "source": [
    "asc.query_networks(scope=Scope('ddotson'))"
   ]
  },
  {
   "cell_type": "markdown",
   "id": "ee000fb8-f2e5-49c0-9f10-307eb1bff372",
   "metadata": {},
   "source": [
    "We can likewise retrieve an `AlchemicalNetwork` that we previously submitted with:"
   ]
  },
  {
   "cell_type": "code",
   "execution_count": 39,
   "id": "0ee299eb-c5a4-4802-90ed-4096baf6ecd3",
   "metadata": {},
   "outputs": [
    {
     "data": {
      "application/vnd.jupyter.widget-view+json": {
       "model_id": "ff0bf3a744b9489faa1794cc93dbe3f0",
       "version_major": 2,
       "version_minor": 0
      },
      "text/plain": [
       "Output()"
      ]
     },
     "metadata": {},
     "output_type": "display_data"
    },
    {
     "data": {
      "text/html": [
       "<pre style=\"white-space:pre;overflow-x:auto;line-height:normal;font-family:Menlo,'DejaVu Sans Mono',consolas,'Courier New',monospace\"></pre>\n"
      ],
      "text/plain": []
     },
     "metadata": {},
     "output_type": "display_data"
    }
   ],
   "source": [
    "network_again = asc.get_network(an_sk)"
   ]
  },
  {
   "cell_type": "markdown",
   "id": "9e9b4910-873b-4c1b-b57e-be61f22ff90a",
   "metadata": {},
   "source": [
    "## Executing `Transformation`s by creating and actioning `Task`s"
   ]
  },
  {
   "attachments": {},
   "cell_type": "markdown",
   "id": "c3fa6874-78a2-41fb-a68d-235e15f2d21e",
   "metadata": {},
   "source": [
    "Submitting an `AlchemicalNetwork` with `create_network` only defines it on the server; it does not initiate any calculations. For this, we need to create and action `Task`s.\n",
    "\n",
    "To obtain a free energy estimate $\\Delta G$ for each `Transformation` in the `AlchemicalNetwork`, we'll create a `Task` for each one:"
   ]
  },
  {
   "cell_type": "code",
   "execution_count": null,
   "id": "1e3f0956-5dc2-411b-8a57-1d73507f26fb",
   "metadata": {},
   "outputs": [],
   "source": [
    "tf_sks = asc.get_network_transformations(an_sk)\n",
    "tasks = asc.create_transformations_tasks(tf_sks)"
   ]
  },
  {
   "cell_type": "code",
   "execution_count": 44,
   "id": "e2033823-6d61-4d04-839a-79b2cbd1e11e",
   "metadata": {},
   "outputs": [
    {
     "data": {
      "text/plain": [
       "[<ScopedKey('Task-ef9ccf8712d6458582e075a5be87d06e-ddotson-tyk2-demo')>,\n",
       " <ScopedKey('Task-f6a91ccc6f9e4bcbace3331a0109c9da-ddotson-tyk2-demo')>,\n",
       " <ScopedKey('Task-cccc389fc316494994cb6c8f834aa006-ddotson-tyk2-demo')>,\n",
       " <ScopedKey('Task-6205c49da54647a491ae11bce9105288-ddotson-tyk2-demo')>,\n",
       " <ScopedKey('Task-7003ead7ec9a4ff18965067add5e80fb-ddotson-tyk2-demo')>,\n",
       " <ScopedKey('Task-de763d3ed6f045f596e96373ae231cfd-ddotson-tyk2-demo')>,\n",
       " <ScopedKey('Task-a2505069149d47738f2b30a47f24d860-ddotson-tyk2-demo')>,\n",
       " <ScopedKey('Task-eee82adb878f4701bd61ce765abc5da6-ddotson-tyk2-demo')>,\n",
       " <ScopedKey('Task-4e9d22efa6364a96854fd2e45dfe1939-ddotson-tyk2-demo')>,\n",
       " <ScopedKey('Task-3fade5ba936a4d1fb967c695137aa210-ddotson-tyk2-demo')>,\n",
       " <ScopedKey('Task-320fc3cb408a4e5d9cea7304cf73d7f1-ddotson-tyk2-demo')>,\n",
       " <ScopedKey('Task-191cb8e4a03c4595a249cf1b7b8771db-ddotson-tyk2-demo')>,\n",
       " <ScopedKey('Task-112dcba14c0342fba611c9079c0c6004-ddotson-tyk2-demo')>,\n",
       " <ScopedKey('Task-1200e42c2a8a4d43b1ae39528cb48e8d-ddotson-tyk2-demo')>,\n",
       " <ScopedKey('Task-35577a6ccebc44f58a129f0ad061d7b7-ddotson-tyk2-demo')>,\n",
       " <ScopedKey('Task-859860913fa54db68d28ed2e2ec7e494-ddotson-tyk2-demo')>,\n",
       " <ScopedKey('Task-0d67a73e932f47a094e9c1111a0833bc-ddotson-tyk2-demo')>,\n",
       " <ScopedKey('Task-5e85cac6182b48258d572d037b52bc71-ddotson-tyk2-demo')>,\n",
       " <ScopedKey('Task-6ec4facb5ba54ebaa9905bacb0e39a5c-ddotson-tyk2-demo')>,\n",
       " <ScopedKey('Task-91e70ed59c084d3388df9009ab1553e2-ddotson-tyk2-demo')>,\n",
       " <ScopedKey('Task-21b0cba98a594da4a15f02c5ab20ed62-ddotson-tyk2-demo')>,\n",
       " <ScopedKey('Task-ce83f523df324508a6e6cfbce1c34393-ddotson-tyk2-demo')>,\n",
       " <ScopedKey('Task-acbad8588c5b4f0c962f347785277c94-ddotson-tyk2-demo')>,\n",
       " <ScopedKey('Task-e8d59e999687420e94a9afc201a14861-ddotson-tyk2-demo')>]"
      ]
     },
     "execution_count": 44,
     "metadata": {},
     "output_type": "execute_result"
    }
   ],
   "source": [
    "tasks"
   ]
  },
  {
   "cell_type": "markdown",
   "id": "51330a08-330e-48ea-a779-fc012147068f",
   "metadata": {},
   "source": [
    "Now checking the `AlchemicalNetwork` status, we see 24 `Task`s `'waiting'`, 1 for each `Transformation`:"
   ]
  },
  {
   "cell_type": "code",
   "execution_count": 45,
   "id": "728c5157-ff6c-4fb7-9925-418b00a7823a",
   "metadata": {},
   "outputs": [
    {
     "data": {
      "text/html": [
       "<pre style=\"white-space:pre;overflow-x:auto;line-height:normal;font-family:Menlo,'DejaVu Sans Mono',consolas,'Courier New',monospace\"><span style=\"font-style: italic\">AlchemicalNetwork-6f22642592f789c4e7f918412ca947c5-ddotson-tyk2-demo                                               </span>\n",
       "┏━━━━━━━━━━━━━━━━━━━━━━━━━━━━━━━━━━━━━━━━━━━━━━━━━━━━━━━━━━━━━━━━━━┳━━━━━━━━━━━━━━━━━━━━━━━━━━━━━━━━━━━━━━━━━━━━━━┓\n",
       "┃<span style=\"font-weight: bold\"> status                                                           </span>┃<span style=\"font-weight: bold\">                                        count </span>┃\n",
       "┡━━━━━━━━━━━━━━━━━━━━━━━━━━━━━━━━━━━━━━━━━━━━━━━━━━━━━━━━━━━━━━━━━━╇━━━━━━━━━━━━━━━━━━━━━━━━━━━━━━━━━━━━━━━━━━━━━━┩\n",
       "│<span style=\"color: #008000; text-decoration-color: #008000\"> complete                                                         </span>│<span style=\"color: #008000; text-decoration-color: #008000\">                                            0 </span>│\n",
       "│<span style=\"color: #d78700; text-decoration-color: #d78700\"> running                                                          </span>│<span style=\"color: #d78700; text-decoration-color: #d78700\">                                            0 </span>│\n",
       "│<span style=\"color: #1793d0; text-decoration-color: #1793d0\"> waiting                                                          </span>│<span style=\"color: #1793d0; text-decoration-color: #1793d0\">                                           24 </span>│\n",
       "│<span style=\"color: #ff073a; text-decoration-color: #ff073a\"> error                                                            </span>│<span style=\"color: #ff073a; text-decoration-color: #ff073a\">                                            0 </span>│\n",
       "│<span style=\"color: #ff00ff; text-decoration-color: #ff00ff\"> invalid                                                          </span>│<span style=\"color: #ff00ff; text-decoration-color: #ff00ff\">                                            0 </span>│\n",
       "│<span style=\"color: #af00ff; text-decoration-color: #af00ff\"> deleted                                                          </span>│<span style=\"color: #af00ff; text-decoration-color: #af00ff\">                                            0 </span>│\n",
       "└──────────────────────────────────────────────────────────────────┴──────────────────────────────────────────────┘\n",
       "</pre>\n"
      ],
      "text/plain": [
       "\u001b[3mAlchemicalNetwork-6f22642592f789c4e7f918412ca947c5-ddotson-tyk2-demo                                               \u001b[0m\n",
       "┏━━━━━━━━━━━━━━━━━━━━━━━━━━━━━━━━━━━━━━━━━━━━━━━━━━━━━━━━━━━━━━━━━━┳━━━━━━━━━━━━━━━━━━━━━━━━━━━━━━━━━━━━━━━━━━━━━━┓\n",
       "┃\u001b[1m \u001b[0m\u001b[1mstatus                                                          \u001b[0m\u001b[1m \u001b[0m┃\u001b[1m \u001b[0m\u001b[1m                                       count\u001b[0m\u001b[1m \u001b[0m┃\n",
       "┡━━━━━━━━━━━━━━━━━━━━━━━━━━━━━━━━━━━━━━━━━━━━━━━━━━━━━━━━━━━━━━━━━━╇━━━━━━━━━━━━━━━━━━━━━━━━━━━━━━━━━━━━━━━━━━━━━━┩\n",
       "│\u001b[32m \u001b[0m\u001b[32mcomplete                                                        \u001b[0m\u001b[32m \u001b[0m│\u001b[32m \u001b[0m\u001b[32m                                           0\u001b[0m\u001b[32m \u001b[0m│\n",
       "│\u001b[38;5;172m \u001b[0m\u001b[38;5;172mrunning                                                         \u001b[0m\u001b[38;5;172m \u001b[0m│\u001b[38;5;172m \u001b[0m\u001b[38;5;172m                                           0\u001b[0m\u001b[38;5;172m \u001b[0m│\n",
       "│\u001b[38;2;23;147;208m \u001b[0m\u001b[38;2;23;147;208mwaiting                                                         \u001b[0m\u001b[38;2;23;147;208m \u001b[0m│\u001b[38;2;23;147;208m \u001b[0m\u001b[38;2;23;147;208m                                          24\u001b[0m\u001b[38;2;23;147;208m \u001b[0m│\n",
       "│\u001b[38;2;255;7;58m \u001b[0m\u001b[38;2;255;7;58merror                                                           \u001b[0m\u001b[38;2;255;7;58m \u001b[0m│\u001b[38;2;255;7;58m \u001b[0m\u001b[38;2;255;7;58m                                           0\u001b[0m\u001b[38;2;255;7;58m \u001b[0m│\n",
       "│\u001b[38;5;201m \u001b[0m\u001b[38;5;201minvalid                                                         \u001b[0m\u001b[38;5;201m \u001b[0m│\u001b[38;5;201m \u001b[0m\u001b[38;5;201m                                           0\u001b[0m\u001b[38;5;201m \u001b[0m│\n",
       "│\u001b[38;5;129m \u001b[0m\u001b[38;5;129mdeleted                                                         \u001b[0m\u001b[38;5;129m \u001b[0m│\u001b[38;5;129m \u001b[0m\u001b[38;5;129m                                           0\u001b[0m\u001b[38;5;129m \u001b[0m│\n",
       "└──────────────────────────────────────────────────────────────────┴──────────────────────────────────────────────┘\n"
      ]
     },
     "metadata": {},
     "output_type": "display_data"
    },
    {
     "data": {
      "text/plain": [
       "{'waiting': 24}"
      ]
     },
     "execution_count": 45,
     "metadata": {},
     "output_type": "execute_result"
    }
   ],
   "source": [
    "asc.get_network_status(an_sk)"
   ]
  },
  {
   "cell_type": "markdown",
   "id": "c4c4129f-e679-4364-ad6a-f158d246df2c",
   "metadata": {},
   "source": [
    "But there is one more step: `Task`s must also be *actioned* on the `AlchemicalNetwork` in order to be picked up by compute services:"
   ]
  },
  {
   "cell_type": "code",
   "execution_count": 46,
   "id": "9c849250-8f08-4cc2-b32d-213392efb2e4",
   "metadata": {},
   "outputs": [
    {
     "data": {
      "text/plain": [
       "[<ScopedKey('Task-ef9ccf8712d6458582e075a5be87d06e-ddotson-tyk2-demo')>,\n",
       " <ScopedKey('Task-f6a91ccc6f9e4bcbace3331a0109c9da-ddotson-tyk2-demo')>,\n",
       " <ScopedKey('Task-cccc389fc316494994cb6c8f834aa006-ddotson-tyk2-demo')>,\n",
       " <ScopedKey('Task-6205c49da54647a491ae11bce9105288-ddotson-tyk2-demo')>,\n",
       " <ScopedKey('Task-7003ead7ec9a4ff18965067add5e80fb-ddotson-tyk2-demo')>,\n",
       " <ScopedKey('Task-de763d3ed6f045f596e96373ae231cfd-ddotson-tyk2-demo')>,\n",
       " <ScopedKey('Task-a2505069149d47738f2b30a47f24d860-ddotson-tyk2-demo')>,\n",
       " <ScopedKey('Task-eee82adb878f4701bd61ce765abc5da6-ddotson-tyk2-demo')>,\n",
       " <ScopedKey('Task-4e9d22efa6364a96854fd2e45dfe1939-ddotson-tyk2-demo')>,\n",
       " <ScopedKey('Task-3fade5ba936a4d1fb967c695137aa210-ddotson-tyk2-demo')>,\n",
       " <ScopedKey('Task-320fc3cb408a4e5d9cea7304cf73d7f1-ddotson-tyk2-demo')>,\n",
       " <ScopedKey('Task-191cb8e4a03c4595a249cf1b7b8771db-ddotson-tyk2-demo')>,\n",
       " <ScopedKey('Task-112dcba14c0342fba611c9079c0c6004-ddotson-tyk2-demo')>,\n",
       " <ScopedKey('Task-1200e42c2a8a4d43b1ae39528cb48e8d-ddotson-tyk2-demo')>,\n",
       " <ScopedKey('Task-35577a6ccebc44f58a129f0ad061d7b7-ddotson-tyk2-demo')>,\n",
       " <ScopedKey('Task-859860913fa54db68d28ed2e2ec7e494-ddotson-tyk2-demo')>,\n",
       " <ScopedKey('Task-0d67a73e932f47a094e9c1111a0833bc-ddotson-tyk2-demo')>,\n",
       " <ScopedKey('Task-5e85cac6182b48258d572d037b52bc71-ddotson-tyk2-demo')>,\n",
       " <ScopedKey('Task-6ec4facb5ba54ebaa9905bacb0e39a5c-ddotson-tyk2-demo')>,\n",
       " <ScopedKey('Task-91e70ed59c084d3388df9009ab1553e2-ddotson-tyk2-demo')>,\n",
       " <ScopedKey('Task-21b0cba98a594da4a15f02c5ab20ed62-ddotson-tyk2-demo')>,\n",
       " <ScopedKey('Task-ce83f523df324508a6e6cfbce1c34393-ddotson-tyk2-demo')>,\n",
       " <ScopedKey('Task-acbad8588c5b4f0c962f347785277c94-ddotson-tyk2-demo')>,\n",
       " <ScopedKey('Task-e8d59e999687420e94a9afc201a14861-ddotson-tyk2-demo')>]"
      ]
     },
     "execution_count": 46,
     "metadata": {},
     "output_type": "execute_result"
    }
   ],
   "source": [
    "asc.action_tasks(tasks, an_sk)"
   ]
  },
  {
   "cell_type": "markdown",
   "id": "27535465-9080-405c-9533-409d3f00b859",
   "metadata": {},
   "source": [
    "The reason for this extra step is that a given `Transformation` may be a member of *multiple* `AlchemicalNetwork`s in its `Scope`. Computational effort is independently allocated on each `AlchemicalNetwork` through its *actioned* `Task`s, and these can differ between `AlchemicalNetwork`s in the same `Scope`. In the future, automated `Strategy`s will operate on individual `AlchemicalNetwork`s, and this ability to independently choose where to apply effort is critical for this."
   ]
  },
  {
   "cell_type": "markdown",
   "id": "f0f03f45-3766-4258-a025-a786affb7ad8",
   "metadata": {},
   "source": [
    "After *actioning* our `Task`s, we can see that some have been picked up and are now `'running'`:"
   ]
  },
  {
   "cell_type": "code",
   "execution_count": 47,
   "id": "d1a27b3f-e2e3-4501-b1cc-e475ccc6a24b",
   "metadata": {},
   "outputs": [
    {
     "data": {
      "text/html": [
       "<pre style=\"white-space:pre;overflow-x:auto;line-height:normal;font-family:Menlo,'DejaVu Sans Mono',consolas,'Courier New',monospace\"><span style=\"font-style: italic\">AlchemicalNetwork-6f22642592f789c4e7f918412ca947c5-ddotson-tyk2-demo                                               </span>\n",
       "┏━━━━━━━━━━━━━━━━━━━━━━━━━━━━━━━━━━━━━━━━━━━━━━━━━━━━━━━━━━━━━━━━━━┳━━━━━━━━━━━━━━━━━━━━━━━━━━━━━━━━━━━━━━━━━━━━━━┓\n",
       "┃<span style=\"font-weight: bold\"> status                                                           </span>┃<span style=\"font-weight: bold\">                                        count </span>┃\n",
       "┡━━━━━━━━━━━━━━━━━━━━━━━━━━━━━━━━━━━━━━━━━━━━━━━━━━━━━━━━━━━━━━━━━━╇━━━━━━━━━━━━━━━━━━━━━━━━━━━━━━━━━━━━━━━━━━━━━━┩\n",
       "│<span style=\"color: #008000; text-decoration-color: #008000\"> complete                                                         </span>│<span style=\"color: #008000; text-decoration-color: #008000\">                                            0 </span>│\n",
       "│<span style=\"color: #d78700; text-decoration-color: #d78700\"> running                                                          </span>│<span style=\"color: #d78700; text-decoration-color: #d78700\">                                            0 </span>│\n",
       "│<span style=\"color: #1793d0; text-decoration-color: #1793d0\"> waiting                                                          </span>│<span style=\"color: #1793d0; text-decoration-color: #1793d0\">                                           24 </span>│\n",
       "│<span style=\"color: #ff073a; text-decoration-color: #ff073a\"> error                                                            </span>│<span style=\"color: #ff073a; text-decoration-color: #ff073a\">                                            0 </span>│\n",
       "│<span style=\"color: #ff00ff; text-decoration-color: #ff00ff\"> invalid                                                          </span>│<span style=\"color: #ff00ff; text-decoration-color: #ff00ff\">                                            0 </span>│\n",
       "│<span style=\"color: #af00ff; text-decoration-color: #af00ff\"> deleted                                                          </span>│<span style=\"color: #af00ff; text-decoration-color: #af00ff\">                                            0 </span>│\n",
       "└──────────────────────────────────────────────────────────────────┴──────────────────────────────────────────────┘\n",
       "</pre>\n"
      ],
      "text/plain": [
       "\u001b[3mAlchemicalNetwork-6f22642592f789c4e7f918412ca947c5-ddotson-tyk2-demo                                               \u001b[0m\n",
       "┏━━━━━━━━━━━━━━━━━━━━━━━━━━━━━━━━━━━━━━━━━━━━━━━━━━━━━━━━━━━━━━━━━━┳━━━━━━━━━━━━━━━━━━━━━━━━━━━━━━━━━━━━━━━━━━━━━━┓\n",
       "┃\u001b[1m \u001b[0m\u001b[1mstatus                                                          \u001b[0m\u001b[1m \u001b[0m┃\u001b[1m \u001b[0m\u001b[1m                                       count\u001b[0m\u001b[1m \u001b[0m┃\n",
       "┡━━━━━━━━━━━━━━━━━━━━━━━━━━━━━━━━━━━━━━━━━━━━━━━━━━━━━━━━━━━━━━━━━━╇━━━━━━━━━━━━━━━━━━━━━━━━━━━━━━━━━━━━━━━━━━━━━━┩\n",
       "│\u001b[32m \u001b[0m\u001b[32mcomplete                                                        \u001b[0m\u001b[32m \u001b[0m│\u001b[32m \u001b[0m\u001b[32m                                           0\u001b[0m\u001b[32m \u001b[0m│\n",
       "│\u001b[38;5;172m \u001b[0m\u001b[38;5;172mrunning                                                         \u001b[0m\u001b[38;5;172m \u001b[0m│\u001b[38;5;172m \u001b[0m\u001b[38;5;172m                                           0\u001b[0m\u001b[38;5;172m \u001b[0m│\n",
       "│\u001b[38;2;23;147;208m \u001b[0m\u001b[38;2;23;147;208mwaiting                                                         \u001b[0m\u001b[38;2;23;147;208m \u001b[0m│\u001b[38;2;23;147;208m \u001b[0m\u001b[38;2;23;147;208m                                          24\u001b[0m\u001b[38;2;23;147;208m \u001b[0m│\n",
       "│\u001b[38;2;255;7;58m \u001b[0m\u001b[38;2;255;7;58merror                                                           \u001b[0m\u001b[38;2;255;7;58m \u001b[0m│\u001b[38;2;255;7;58m \u001b[0m\u001b[38;2;255;7;58m                                           0\u001b[0m\u001b[38;2;255;7;58m \u001b[0m│\n",
       "│\u001b[38;5;201m \u001b[0m\u001b[38;5;201minvalid                                                         \u001b[0m\u001b[38;5;201m \u001b[0m│\u001b[38;5;201m \u001b[0m\u001b[38;5;201m                                           0\u001b[0m\u001b[38;5;201m \u001b[0m│\n",
       "│\u001b[38;5;129m \u001b[0m\u001b[38;5;129mdeleted                                                         \u001b[0m\u001b[38;5;129m \u001b[0m│\u001b[38;5;129m \u001b[0m\u001b[38;5;129m                                           0\u001b[0m\u001b[38;5;129m \u001b[0m│\n",
       "└──────────────────────────────────────────────────────────────────┴──────────────────────────────────────────────┘\n"
      ]
     },
     "metadata": {},
     "output_type": "display_data"
    },
    {
     "data": {
      "text/plain": [
       "{'waiting': 24}"
      ]
     },
     "execution_count": 47,
     "metadata": {},
     "output_type": "execute_result"
    }
   ],
   "source": [
    "asc.get_network_status(an_sk)"
   ]
  },
  {
   "cell_type": "markdown",
   "id": "902d1474-d43d-48f8-bdcf-5cee9e61145b",
   "metadata": {},
   "source": [
    "Later on, some are now `'complete'`:"
   ]
  },
  {
   "cell_type": "code",
   "execution_count": 53,
   "id": "67f5edd1-9775-45e1-a161-85cf12c67265",
   "metadata": {},
   "outputs": [
    {
     "data": {
      "text/html": [
       "<pre style=\"white-space:pre;overflow-x:auto;line-height:normal;font-family:Menlo,'DejaVu Sans Mono',consolas,'Courier New',monospace\"><span style=\"font-style: italic\">AlchemicalNetwork-6f22642592f789c4e7f918412ca947c5-ddotson-tyk2-demo                                               </span>\n",
       "┏━━━━━━━━━━━━━━━━━━━━━━━━━━━━━━━━━━━━━━━━━━━━━━━━━━━━━━━━━━━━━━━━━━┳━━━━━━━━━━━━━━━━━━━━━━━━━━━━━━━━━━━━━━━━━━━━━━┓\n",
       "┃<span style=\"font-weight: bold\"> status                                                           </span>┃<span style=\"font-weight: bold\">                                        count </span>┃\n",
       "┡━━━━━━━━━━━━━━━━━━━━━━━━━━━━━━━━━━━━━━━━━━━━━━━━━━━━━━━━━━━━━━━━━━╇━━━━━━━━━━━━━━━━━━━━━━━━━━━━━━━━━━━━━━━━━━━━━━┩\n",
       "│<span style=\"color: #008000; text-decoration-color: #008000\"> complete                                                         </span>│<span style=\"color: #008000; text-decoration-color: #008000\">                                            4 </span>│\n",
       "│<span style=\"color: #d78700; text-decoration-color: #d78700\"> running                                                          </span>│<span style=\"color: #d78700; text-decoration-color: #d78700\">                                           12 </span>│\n",
       "│<span style=\"color: #1793d0; text-decoration-color: #1793d0\"> waiting                                                          </span>│<span style=\"color: #1793d0; text-decoration-color: #1793d0\">                                            8 </span>│\n",
       "│<span style=\"color: #ff073a; text-decoration-color: #ff073a\"> error                                                            </span>│<span style=\"color: #ff073a; text-decoration-color: #ff073a\">                                            0 </span>│\n",
       "│<span style=\"color: #ff00ff; text-decoration-color: #ff00ff\"> invalid                                                          </span>│<span style=\"color: #ff00ff; text-decoration-color: #ff00ff\">                                            0 </span>│\n",
       "│<span style=\"color: #af00ff; text-decoration-color: #af00ff\"> deleted                                                          </span>│<span style=\"color: #af00ff; text-decoration-color: #af00ff\">                                            0 </span>│\n",
       "└──────────────────────────────────────────────────────────────────┴──────────────────────────────────────────────┘\n",
       "</pre>\n"
      ],
      "text/plain": [
       "\u001b[3mAlchemicalNetwork-6f22642592f789c4e7f918412ca947c5-ddotson-tyk2-demo                                               \u001b[0m\n",
       "┏━━━━━━━━━━━━━━━━━━━━━━━━━━━━━━━━━━━━━━━━━━━━━━━━━━━━━━━━━━━━━━━━━━┳━━━━━━━━━━━━━━━━━━━━━━━━━━━━━━━━━━━━━━━━━━━━━━┓\n",
       "┃\u001b[1m \u001b[0m\u001b[1mstatus                                                          \u001b[0m\u001b[1m \u001b[0m┃\u001b[1m \u001b[0m\u001b[1m                                       count\u001b[0m\u001b[1m \u001b[0m┃\n",
       "┡━━━━━━━━━━━━━━━━━━━━━━━━━━━━━━━━━━━━━━━━━━━━━━━━━━━━━━━━━━━━━━━━━━╇━━━━━━━━━━━━━━━━━━━━━━━━━━━━━━━━━━━━━━━━━━━━━━┩\n",
       "│\u001b[32m \u001b[0m\u001b[32mcomplete                                                        \u001b[0m\u001b[32m \u001b[0m│\u001b[32m \u001b[0m\u001b[32m                                           4\u001b[0m\u001b[32m \u001b[0m│\n",
       "│\u001b[38;5;172m \u001b[0m\u001b[38;5;172mrunning                                                         \u001b[0m\u001b[38;5;172m \u001b[0m│\u001b[38;5;172m \u001b[0m\u001b[38;5;172m                                          12\u001b[0m\u001b[38;5;172m \u001b[0m│\n",
       "│\u001b[38;2;23;147;208m \u001b[0m\u001b[38;2;23;147;208mwaiting                                                         \u001b[0m\u001b[38;2;23;147;208m \u001b[0m│\u001b[38;2;23;147;208m \u001b[0m\u001b[38;2;23;147;208m                                           8\u001b[0m\u001b[38;2;23;147;208m \u001b[0m│\n",
       "│\u001b[38;2;255;7;58m \u001b[0m\u001b[38;2;255;7;58merror                                                           \u001b[0m\u001b[38;2;255;7;58m \u001b[0m│\u001b[38;2;255;7;58m \u001b[0m\u001b[38;2;255;7;58m                                           0\u001b[0m\u001b[38;2;255;7;58m \u001b[0m│\n",
       "│\u001b[38;5;201m \u001b[0m\u001b[38;5;201minvalid                                                         \u001b[0m\u001b[38;5;201m \u001b[0m│\u001b[38;5;201m \u001b[0m\u001b[38;5;201m                                           0\u001b[0m\u001b[38;5;201m \u001b[0m│\n",
       "│\u001b[38;5;129m \u001b[0m\u001b[38;5;129mdeleted                                                         \u001b[0m\u001b[38;5;129m \u001b[0m│\u001b[38;5;129m \u001b[0m\u001b[38;5;129m                                           0\u001b[0m\u001b[38;5;129m \u001b[0m│\n",
       "└──────────────────────────────────────────────────────────────────┴──────────────────────────────────────────────┘\n"
      ]
     },
     "metadata": {},
     "output_type": "display_data"
    },
    {
     "data": {
      "text/plain": [
       "{'waiting': 8, 'complete': 4, 'running': 12}"
      ]
     },
     "execution_count": 53,
     "metadata": {},
     "output_type": "execute_result"
    }
   ],
   "source": [
    "asc.get_network_status(an_sk)"
   ]
  },
  {
   "cell_type": "markdown",
   "id": "a30d40aa-ee2a-4811-a21e-baa143b15686",
   "metadata": {},
   "source": [
    "...and some might have errored:"
   ]
  },
  {
   "cell_type": "code",
   "execution_count": 54,
   "id": "d78652a8-ecee-491e-aedc-c9312682c418",
   "metadata": {},
   "outputs": [
    {
     "data": {
      "text/html": [
       "<pre style=\"white-space:pre;overflow-x:auto;line-height:normal;font-family:Menlo,'DejaVu Sans Mono',consolas,'Courier New',monospace\"><span style=\"font-style: italic\">AlchemicalNetwork-6f22642592f789c4e7f918412ca947c5-ddotson-tyk2-demo                                               </span>\n",
       "┏━━━━━━━━━━━━━━━━━━━━━━━━━━━━━━━━━━━━━━━━━━━━━━━━━━━━━━━━━━━━━━━━━━┳━━━━━━━━━━━━━━━━━━━━━━━━━━━━━━━━━━━━━━━━━━━━━━┓\n",
       "┃<span style=\"font-weight: bold\"> status                                                           </span>┃<span style=\"font-weight: bold\">                                        count </span>┃\n",
       "┡━━━━━━━━━━━━━━━━━━━━━━━━━━━━━━━━━━━━━━━━━━━━━━━━━━━━━━━━━━━━━━━━━━╇━━━━━━━━━━━━━━━━━━━━━━━━━━━━━━━━━━━━━━━━━━━━━━┩\n",
       "│<span style=\"color: #008000; text-decoration-color: #008000\"> complete                                                         </span>│<span style=\"color: #008000; text-decoration-color: #008000\">                                           14 </span>│\n",
       "│<span style=\"color: #d78700; text-decoration-color: #d78700\"> running                                                          </span>│<span style=\"color: #d78700; text-decoration-color: #d78700\">                                            9 </span>│\n",
       "│<span style=\"color: #1793d0; text-decoration-color: #1793d0\"> waiting                                                          </span>│<span style=\"color: #1793d0; text-decoration-color: #1793d0\">                                            0 </span>│\n",
       "│<span style=\"color: #ff073a; text-decoration-color: #ff073a\"> error                                                            </span>│<span style=\"color: #ff073a; text-decoration-color: #ff073a\">                                            1 </span>│\n",
       "│<span style=\"color: #ff00ff; text-decoration-color: #ff00ff\"> invalid                                                          </span>│<span style=\"color: #ff00ff; text-decoration-color: #ff00ff\">                                            0 </span>│\n",
       "│<span style=\"color: #af00ff; text-decoration-color: #af00ff\"> deleted                                                          </span>│<span style=\"color: #af00ff; text-decoration-color: #af00ff\">                                            0 </span>│\n",
       "└──────────────────────────────────────────────────────────────────┴──────────────────────────────────────────────┘\n",
       "</pre>\n"
      ],
      "text/plain": [
       "\u001b[3mAlchemicalNetwork-6f22642592f789c4e7f918412ca947c5-ddotson-tyk2-demo                                               \u001b[0m\n",
       "┏━━━━━━━━━━━━━━━━━━━━━━━━━━━━━━━━━━━━━━━━━━━━━━━━━━━━━━━━━━━━━━━━━━┳━━━━━━━━━━━━━━━━━━━━━━━━━━━━━━━━━━━━━━━━━━━━━━┓\n",
       "┃\u001b[1m \u001b[0m\u001b[1mstatus                                                          \u001b[0m\u001b[1m \u001b[0m┃\u001b[1m \u001b[0m\u001b[1m                                       count\u001b[0m\u001b[1m \u001b[0m┃\n",
       "┡━━━━━━━━━━━━━━━━━━━━━━━━━━━━━━━━━━━━━━━━━━━━━━━━━━━━━━━━━━━━━━━━━━╇━━━━━━━━━━━━━━━━━━━━━━━━━━━━━━━━━━━━━━━━━━━━━━┩\n",
       "│\u001b[32m \u001b[0m\u001b[32mcomplete                                                        \u001b[0m\u001b[32m \u001b[0m│\u001b[32m \u001b[0m\u001b[32m                                          14\u001b[0m\u001b[32m \u001b[0m│\n",
       "│\u001b[38;5;172m \u001b[0m\u001b[38;5;172mrunning                                                         \u001b[0m\u001b[38;5;172m \u001b[0m│\u001b[38;5;172m \u001b[0m\u001b[38;5;172m                                           9\u001b[0m\u001b[38;5;172m \u001b[0m│\n",
       "│\u001b[38;2;23;147;208m \u001b[0m\u001b[38;2;23;147;208mwaiting                                                         \u001b[0m\u001b[38;2;23;147;208m \u001b[0m│\u001b[38;2;23;147;208m \u001b[0m\u001b[38;2;23;147;208m                                           0\u001b[0m\u001b[38;2;23;147;208m \u001b[0m│\n",
       "│\u001b[38;2;255;7;58m \u001b[0m\u001b[38;2;255;7;58merror                                                           \u001b[0m\u001b[38;2;255;7;58m \u001b[0m│\u001b[38;2;255;7;58m \u001b[0m\u001b[38;2;255;7;58m                                           1\u001b[0m\u001b[38;2;255;7;58m \u001b[0m│\n",
       "│\u001b[38;5;201m \u001b[0m\u001b[38;5;201minvalid                                                         \u001b[0m\u001b[38;5;201m \u001b[0m│\u001b[38;5;201m \u001b[0m\u001b[38;5;201m                                           0\u001b[0m\u001b[38;5;201m \u001b[0m│\n",
       "│\u001b[38;5;129m \u001b[0m\u001b[38;5;129mdeleted                                                         \u001b[0m\u001b[38;5;129m \u001b[0m│\u001b[38;5;129m \u001b[0m\u001b[38;5;129m                                           0\u001b[0m\u001b[38;5;129m \u001b[0m│\n",
       "└──────────────────────────────────────────────────────────────────┴──────────────────────────────────────────────┘\n"
      ]
     },
     "metadata": {},
     "output_type": "display_data"
    },
    {
     "data": {
      "text/plain": [
       "{'error': 1, 'running': 9, 'complete': 14}"
      ]
     },
     "execution_count": 54,
     "metadata": {},
     "output_type": "execute_result"
    }
   ],
   "source": [
    "asc.get_network_status(an_sk)"
   ]
  },
  {
   "cell_type": "markdown",
   "id": "ce6a0d3c-7276-47c4-a7a5-949e25a49fd9",
   "metadata": {},
   "source": [
    "...and at some point, none are `waiting` or `running`; they are either `complete` or `errored`:"
   ]
  },
  {
   "cell_type": "code",
   "execution_count": 67,
   "id": "033a8832-e89b-42c7-85ce-e691be138c26",
   "metadata": {},
   "outputs": [
    {
     "data": {
      "text/html": [
       "<pre style=\"white-space:pre;overflow-x:auto;line-height:normal;font-family:Menlo,'DejaVu Sans Mono',consolas,'Courier New',monospace\"><span style=\"font-style: italic\">AlchemicalNetwork-6f22642592f789c4e7f918412ca947c5-ddotson-tyk2-demo                                               </span>\n",
       "┏━━━━━━━━━━━━━━━━━━━━━━━━━━━━━━━━━━━━━━━━━━━━━━━━━━━━━━━━━━━━━━━━━━┳━━━━━━━━━━━━━━━━━━━━━━━━━━━━━━━━━━━━━━━━━━━━━━┓\n",
       "┃<span style=\"font-weight: bold\"> status                                                           </span>┃<span style=\"font-weight: bold\">                                        count </span>┃\n",
       "┡━━━━━━━━━━━━━━━━━━━━━━━━━━━━━━━━━━━━━━━━━━━━━━━━━━━━━━━━━━━━━━━━━━╇━━━━━━━━━━━━━━━━━━━━━━━━━━━━━━━━━━━━━━━━━━━━━━┩\n",
       "│<span style=\"color: #008000; text-decoration-color: #008000\"> complete                                                         </span>│<span style=\"color: #008000; text-decoration-color: #008000\">                                           21 </span>│\n",
       "│<span style=\"color: #d78700; text-decoration-color: #d78700\"> running                                                          </span>│<span style=\"color: #d78700; text-decoration-color: #d78700\">                                            0 </span>│\n",
       "│<span style=\"color: #1793d0; text-decoration-color: #1793d0\"> waiting                                                          </span>│<span style=\"color: #1793d0; text-decoration-color: #1793d0\">                                            0 </span>│\n",
       "│<span style=\"color: #ff073a; text-decoration-color: #ff073a\"> error                                                            </span>│<span style=\"color: #ff073a; text-decoration-color: #ff073a\">                                            3 </span>│\n",
       "│<span style=\"color: #ff00ff; text-decoration-color: #ff00ff\"> invalid                                                          </span>│<span style=\"color: #ff00ff; text-decoration-color: #ff00ff\">                                            0 </span>│\n",
       "│<span style=\"color: #af00ff; text-decoration-color: #af00ff\"> deleted                                                          </span>│<span style=\"color: #af00ff; text-decoration-color: #af00ff\">                                            0 </span>│\n",
       "└──────────────────────────────────────────────────────────────────┴──────────────────────────────────────────────┘\n",
       "</pre>\n"
      ],
      "text/plain": [
       "\u001b[3mAlchemicalNetwork-6f22642592f789c4e7f918412ca947c5-ddotson-tyk2-demo                                               \u001b[0m\n",
       "┏━━━━━━━━━━━━━━━━━━━━━━━━━━━━━━━━━━━━━━━━━━━━━━━━━━━━━━━━━━━━━━━━━━┳━━━━━━━━━━━━━━━━━━━━━━━━━━━━━━━━━━━━━━━━━━━━━━┓\n",
       "┃\u001b[1m \u001b[0m\u001b[1mstatus                                                          \u001b[0m\u001b[1m \u001b[0m┃\u001b[1m \u001b[0m\u001b[1m                                       count\u001b[0m\u001b[1m \u001b[0m┃\n",
       "┡━━━━━━━━━━━━━━━━━━━━━━━━━━━━━━━━━━━━━━━━━━━━━━━━━━━━━━━━━━━━━━━━━━╇━━━━━━━━━━━━━━━━━━━━━━━━━━━━━━━━━━━━━━━━━━━━━━┩\n",
       "│\u001b[32m \u001b[0m\u001b[32mcomplete                                                        \u001b[0m\u001b[32m \u001b[0m│\u001b[32m \u001b[0m\u001b[32m                                          21\u001b[0m\u001b[32m \u001b[0m│\n",
       "│\u001b[38;5;172m \u001b[0m\u001b[38;5;172mrunning                                                         \u001b[0m\u001b[38;5;172m \u001b[0m│\u001b[38;5;172m \u001b[0m\u001b[38;5;172m                                           0\u001b[0m\u001b[38;5;172m \u001b[0m│\n",
       "│\u001b[38;2;23;147;208m \u001b[0m\u001b[38;2;23;147;208mwaiting                                                         \u001b[0m\u001b[38;2;23;147;208m \u001b[0m│\u001b[38;2;23;147;208m \u001b[0m\u001b[38;2;23;147;208m                                           0\u001b[0m\u001b[38;2;23;147;208m \u001b[0m│\n",
       "│\u001b[38;2;255;7;58m \u001b[0m\u001b[38;2;255;7;58merror                                                           \u001b[0m\u001b[38;2;255;7;58m \u001b[0m│\u001b[38;2;255;7;58m \u001b[0m\u001b[38;2;255;7;58m                                           3\u001b[0m\u001b[38;2;255;7;58m \u001b[0m│\n",
       "│\u001b[38;5;201m \u001b[0m\u001b[38;5;201minvalid                                                         \u001b[0m\u001b[38;5;201m \u001b[0m│\u001b[38;5;201m \u001b[0m\u001b[38;5;201m                                           0\u001b[0m\u001b[38;5;201m \u001b[0m│\n",
       "│\u001b[38;5;129m \u001b[0m\u001b[38;5;129mdeleted                                                         \u001b[0m\u001b[38;5;129m \u001b[0m│\u001b[38;5;129m \u001b[0m\u001b[38;5;129m                                           0\u001b[0m\u001b[38;5;129m \u001b[0m│\n",
       "└──────────────────────────────────────────────────────────────────┴──────────────────────────────────────────────┘\n"
      ]
     },
     "metadata": {},
     "output_type": "display_data"
    },
    {
     "data": {
      "text/plain": [
       "{'error': 3, 'complete': 21}"
      ]
     },
     "execution_count": 67,
     "metadata": {},
     "output_type": "execute_result"
    }
   ],
   "source": [
    "asc.get_network_status(an_sk)"
   ]
  },
  {
   "cell_type": "markdown",
   "id": "9dd5fce4-fc5d-4bc4-add2-1ecd6d0c893f",
   "metadata": {},
   "source": [
    "### Dealing with errors"
   ]
  },
  {
   "cell_type": "markdown",
   "id": "b0901744-073e-4ea4-9b5f-b9a49eeb3186",
   "metadata": {},
   "source": [
    "Inevitably, some of your `Task`s will encounter problems in execution, either random or systematic errors. When this happens, the `Task` status will be set to `'error'`."
   ]
  },
  {
   "cell_type": "markdown",
   "id": "5821a742-cea8-4b58-9905-e1aac1967c85",
   "metadata": {},
   "source": [
    "We'll get all the `Task`s in this `AlchemicalNetwork` with status `'error'`:"
   ]
  },
  {
   "cell_type": "code",
   "execution_count": 68,
   "id": "2a75797f-4289-4b49-9165-dd7252d055fd",
   "metadata": {},
   "outputs": [
    {
     "data": {
      "text/plain": [
       "[<ScopedKey('Task-ef9ccf8712d6458582e075a5be87d06e-ddotson-tyk2-demo')>,\n",
       " <ScopedKey('Task-f6a91ccc6f9e4bcbace3331a0109c9da-ddotson-tyk2-demo')>,\n",
       " <ScopedKey('Task-ce83f523df324508a6e6cfbce1c34393-ddotson-tyk2-demo')>]"
      ]
     },
     "execution_count": 68,
     "metadata": {},
     "output_type": "execute_result"
    }
   ],
   "source": [
    "failed_tasks = asc.get_network_tasks(an_sk, status='error')\n",
    "failed_tasks"
   ]
  },
  {
   "cell_type": "markdown",
   "id": "2d29bb76-91cd-4c20-afbc-e2210e5fc170",
   "metadata": {},
   "source": [
    "We'll choose one, and get all the failed results for it:"
   ]
  },
  {
   "cell_type": "code",
   "execution_count": 69,
   "id": "10bb091c-99f4-4dc6-9e57-bd2e6a780761",
   "metadata": {},
   "outputs": [
    {
     "data": {
      "application/vnd.jupyter.widget-view+json": {
       "model_id": "8bb66e693c9d492186fa5869476610ab",
       "version_major": 2,
       "version_minor": 0
      },
      "text/plain": [
       "Output()"
      ]
     },
     "metadata": {},
     "output_type": "display_data"
    },
    {
     "name": "stderr",
     "output_type": "stream",
     "text": [
      "INFO:\tHTTP Request: GET https://api.alchemiscale.org/transformations/Transformation-15fdd9ff3f68cde67e706ffa87f6a9b7-ddotson-tyk2-demo/failures/ProtocolDAGResultRef-2bc722e46be751f9ec1a770028f393f7-ddotson-tyk2-demo \"HTTP/1.1 200 OK\"\n"
     ]
    },
    {
     "data": {
      "text/html": [
       "<pre style=\"white-space:pre;overflow-x:auto;line-height:normal;font-family:Menlo,'DejaVu Sans Mono',consolas,'Courier New',monospace\"></pre>\n"
      ],
      "text/plain": []
     },
     "metadata": {},
     "output_type": "display_data"
    },
    {
     "data": {
      "text/plain": [
       "[<ProtocolDAGResult-4dd969e50a25508075044c4b9a61b7fe>]"
      ]
     },
     "execution_count": 69,
     "metadata": {},
     "output_type": "execute_result"
    }
   ],
   "source": [
    "failures = asc.get_task_failures(failed_tasks[0])\n",
    "failures"
   ]
  },
  {
   "cell_type": "markdown",
   "id": "f9b99430-c434-4d5d-a5c7-e60744421a99",
   "metadata": {},
   "source": [
    "Each of these is a `ProtocolDAGResult`, but with at least one `ProtocolUnitFailure`:"
   ]
  },
  {
   "cell_type": "code",
   "execution_count": 70,
   "id": "b37bc64d-8fc1-42c5-8b88-4383c53f91da",
   "metadata": {},
   "outputs": [
    {
     "data": {
      "text/plain": [
       "<ProtocolDAGResult-4dd969e50a25508075044c4b9a61b7fe>"
      ]
     },
     "execution_count": 70,
     "metadata": {},
     "output_type": "execute_result"
    }
   ],
   "source": [
    "failures[0]"
   ]
  },
  {
   "cell_type": "code",
   "execution_count": 71,
   "id": "4ffe5d77-f42f-4157-b8d1-d8c85c241bbf",
   "metadata": {},
   "outputs": [
    {
     "data": {
      "text/plain": [
       "[ProtocolUnitFailure(lig_jmc_27 to lig_jmc_28 repeat 0 generation 0),\n",
       " ProtocolUnitFailure(lig_jmc_27 to lig_jmc_28 repeat 0 generation 0),\n",
       " ProtocolUnitFailure(lig_jmc_27 to lig_jmc_28 repeat 0 generation 0),\n",
       " ProtocolUnitFailure(lig_jmc_27 to lig_jmc_28 repeat 0 generation 0)]"
      ]
     },
     "execution_count": 71,
     "metadata": {},
     "output_type": "execute_result"
    }
   ],
   "source": [
    "failures[0].protocol_unit_failures"
   ]
  },
  {
   "cell_type": "markdown",
   "id": "76edada2-2271-4a41-94e5-67a896c43b50",
   "metadata": {},
   "source": [
    "We can introspect the `traceback` on any of the `ProtocolUnitFailure`s present in the `ProtocolDAGResult` to understand what went wrong here:"
   ]
  },
  {
   "cell_type": "code",
   "execution_count": 72,
   "id": "8bba1453-7a1b-4f6d-8f20-05009d22ba76",
   "metadata": {},
   "outputs": [
    {
     "name": "stdout",
     "output_type": "stream",
     "text": [
      "Traceback (most recent call last):\n",
      "  File \"/lila/home/dotson/mambaforge/envs/alchemiscalemiscale-compute-ddotson-v0.5.0-2024.08.15/lib/python3.12/site-packages/gufe/protocols/protocolunit.py\", line 320, in execute\n",
      "    outputs = self._execute(context, **inputs)\n",
      "              ^^^^^^^^^^^^^^^^^^^^^^^^^^^^^^^^\n",
      "  File \"/lila/home/dotson/mambaforge/envs/alchemiscalemiscale-compute-ddotson-v0.5.0-2024.08.15/lib/python3.12/site-packages/openfe/protocols/openmm_rfe/equil_rfe_methods.py\", line 1129, in _execute\n",
      "    outputs = self.run(scratch_basepath=ctx.scratch,\n",
      "              ^^^^^^^^^^^^^^^^^^^^^^^^^^^^^^^^^^^^^^\n",
      "  File \"/lila/home/dotson/mambaforge/envs/alchemiscalemiscale-compute-ddotson-v0.5.0-2024.08.15/lib/python3.12/site-packages/openfe/protocols/openmm_rfe/equil_rfe_methods.py\", line 998, in run\n",
      "    sampler.setup(\n",
      "  File \"/lila/home/dotson/mambaforge/envs/alchemiscalemiscale-compute-ddotson-v0.5.0-2024.08.15/lib/python3.12/site-packages/openfe/protocols/openmm_rfe/_rfe_utils/multistate.py\", line 121, in setup\n",
      "    minimize(compound_thermostate_copy, sampler_state,\n",
      "  File \"/lila/home/dotson/mambaforge/envs/alchemiscalemiscale-compute-ddotson-v0.5.0-2024.08.15/lib/python3.12/site-packages/openfe/protocols/openmm_rfe/_rfe_utils/multistate.py\", line 295, in minimize\n",
      "    context, integrator = dummy_cache.get_context(\n",
      "                          ^^^^^^^^^^^^^^^^^^^^^^^^\n",
      "  File \"/lila/home/dotson/mambaforge/envs/alchemiscalemiscale-compute-ddotson-v0.5.0-2024.08.15/lib/python3.12/site-packages/openmmtools/cache.py\", line 770, in get_context\n",
      "    context = thermodynamic_state.create_context(integrator, self.platform)\n",
      "              ^^^^^^^^^^^^^^^^^^^^^^^^^^^^^^^^^^^^^^^^^^^^^^^^^^^^^^^^^^^^^\n",
      "  File \"/lila/home/dotson/mambaforge/envs/alchemiscalemiscale-compute-ddotson-v0.5.0-2024.08.15/lib/python3.12/site-packages/openmmtools/states.py\", line 1179, in create_context\n",
      "    return openmm.Context(system, integrator, platform)\n",
      "           ^^^^^^^^^^^^^^^^^^^^^^^^^^^^^^^^^^^^^^^^^^^^\n",
      "  File \"/lila/home/dotson/mambaforge/envs/alchemiscalemiscale-compute-ddotson-v0.5.0-2024.08.15/lib/python3.12/site-packages/openmm/openmm.py\", line 8037, in __init__\n",
      "    _openmm.Context_swiginit(self, _openmm.new_Context(*args))\n",
      "                                   ^^^^^^^^^^^^^^^^^^^^^^^^^^\n",
      "openmm.OpenMMException: Error initializing CUDA: CUDA_ERROR_MPS_CONNECTION_FAILED (805) at /home/conda/feedstock_root/build_artifacts/openmm_1721257909416/work/platforms/cuda/src/CudaContext.cpp:91\n",
      "\n"
     ]
    }
   ],
   "source": [
    "print(failures[0].protocol_unit_failures[0].traceback)"
   ]
  },
  {
   "cell_type": "markdown",
   "id": "1f715ef3-b1a0-456a-ac8d-51ee5b6897eb",
   "metadata": {},
   "source": [
    "In this case, it like it may be due to a configuration issue on a compute resource our `Task`s are landing on."
   ]
  },
  {
   "cell_type": "markdown",
   "id": "1a78576b-678d-4ab8-916e-90a771f24f4b",
   "metadata": {},
   "source": [
    "If we wish to re-run an `'error'`ed `Task`, we can do so by setting its status back to `'waiting'`:"
   ]
  },
  {
   "cell_type": "code",
   "execution_count": 73,
   "id": "4c661612-7cfa-4b55-95d0-713d8fcbee22",
   "metadata": {},
   "outputs": [
    {
     "name": "stderr",
     "output_type": "stream",
     "text": [
      "INFO:\tHTTP Request: POST https://api.alchemiscale.org/bulk/tasks/status/set \"HTTP/1.1 200 OK\"\n"
     ]
    },
    {
     "data": {
      "text/plain": [
       "[<ScopedKey('Task-ef9ccf8712d6458582e075a5be87d06e-ddotson-tyk2-demo')>]"
      ]
     },
     "execution_count": 73,
     "metadata": {},
     "output_type": "execute_result"
    }
   ],
   "source": [
    "asc.set_tasks_status(failed_tasks[:1], 'waiting')"
   ]
  },
  {
   "cell_type": "markdown",
   "id": "c7ccd13c-e1c2-4de5-ae17-c3b6177aa44f",
   "metadata": {},
   "source": [
    "## Gathering and analyzing results"
   ]
  },
  {
   "cell_type": "markdown",
   "id": "3d696f2b-3956-468b-bcf4-1553943c37c9",
   "metadata": {},
   "source": [
    "We can gather results for each `Transformation` with:"
   ]
  },
  {
   "cell_type": "code",
   "execution_count": 74,
   "id": "704c9ddd-be00-43c3-9bc1-2ce99fb3fe02",
   "metadata": {},
   "outputs": [
    {
     "name": "stderr",
     "output_type": "stream",
     "text": [
      "INFO:\tHTTP Request: GET https://api.alchemiscale.org/transformations/Transformation-82e90d15b483a813a6501073e3964930-ddotson-tyk2-demo/results/ProtocolDAGResultRef-01a2e46b4c33a9c52aab71b8c01ba5cd-ddotson-tyk2-demo \"HTTP/1.1 200 OK\"\n",
      "INFO:\tHTTP Request: GET https://api.alchemiscale.org/transformations/Transformation-73164716e2ad3c2e410fce413fa41be4-ddotson-tyk2-demo/results/ProtocolDAGResultRef-caabc7fbbe8e9bae4ad0da4f5db7cb61-ddotson-tyk2-demo \"HTTP/1.1 200 OK\"\n",
      "INFO:\tHTTP Request: GET https://api.alchemiscale.org/transformations/Transformation-e3022bfd607e772136f5c262875a8e78-ddotson-tyk2-demo/results/ProtocolDAGResultRef-b6b00c75b4f66e546623a98d42b165c8-ddotson-tyk2-demo \"HTTP/1.1 200 OK\"\n",
      "INFO:\tHTTP Request: GET https://api.alchemiscale.org/transformations/Transformation-6064e55fed6e90b90b727b299462cbad-ddotson-tyk2-demo/results/ProtocolDAGResultRef-f87f2f38715e0e03c30b574fe3c0e01d-ddotson-tyk2-demo \"HTTP/1.1 200 OK\"\n",
      "INFO:\tHTTP Request: GET https://api.alchemiscale.org/transformations/Transformation-28453f83bb03486a08afc096a8dc5298-ddotson-tyk2-demo/results/ProtocolDAGResultRef-d206475f1ae25c4818964579eabca7b0-ddotson-tyk2-demo \"HTTP/1.1 200 OK\"\n",
      "INFO:\tHTTP Request: GET https://api.alchemiscale.org/transformations/Transformation-eebbe29feefc097086749081844d8adc-ddotson-tyk2-demo/results/ProtocolDAGResultRef-2a9f4953c83460388614a4cb872bc601-ddotson-tyk2-demo \"HTTP/1.1 200 OK\"\n",
      "INFO:\tHTTP Request: GET https://api.alchemiscale.org/transformations/Transformation-2a345646fa5b3900aba8b74935fc4ec6-ddotson-tyk2-demo/results/ProtocolDAGResultRef-821c1a7ccc7740a28f4dd3d553b2f035-ddotson-tyk2-demo \"HTTP/1.1 200 OK\"\n",
      "INFO:\tHTTP Request: GET https://api.alchemiscale.org/transformations/Transformation-f8fb4a09881bce886dcb55a88be49016-ddotson-tyk2-demo/results/ProtocolDAGResultRef-8295104d5c32f10bdd86b69675bb7494-ddotson-tyk2-demo \"HTTP/1.1 200 OK\"\n",
      "INFO:\tHTTP Request: GET https://api.alchemiscale.org/transformations/Transformation-874c39cca17041ceb7a91f142104e8eb-ddotson-tyk2-demo/results/ProtocolDAGResultRef-2d7d1eed2ee1b96e67c95385c14b220c-ddotson-tyk2-demo \"HTTP/1.1 200 OK\"\n",
      "INFO:\tHTTP Request: GET https://api.alchemiscale.org/transformations/Transformation-b4857c06e9564cf3c2451f436f7af410-ddotson-tyk2-demo/results/ProtocolDAGResultRef-fdea668674894a4ebc21cd51a9ca8e02-ddotson-tyk2-demo \"HTTP/1.1 200 OK\"\n",
      "INFO:\tHTTP Request: GET https://api.alchemiscale.org/transformations/Transformation-958a3d55d581ec276b72394435df4bd0-ddotson-tyk2-demo/results/ProtocolDAGResultRef-19825c22d09bf2a8d70e47e5cac34829-ddotson-tyk2-demo \"HTTP/1.1 200 OK\"\n",
      "INFO:\tHTTP Request: GET https://api.alchemiscale.org/transformations/Transformation-22a2847c2a28584956e90d549fc6bcc6-ddotson-tyk2-demo/results/ProtocolDAGResultRef-83f986401353591db65c9ed401af260b-ddotson-tyk2-demo \"HTTP/1.1 200 OK\"\n",
      "INFO:\tHTTP Request: GET https://api.alchemiscale.org/transformations/Transformation-d5cdd9f4f4edd380361129082a01360b-ddotson-tyk2-demo/results/ProtocolDAGResultRef-57a8c3097273d30ff5b0350943883824-ddotson-tyk2-demo \"HTTP/1.1 200 OK\"\n",
      "INFO:\tHTTP Request: GET https://api.alchemiscale.org/transformations/Transformation-20fd18a057e4affd5c78cad41a81d3b4-ddotson-tyk2-demo/results/ProtocolDAGResultRef-2798447525f7139b158919d08faadb95-ddotson-tyk2-demo \"HTTP/1.1 200 OK\"\n",
      "INFO:\tHTTP Request: GET https://api.alchemiscale.org/transformations/Transformation-44cf523e9d0e53674fadc59c9b9110b7-ddotson-tyk2-demo/results/ProtocolDAGResultRef-f56c970e363dbe075f2dda74386055a8-ddotson-tyk2-demo \"HTTP/1.1 200 OK\"\n",
      "INFO:\tHTTP Request: GET https://api.alchemiscale.org/transformations/Transformation-856f85d23d9b8b84916d5b83ebfa1773-ddotson-tyk2-demo/results/ProtocolDAGResultRef-f94dec1b5cc13aff45aba30eb1647c3c-ddotson-tyk2-demo \"HTTP/1.1 200 OK\"\n",
      "INFO:\tHTTP Request: GET https://api.alchemiscale.org/transformations/Transformation-ef57a778259ba88b9fb4c23cc2bd78f4-ddotson-tyk2-demo/results/ProtocolDAGResultRef-474df4f73b5bdb270a43361d8651dfa4-ddotson-tyk2-demo \"HTTP/1.1 200 OK\"\n",
      "INFO:\tHTTP Request: GET https://api.alchemiscale.org/transformations/Transformation-c33480c9f0dfd80852541205f46914a7-ddotson-tyk2-demo/results/ProtocolDAGResultRef-943e801e0c7774f3c962ca8127150ace-ddotson-tyk2-demo \"HTTP/1.1 200 OK\"\n",
      "INFO:\tHTTP Request: GET https://api.alchemiscale.org/transformations/Transformation-4bfeb3edd7f0d47ec52f533a5cf435a0-ddotson-tyk2-demo/results/ProtocolDAGResultRef-0d56400cc2c06fe557f170b872c9a465-ddotson-tyk2-demo \"HTTP/1.1 200 OK\"\n",
      "INFO:\tHTTP Request: GET https://api.alchemiscale.org/transformations/Transformation-06eac733376ab1ff566248040fe37e01-ddotson-tyk2-demo/results/ProtocolDAGResultRef-cc1df82df45efd8fba44f029a28094b6-ddotson-tyk2-demo \"HTTP/1.1 200 OK\"\n",
      "INFO:\tHTTP Request: GET https://api.alchemiscale.org/transformations/Transformation-76de739d87d53981abfff4ab9ce071e4-ddotson-tyk2-demo/results/ProtocolDAGResultRef-810f1f48475da9a8cbb7ed364848cdf2-ddotson-tyk2-demo \"HTTP/1.1 200 OK\"\n"
     ]
    }
   ],
   "source": [
    "results = dict()\n",
    "for tf_sk in asc.get_network_transformations(an_sk):\n",
    "    results[str(tf_sk)] = asc.get_transformation_results(tf_sk, visualize=False)"
   ]
  },
  {
   "cell_type": "code",
   "execution_count": 75,
   "id": "816d46a2-178b-459a-80a5-357b5438462a",
   "metadata": {},
   "outputs": [
    {
     "data": {
      "text/plain": [
       "{'Transformation-15fdd9ff3f68cde67e706ffa87f6a9b7-ddotson-tyk2-demo': None,\n",
       " 'Transformation-152928d4d69298dcedf2dd622073a95b-ddotson-tyk2-demo': None,\n",
       " 'Transformation-82e90d15b483a813a6501073e3964930-ddotson-tyk2-demo': <RelativeHybridTopologyProtocolResult-948bfdff0b72d5ef4f67adc85c2634c6>,\n",
       " 'Transformation-73164716e2ad3c2e410fce413fa41be4-ddotson-tyk2-demo': <RelativeHybridTopologyProtocolResult-df5750fe54c2c580cfd73fa84ce840f1>,\n",
       " 'Transformation-e3022bfd607e772136f5c262875a8e78-ddotson-tyk2-demo': <RelativeHybridTopologyProtocolResult-337e4d8e80363a149a0d04f2b1ac2446>,\n",
       " 'Transformation-6064e55fed6e90b90b727b299462cbad-ddotson-tyk2-demo': <RelativeHybridTopologyProtocolResult-cf56bc1ab11ffae35e0dd045d6fe29dc>,\n",
       " 'Transformation-28453f83bb03486a08afc096a8dc5298-ddotson-tyk2-demo': <RelativeHybridTopologyProtocolResult-8226e5d9a3fa772e8923f309174d4671>,\n",
       " 'Transformation-eebbe29feefc097086749081844d8adc-ddotson-tyk2-demo': <RelativeHybridTopologyProtocolResult-f91bea18368378e55ace96616d6ec6f1>,\n",
       " 'Transformation-2a345646fa5b3900aba8b74935fc4ec6-ddotson-tyk2-demo': <RelativeHybridTopologyProtocolResult-fa766a1fc145b6700102b9fdff3d0db3>,\n",
       " 'Transformation-f8fb4a09881bce886dcb55a88be49016-ddotson-tyk2-demo': <RelativeHybridTopologyProtocolResult-a7a764961d833469c7da71645ddcc7cd>,\n",
       " 'Transformation-874c39cca17041ceb7a91f142104e8eb-ddotson-tyk2-demo': <RelativeHybridTopologyProtocolResult-c7576997d867d44c08191252879de95b>,\n",
       " 'Transformation-b4857c06e9564cf3c2451f436f7af410-ddotson-tyk2-demo': <RelativeHybridTopologyProtocolResult-4c344a156e08ebb132223c1b86dd3e45>,\n",
       " 'Transformation-958a3d55d581ec276b72394435df4bd0-ddotson-tyk2-demo': <RelativeHybridTopologyProtocolResult-0dff0aaf2d05bb1245a49961851d462c>,\n",
       " 'Transformation-22a2847c2a28584956e90d549fc6bcc6-ddotson-tyk2-demo': <RelativeHybridTopologyProtocolResult-6e452d9c821c26e75d2dc8bae917088d>,\n",
       " 'Transformation-d5cdd9f4f4edd380361129082a01360b-ddotson-tyk2-demo': <RelativeHybridTopologyProtocolResult-aad5127a208dc1f5dc23a3eca56b63da>,\n",
       " 'Transformation-20fd18a057e4affd5c78cad41a81d3b4-ddotson-tyk2-demo': <RelativeHybridTopologyProtocolResult-d0d4d4749d8e0bab09409247b1f40d44>,\n",
       " 'Transformation-44cf523e9d0e53674fadc59c9b9110b7-ddotson-tyk2-demo': <RelativeHybridTopologyProtocolResult-11ede0f561d2d787f0ce7d49d825cea1>,\n",
       " 'Transformation-856f85d23d9b8b84916d5b83ebfa1773-ddotson-tyk2-demo': <RelativeHybridTopologyProtocolResult-be791dff8238a59df7d08e6973844fbb>,\n",
       " 'Transformation-ef57a778259ba88b9fb4c23cc2bd78f4-ddotson-tyk2-demo': <RelativeHybridTopologyProtocolResult-626117d35fc898d368179c703b79ae44>,\n",
       " 'Transformation-c33480c9f0dfd80852541205f46914a7-ddotson-tyk2-demo': <RelativeHybridTopologyProtocolResult-6948f63f1a437cfffa21869cc8c59205>,\n",
       " 'Transformation-4bfeb3edd7f0d47ec52f533a5cf435a0-ddotson-tyk2-demo': <RelativeHybridTopologyProtocolResult-8a44fd759abe0b2ee5e5e1b3354712b1>,\n",
       " 'Transformation-8e74110792d4c68bb5a772733d490401-ddotson-tyk2-demo': None,\n",
       " 'Transformation-06eac733376ab1ff566248040fe37e01-ddotson-tyk2-demo': <RelativeHybridTopologyProtocolResult-b8c7ed6500e0de9a622001aa69793dbc>,\n",
       " 'Transformation-76de739d87d53981abfff4ab9ce071e4-ddotson-tyk2-demo': <RelativeHybridTopologyProtocolResult-49834c8fefc70456a6bcf909bc86d2dd>}"
      ]
     },
     "execution_count": 75,
     "metadata": {},
     "output_type": "execute_result"
    }
   ],
   "source": [
    "results"
   ]
  },
  {
   "cell_type": "code",
   "execution_count": 76,
   "id": "35d41826-c6fa-44fe-aec9-45e85bd5d30c",
   "metadata": {},
   "outputs": [
    {
     "data": {
      "text/html": [
       "20.937595533249475 kilocalorie_per_mole"
      ],
      "text/latex": [
       "$20.937595533249475\\ \\mathrm{kilocalorie\\_per\\_mole}$"
      ],
      "text/plain": [
       "20.937595533249475 <Unit('kilocalorie_per_mole')>"
      ]
     },
     "execution_count": 76,
     "metadata": {},
     "output_type": "execute_result"
    }
   ],
   "source": [
    "results['Transformation-82e90d15b483a813a6501073e3964930-ddotson-tyk2-demo'].get_estimate()"
   ]
  },
  {
   "cell_type": "code",
   "execution_count": 77,
   "id": "88efaebb-a47b-4a53-b6b9-382bcfc2b1ec",
   "metadata": {},
   "outputs": [
    {
     "data": {
      "text/html": [
       "0.0 kilocalorie_per_mole"
      ],
      "text/latex": [
       "$0.0\\ \\mathrm{kilocalorie\\_per\\_mole}$"
      ],
      "text/plain": [
       "0.0 <Unit('kilocalorie_per_mole')>"
      ]
     },
     "execution_count": 77,
     "metadata": {},
     "output_type": "execute_result"
    }
   ],
   "source": [
    "results['Transformation-82e90d15b483a813a6501073e3964930-ddotson-tyk2-demo'].get_uncertainty()"
   ]
  },
  {
   "cell_type": "markdown",
   "id": "60d404e8-11ab-4ead-b0db-eddaca9e2c51",
   "metadata": {},
   "source": [
    "In this case, we have only a single `ProtocolDAGResult` for each `Transformation` (since we created and actioned only 1 `Task` for each), and so the uncertainty (standard deviation between replicate simulations) given for this `ProtocolResult` is 0.0. The `RelativeHybridTopologyProtocol` combines `ProtocolDAGResult` values statistically, reducing the uncertainty but not increasing convergence with additional `Task`s\n",
    "\n",
    "By contrast other `Protocol`s, such as the `feflow` `NonEquilibriumCyclingProtocol`, will improve convergence with more `Task`s on a given `Transformation`; in the case of the `NonEquilibriumCyclingProtocol`, the non-equilibrium work values for each `ProtocolDAGResult` are combined together and fed to `BAR` to produce a single estimate with its own uncertainty."
   ]
  },
  {
   "cell_type": "markdown",
   "id": "ec2ca825-c330-4c69-9079-82b22ee53dc1",
   "metadata": {},
   "source": [
    "Let's create and action 2 additional `Task`s for each `Transformation`:"
   ]
  },
  {
   "cell_type": "code",
   "execution_count": 78,
   "id": "78a17d4c-da4d-4879-a7d1-ae81f158fc00",
   "metadata": {},
   "outputs": [
    {
     "data": {
      "text/plain": [
       "[<ScopedKey('Task-a3bb16b506354cc1920c60931fc3b6e7-ddotson-tyk2-demo')>,\n",
       " <ScopedKey('Task-5519d7feced84701bcd4caa4edf280de-ddotson-tyk2-demo')>,\n",
       " <ScopedKey('Task-111a3cff46504f3abe702a16b5b164c1-ddotson-tyk2-demo')>,\n",
       " <ScopedKey('Task-32c8103f4d624fcca7985557caeae893-ddotson-tyk2-demo')>,\n",
       " <ScopedKey('Task-0cff85cbbcef4ae49336957c4bbbb285-ddotson-tyk2-demo')>,\n",
       " <ScopedKey('Task-0a749b1896db48bf80210690b0d9ac6f-ddotson-tyk2-demo')>,\n",
       " <ScopedKey('Task-88a7d011602c4ce39c5ff94cbb7a98ae-ddotson-tyk2-demo')>,\n",
       " <ScopedKey('Task-1555231f3cd24d8db03a8e8a327adbba-ddotson-tyk2-demo')>,\n",
       " <ScopedKey('Task-974c0495a7624e1aa2996a76c80c32fb-ddotson-tyk2-demo')>,\n",
       " <ScopedKey('Task-3c291b7e214a4dba8ee403f939af516c-ddotson-tyk2-demo')>,\n",
       " <ScopedKey('Task-7ff6c66b32644095bd881b3b9c723e3a-ddotson-tyk2-demo')>,\n",
       " <ScopedKey('Task-8872ddfbd2534af390543d769b8587a9-ddotson-tyk2-demo')>,\n",
       " <ScopedKey('Task-c8db674e068241cabb0f95ad03dfbb68-ddotson-tyk2-demo')>,\n",
       " <ScopedKey('Task-0d72db080df544068687f3c4cfe0c4b4-ddotson-tyk2-demo')>,\n",
       " <ScopedKey('Task-77457ab4507d43b996eb004856af7a1b-ddotson-tyk2-demo')>,\n",
       " <ScopedKey('Task-c1f28d1a77de45bfb0acbd287f343fac-ddotson-tyk2-demo')>,\n",
       " <ScopedKey('Task-61bee1dabd264ef88d558acec688f5fc-ddotson-tyk2-demo')>,\n",
       " <ScopedKey('Task-c0c2070639064571b205f56eb7a695ab-ddotson-tyk2-demo')>,\n",
       " <ScopedKey('Task-4aeb583ab91d40388eee8e8f13b6cc1e-ddotson-tyk2-demo')>,\n",
       " <ScopedKey('Task-a0537c24e96c4cc4950f3e37b807a879-ddotson-tyk2-demo')>,\n",
       " <ScopedKey('Task-1213ffa058ec4395bc96ba779f46609f-ddotson-tyk2-demo')>,\n",
       " <ScopedKey('Task-7ac8ed14ac0f427da03689a87c9cf44c-ddotson-tyk2-demo')>,\n",
       " <ScopedKey('Task-4b02f8758a934223b71395eaa8b26db6-ddotson-tyk2-demo')>,\n",
       " <ScopedKey('Task-c5fd174873f5433cb23da737fa4642aa-ddotson-tyk2-demo')>,\n",
       " <ScopedKey('Task-c3e1dc4d32634258acda412544ae778e-ddotson-tyk2-demo')>,\n",
       " <ScopedKey('Task-ed05fb435acd4fca8661684a92cbe246-ddotson-tyk2-demo')>,\n",
       " <ScopedKey('Task-134d60f5433e4e0babb1a81e24bdd63a-ddotson-tyk2-demo')>,\n",
       " <ScopedKey('Task-19154647d7264f729cef865c47c55122-ddotson-tyk2-demo')>,\n",
       " <ScopedKey('Task-a318bc8e78dd4625a6028ae0801a998c-ddotson-tyk2-demo')>,\n",
       " <ScopedKey('Task-5312ba1a78784f909f5f4a767fc6fc49-ddotson-tyk2-demo')>,\n",
       " <ScopedKey('Task-bb556e64e1a24bf8998b23b3f78a7ece-ddotson-tyk2-demo')>,\n",
       " <ScopedKey('Task-ad7a64014b704fa685254441bf16e5ef-ddotson-tyk2-demo')>,\n",
       " <ScopedKey('Task-aeee5cf01ef0494e8cb51c2e86324cf6-ddotson-tyk2-demo')>,\n",
       " <ScopedKey('Task-789fbed60ab342dea8d071e2d925279f-ddotson-tyk2-demo')>,\n",
       " <ScopedKey('Task-50033fbe0ffe4ee185566164cb33af65-ddotson-tyk2-demo')>,\n",
       " <ScopedKey('Task-87a6955b36be404293b9491f476f7045-ddotson-tyk2-demo')>,\n",
       " <ScopedKey('Task-8dc6bc5c62f044258c5b129a8c4d570f-ddotson-tyk2-demo')>,\n",
       " <ScopedKey('Task-3c387ea6205447d786f9c1431591bef9-ddotson-tyk2-demo')>,\n",
       " <ScopedKey('Task-8e6815ffb28b447988722bca9ddc8039-ddotson-tyk2-demo')>,\n",
       " <ScopedKey('Task-5779831c1fcd4bdc819aefc608890940-ddotson-tyk2-demo')>,\n",
       " <ScopedKey('Task-1b17a99a7acf4fea92879158e87b82ff-ddotson-tyk2-demo')>,\n",
       " <ScopedKey('Task-37b15e41fba948c286cf73d70eff627f-ddotson-tyk2-demo')>,\n",
       " <ScopedKey('Task-dea84bf82e354bb39c9b2d70fc91709d-ddotson-tyk2-demo')>,\n",
       " <ScopedKey('Task-f1a16bc51f934dd19736cbf34e76804f-ddotson-tyk2-demo')>,\n",
       " <ScopedKey('Task-1c8808c0d25d40e3bb02ceaa71132402-ddotson-tyk2-demo')>,\n",
       " <ScopedKey('Task-fa2d45744f214c09a53246456d7dd27e-ddotson-tyk2-demo')>,\n",
       " <ScopedKey('Task-52a5e061bec9413e912eaafaa1967456-ddotson-tyk2-demo')>,\n",
       " <ScopedKey('Task-7d1c27206cd44bf296bf46f8f5267a2b-ddotson-tyk2-demo')>]"
      ]
     },
     "execution_count": 78,
     "metadata": {},
     "output_type": "execute_result"
    }
   ],
   "source": [
    "tasks = []\n",
    "for tf_sk in asc.get_network_transformations(an_sk):\n",
    "    tasks.extend(asc.create_tasks(tf_sk, count=2))\n",
    "\n",
    "asc.action_tasks(tasks, an_sk)"
   ]
  },
  {
   "cell_type": "code",
   "execution_count": 81,
   "id": "7416399a-a06c-461f-a1ae-739bd46abcdb",
   "metadata": {},
   "outputs": [
    {
     "data": {
      "text/html": [
       "<pre style=\"white-space:pre;overflow-x:auto;line-height:normal;font-family:Menlo,'DejaVu Sans Mono',consolas,'Courier New',monospace\"><span style=\"font-style: italic\">AlchemicalNetwork-6f22642592f789c4e7f918412ca947c5-ddotson-tyk2-demo                                               </span>\n",
       "┏━━━━━━━━━━━━━━━━━━━━━━━━━━━━━━━━━━━━━━━━━━━━━━━━━━━━━━━━━━━━━━━━━━┳━━━━━━━━━━━━━━━━━━━━━━━━━━━━━━━━━━━━━━━━━━━━━━┓\n",
       "┃<span style=\"font-weight: bold\"> status                                                           </span>┃<span style=\"font-weight: bold\">                                        count </span>┃\n",
       "┡━━━━━━━━━━━━━━━━━━━━━━━━━━━━━━━━━━━━━━━━━━━━━━━━━━━━━━━━━━━━━━━━━━╇━━━━━━━━━━━━━━━━━━━━━━━━━━━━━━━━━━━━━━━━━━━━━━┩\n",
       "│<span style=\"color: #008000; text-decoration-color: #008000\"> complete                                                         </span>│<span style=\"color: #008000; text-decoration-color: #008000\">                                           21 </span>│\n",
       "│<span style=\"color: #d78700; text-decoration-color: #d78700\"> running                                                          </span>│<span style=\"color: #d78700; text-decoration-color: #d78700\">                                            0 </span>│\n",
       "│<span style=\"color: #1793d0; text-decoration-color: #1793d0\"> waiting                                                          </span>│<span style=\"color: #1793d0; text-decoration-color: #1793d0\">                                           49 </span>│\n",
       "│<span style=\"color: #ff073a; text-decoration-color: #ff073a\"> error                                                            </span>│<span style=\"color: #ff073a; text-decoration-color: #ff073a\">                                            2 </span>│\n",
       "│<span style=\"color: #ff00ff; text-decoration-color: #ff00ff\"> invalid                                                          </span>│<span style=\"color: #ff00ff; text-decoration-color: #ff00ff\">                                            0 </span>│\n",
       "│<span style=\"color: #af00ff; text-decoration-color: #af00ff\"> deleted                                                          </span>│<span style=\"color: #af00ff; text-decoration-color: #af00ff\">                                            0 </span>│\n",
       "└──────────────────────────────────────────────────────────────────┴──────────────────────────────────────────────┘\n",
       "</pre>\n"
      ],
      "text/plain": [
       "\u001b[3mAlchemicalNetwork-6f22642592f789c4e7f918412ca947c5-ddotson-tyk2-demo                                               \u001b[0m\n",
       "┏━━━━━━━━━━━━━━━━━━━━━━━━━━━━━━━━━━━━━━━━━━━━━━━━━━━━━━━━━━━━━━━━━━┳━━━━━━━━━━━━━━━━━━━━━━━━━━━━━━━━━━━━━━━━━━━━━━┓\n",
       "┃\u001b[1m \u001b[0m\u001b[1mstatus                                                          \u001b[0m\u001b[1m \u001b[0m┃\u001b[1m \u001b[0m\u001b[1m                                       count\u001b[0m\u001b[1m \u001b[0m┃\n",
       "┡━━━━━━━━━━━━━━━━━━━━━━━━━━━━━━━━━━━━━━━━━━━━━━━━━━━━━━━━━━━━━━━━━━╇━━━━━━━━━━━━━━━━━━━━━━━━━━━━━━━━━━━━━━━━━━━━━━┩\n",
       "│\u001b[32m \u001b[0m\u001b[32mcomplete                                                        \u001b[0m\u001b[32m \u001b[0m│\u001b[32m \u001b[0m\u001b[32m                                          21\u001b[0m\u001b[32m \u001b[0m│\n",
       "│\u001b[38;5;172m \u001b[0m\u001b[38;5;172mrunning                                                         \u001b[0m\u001b[38;5;172m \u001b[0m│\u001b[38;5;172m \u001b[0m\u001b[38;5;172m                                           0\u001b[0m\u001b[38;5;172m \u001b[0m│\n",
       "│\u001b[38;2;23;147;208m \u001b[0m\u001b[38;2;23;147;208mwaiting                                                         \u001b[0m\u001b[38;2;23;147;208m \u001b[0m│\u001b[38;2;23;147;208m \u001b[0m\u001b[38;2;23;147;208m                                          49\u001b[0m\u001b[38;2;23;147;208m \u001b[0m│\n",
       "│\u001b[38;2;255;7;58m \u001b[0m\u001b[38;2;255;7;58merror                                                           \u001b[0m\u001b[38;2;255;7;58m \u001b[0m│\u001b[38;2;255;7;58m \u001b[0m\u001b[38;2;255;7;58m                                           2\u001b[0m\u001b[38;2;255;7;58m \u001b[0m│\n",
       "│\u001b[38;5;201m \u001b[0m\u001b[38;5;201minvalid                                                         \u001b[0m\u001b[38;5;201m \u001b[0m│\u001b[38;5;201m \u001b[0m\u001b[38;5;201m                                           0\u001b[0m\u001b[38;5;201m \u001b[0m│\n",
       "│\u001b[38;5;129m \u001b[0m\u001b[38;5;129mdeleted                                                         \u001b[0m\u001b[38;5;129m \u001b[0m│\u001b[38;5;129m \u001b[0m\u001b[38;5;129m                                           0\u001b[0m\u001b[38;5;129m \u001b[0m│\n",
       "└──────────────────────────────────────────────────────────────────┴──────────────────────────────────────────────┘\n"
      ]
     },
     "metadata": {},
     "output_type": "display_data"
    },
    {
     "data": {
      "text/plain": [
       "{'waiting': 49, 'error': 2, 'complete': 21}"
      ]
     },
     "execution_count": 81,
     "metadata": {},
     "output_type": "execute_result"
    }
   ],
   "source": [
    "asc.get_network_status(an_sk)"
   ]
  },
  {
   "cell_type": "markdown",
   "id": "082fbe22-3579-4900-8567-f0eda0e94ce7",
   "metadata": {},
   "source": [
    "As we watch our `Task`s `'complete'` or `'error'`, we can introspect and deal with errors as before:"
   ]
  },
  {
   "cell_type": "code",
   "execution_count": 84,
   "id": "9c0f6683-603d-4a82-8255-104e473cb4a6",
   "metadata": {},
   "outputs": [
    {
     "data": {
      "text/html": [
       "<pre style=\"white-space:pre;overflow-x:auto;line-height:normal;font-family:Menlo,'DejaVu Sans Mono',consolas,'Courier New',monospace\"><span style=\"font-style: italic\">AlchemicalNetwork-6f22642592f789c4e7f918412ca947c5-ddotson-tyk2-demo                                               </span>\n",
       "┏━━━━━━━━━━━━━━━━━━━━━━━━━━━━━━━━━━━━━━━━━━━━━━━━━━━━━━━━━━━━━━━━━━┳━━━━━━━━━━━━━━━━━━━━━━━━━━━━━━━━━━━━━━━━━━━━━━┓\n",
       "┃<span style=\"font-weight: bold\"> status                                                           </span>┃<span style=\"font-weight: bold\">                                        count </span>┃\n",
       "┡━━━━━━━━━━━━━━━━━━━━━━━━━━━━━━━━━━━━━━━━━━━━━━━━━━━━━━━━━━━━━━━━━━╇━━━━━━━━━━━━━━━━━━━━━━━━━━━━━━━━━━━━━━━━━━━━━━┩\n",
       "│<span style=\"color: #008000; text-decoration-color: #008000\"> complete                                                         </span>│<span style=\"color: #008000; text-decoration-color: #008000\">                                           46 </span>│\n",
       "│<span style=\"color: #d78700; text-decoration-color: #d78700\"> running                                                          </span>│<span style=\"color: #d78700; text-decoration-color: #d78700\">                                           24 </span>│\n",
       "│<span style=\"color: #1793d0; text-decoration-color: #1793d0\"> waiting                                                          </span>│<span style=\"color: #1793d0; text-decoration-color: #1793d0\">                                            0 </span>│\n",
       "│<span style=\"color: #ff073a; text-decoration-color: #ff073a\"> error                                                            </span>│<span style=\"color: #ff073a; text-decoration-color: #ff073a\">                                            2 </span>│\n",
       "│<span style=\"color: #ff00ff; text-decoration-color: #ff00ff\"> invalid                                                          </span>│<span style=\"color: #ff00ff; text-decoration-color: #ff00ff\">                                            0 </span>│\n",
       "│<span style=\"color: #af00ff; text-decoration-color: #af00ff\"> deleted                                                          </span>│<span style=\"color: #af00ff; text-decoration-color: #af00ff\">                                            0 </span>│\n",
       "└──────────────────────────────────────────────────────────────────┴──────────────────────────────────────────────┘\n",
       "</pre>\n"
      ],
      "text/plain": [
       "\u001b[3mAlchemicalNetwork-6f22642592f789c4e7f918412ca947c5-ddotson-tyk2-demo                                               \u001b[0m\n",
       "┏━━━━━━━━━━━━━━━━━━━━━━━━━━━━━━━━━━━━━━━━━━━━━━━━━━━━━━━━━━━━━━━━━━┳━━━━━━━━━━━━━━━━━━━━━━━━━━━━━━━━━━━━━━━━━━━━━━┓\n",
       "┃\u001b[1m \u001b[0m\u001b[1mstatus                                                          \u001b[0m\u001b[1m \u001b[0m┃\u001b[1m \u001b[0m\u001b[1m                                       count\u001b[0m\u001b[1m \u001b[0m┃\n",
       "┡━━━━━━━━━━━━━━━━━━━━━━━━━━━━━━━━━━━━━━━━━━━━━━━━━━━━━━━━━━━━━━━━━━╇━━━━━━━━━━━━━━━━━━━━━━━━━━━━━━━━━━━━━━━━━━━━━━┩\n",
       "│\u001b[32m \u001b[0m\u001b[32mcomplete                                                        \u001b[0m\u001b[32m \u001b[0m│\u001b[32m \u001b[0m\u001b[32m                                          46\u001b[0m\u001b[32m \u001b[0m│\n",
       "│\u001b[38;5;172m \u001b[0m\u001b[38;5;172mrunning                                                         \u001b[0m\u001b[38;5;172m \u001b[0m│\u001b[38;5;172m \u001b[0m\u001b[38;5;172m                                          24\u001b[0m\u001b[38;5;172m \u001b[0m│\n",
       "│\u001b[38;2;23;147;208m \u001b[0m\u001b[38;2;23;147;208mwaiting                                                         \u001b[0m\u001b[38;2;23;147;208m \u001b[0m│\u001b[38;2;23;147;208m \u001b[0m\u001b[38;2;23;147;208m                                           0\u001b[0m\u001b[38;2;23;147;208m \u001b[0m│\n",
       "│\u001b[38;2;255;7;58m \u001b[0m\u001b[38;2;255;7;58merror                                                           \u001b[0m\u001b[38;2;255;7;58m \u001b[0m│\u001b[38;2;255;7;58m \u001b[0m\u001b[38;2;255;7;58m                                           2\u001b[0m\u001b[38;2;255;7;58m \u001b[0m│\n",
       "│\u001b[38;5;201m \u001b[0m\u001b[38;5;201minvalid                                                         \u001b[0m\u001b[38;5;201m \u001b[0m│\u001b[38;5;201m \u001b[0m\u001b[38;5;201m                                           0\u001b[0m\u001b[38;5;201m \u001b[0m│\n",
       "│\u001b[38;5;129m \u001b[0m\u001b[38;5;129mdeleted                                                         \u001b[0m\u001b[38;5;129m \u001b[0m│\u001b[38;5;129m \u001b[0m\u001b[38;5;129m                                           0\u001b[0m\u001b[38;5;129m \u001b[0m│\n",
       "└──────────────────────────────────────────────────────────────────┴──────────────────────────────────────────────┘\n"
      ]
     },
     "metadata": {},
     "output_type": "display_data"
    },
    {
     "data": {
      "text/plain": [
       "{'complete': 46, 'running': 24, 'error': 2}"
      ]
     },
     "execution_count": 84,
     "metadata": {},
     "output_type": "execute_result"
    }
   ],
   "source": [
    "asc.get_network_status(an_sk)"
   ]
  },
  {
   "cell_type": "code",
   "execution_count": 85,
   "id": "892122f7-95c9-47e0-8931-f15ab9f2efae",
   "metadata": {},
   "outputs": [
    {
     "data": {
      "text/plain": [
       "[<ScopedKey('Task-f6a91ccc6f9e4bcbace3331a0109c9da-ddotson-tyk2-demo')>,\n",
       " <ScopedKey('Task-ce83f523df324508a6e6cfbce1c34393-ddotson-tyk2-demo')>]"
      ]
     },
     "execution_count": 85,
     "metadata": {},
     "output_type": "execute_result"
    }
   ],
   "source": [
    "asc.get_network_tasks(an_sk, status='error')"
   ]
  },
  {
   "cell_type": "code",
   "execution_count": 86,
   "id": "cbfe1d37-0934-4121-abbb-09d7c1f19396",
   "metadata": {},
   "outputs": [
    {
     "data": {
      "application/vnd.jupyter.widget-view+json": {
       "model_id": "a679f2867bb946d9963cdb603c80bf52",
       "version_major": 2,
       "version_minor": 0
      },
      "text/plain": [
       "Output()"
      ]
     },
     "metadata": {},
     "output_type": "display_data"
    },
    {
     "name": "stderr",
     "output_type": "stream",
     "text": [
      "INFO:\tHTTP Request: GET https://api.alchemiscale.org/transformations/Transformation-152928d4d69298dcedf2dd622073a95b-ddotson-tyk2-demo/failures/ProtocolDAGResultRef-08d10b9130b46d11e70cdf91343e686e-ddotson-tyk2-demo \"HTTP/1.1 200 OK\"\n"
     ]
    },
    {
     "data": {
      "text/html": [
       "<pre style=\"white-space:pre;overflow-x:auto;line-height:normal;font-family:Menlo,'DejaVu Sans Mono',consolas,'Courier New',monospace\"></pre>\n"
      ],
      "text/plain": []
     },
     "metadata": {},
     "output_type": "display_data"
    },
    {
     "name": "stdout",
     "output_type": "stream",
     "text": [
      "Traceback (most recent call last):\n",
      "  File \"/lila/home/dotson/mambaforge/envs/alchemiscalemiscale-compute-ddotson-v0.5.0-2024.08.15/lib/python3.12/site-packages/gufe/protocols/protocolunit.py\", line 320, in execute\n",
      "    outputs = self._execute(context, **inputs)\n",
      "              ^^^^^^^^^^^^^^^^^^^^^^^^^^^^^^^^\n",
      "  File \"/lila/home/dotson/mambaforge/envs/alchemiscalemiscale-compute-ddotson-v0.5.0-2024.08.15/lib/python3.12/site-packages/openfe/protocols/openmm_rfe/equil_rfe_methods.py\", line 1129, in _execute\n",
      "    outputs = self.run(scratch_basepath=ctx.scratch,\n",
      "              ^^^^^^^^^^^^^^^^^^^^^^^^^^^^^^^^^^^^^^\n",
      "  File \"/lila/home/dotson/mambaforge/envs/alchemiscalemiscale-compute-ddotson-v0.5.0-2024.08.15/lib/python3.12/site-packages/openfe/protocols/openmm_rfe/equil_rfe_methods.py\", line 998, in run\n",
      "    sampler.setup(\n",
      "  File \"/lila/home/dotson/mambaforge/envs/alchemiscalemiscale-compute-ddotson-v0.5.0-2024.08.15/lib/python3.12/site-packages/openfe/protocols/openmm_rfe/_rfe_utils/multistate.py\", line 121, in setup\n",
      "    minimize(compound_thermostate_copy, sampler_state,\n",
      "  File \"/lila/home/dotson/mambaforge/envs/alchemiscalemiscale-compute-ddotson-v0.5.0-2024.08.15/lib/python3.12/site-packages/openfe/protocols/openmm_rfe/_rfe_utils/multistate.py\", line 295, in minimize\n",
      "    context, integrator = dummy_cache.get_context(\n",
      "                          ^^^^^^^^^^^^^^^^^^^^^^^^\n",
      "  File \"/lila/home/dotson/mambaforge/envs/alchemiscalemiscale-compute-ddotson-v0.5.0-2024.08.15/lib/python3.12/site-packages/openmmtools/cache.py\", line 770, in get_context\n",
      "    context = thermodynamic_state.create_context(integrator, self.platform)\n",
      "              ^^^^^^^^^^^^^^^^^^^^^^^^^^^^^^^^^^^^^^^^^^^^^^^^^^^^^^^^^^^^^\n",
      "  File \"/lila/home/dotson/mambaforge/envs/alchemiscalemiscale-compute-ddotson-v0.5.0-2024.08.15/lib/python3.12/site-packages/openmmtools/states.py\", line 1179, in create_context\n",
      "    return openmm.Context(system, integrator, platform)\n",
      "           ^^^^^^^^^^^^^^^^^^^^^^^^^^^^^^^^^^^^^^^^^^^^\n",
      "  File \"/lila/home/dotson/mambaforge/envs/alchemiscalemiscale-compute-ddotson-v0.5.0-2024.08.15/lib/python3.12/site-packages/openmm/openmm.py\", line 8037, in __init__\n",
      "    _openmm.Context_swiginit(self, _openmm.new_Context(*args))\n",
      "                                   ^^^^^^^^^^^^^^^^^^^^^^^^^^\n",
      "openmm.OpenMMException: Error initializing CUDA: CUDA_ERROR_MPS_CONNECTION_FAILED (805) at /home/conda/feedstock_root/build_artifacts/openmm_1721257909416/work/platforms/cuda/src/CudaContext.cpp:91\n",
      "\n"
     ]
    }
   ],
   "source": [
    "print(asc.get_task_failures(asc.get_network_tasks(an_sk, status='error')[0])[0].protocol_unit_failures[0].traceback)"
   ]
  },
  {
   "cell_type": "code",
   "execution_count": 87,
   "id": "42b373ed-2ec3-4e10-a551-034fdd2b5ed6",
   "metadata": {},
   "outputs": [
    {
     "name": "stderr",
     "output_type": "stream",
     "text": [
      "INFO:\tHTTP Request: POST https://api.alchemiscale.org/bulk/tasks/status/set \"HTTP/1.1 200 OK\"\n"
     ]
    },
    {
     "data": {
      "text/plain": [
       "[<ScopedKey('Task-f6a91ccc6f9e4bcbace3331a0109c9da-ddotson-tyk2-demo')>,\n",
       " <ScopedKey('Task-ce83f523df324508a6e6cfbce1c34393-ddotson-tyk2-demo')>]"
      ]
     },
     "execution_count": 87,
     "metadata": {},
     "output_type": "execute_result"
    }
   ],
   "source": [
    "asc.set_tasks_status(asc.get_network_tasks(an_sk, status='error'), 'waiting')"
   ]
  },
  {
   "cell_type": "code",
   "execution_count": 98,
   "id": "55c733aa-3e41-481c-8f63-df7b2c8a79de",
   "metadata": {},
   "outputs": [
    {
     "data": {
      "text/html": [
       "<pre style=\"white-space:pre;overflow-x:auto;line-height:normal;font-family:Menlo,'DejaVu Sans Mono',consolas,'Courier New',monospace\"><span style=\"font-style: italic\">AlchemicalNetwork-6f22642592f789c4e7f918412ca947c5-ddotson-tyk2-demo                                               </span>\n",
       "┏━━━━━━━━━━━━━━━━━━━━━━━━━━━━━━━━━━━━━━━━━━━━━━━━━━━━━━━━━━━━━━━━━━┳━━━━━━━━━━━━━━━━━━━━━━━━━━━━━━━━━━━━━━━━━━━━━━┓\n",
       "┃<span style=\"font-weight: bold\"> status                                                           </span>┃<span style=\"font-weight: bold\">                                        count </span>┃\n",
       "┡━━━━━━━━━━━━━━━━━━━━━━━━━━━━━━━━━━━━━━━━━━━━━━━━━━━━━━━━━━━━━━━━━━╇━━━━━━━━━━━━━━━━━━━━━━━━━━━━━━━━━━━━━━━━━━━━━━┩\n",
       "│<span style=\"color: #008000; text-decoration-color: #008000\"> complete                                                         </span>│<span style=\"color: #008000; text-decoration-color: #008000\">                                           72 </span>│\n",
       "│<span style=\"color: #d78700; text-decoration-color: #d78700\"> running                                                          </span>│<span style=\"color: #d78700; text-decoration-color: #d78700\">                                            0 </span>│\n",
       "│<span style=\"color: #1793d0; text-decoration-color: #1793d0\"> waiting                                                          </span>│<span style=\"color: #1793d0; text-decoration-color: #1793d0\">                                            0 </span>│\n",
       "│<span style=\"color: #ff073a; text-decoration-color: #ff073a\"> error                                                            </span>│<span style=\"color: #ff073a; text-decoration-color: #ff073a\">                                            0 </span>│\n",
       "│<span style=\"color: #ff00ff; text-decoration-color: #ff00ff\"> invalid                                                          </span>│<span style=\"color: #ff00ff; text-decoration-color: #ff00ff\">                                            0 </span>│\n",
       "│<span style=\"color: #af00ff; text-decoration-color: #af00ff\"> deleted                                                          </span>│<span style=\"color: #af00ff; text-decoration-color: #af00ff\">                                            0 </span>│\n",
       "└──────────────────────────────────────────────────────────────────┴──────────────────────────────────────────────┘\n",
       "</pre>\n"
      ],
      "text/plain": [
       "\u001b[3mAlchemicalNetwork-6f22642592f789c4e7f918412ca947c5-ddotson-tyk2-demo                                               \u001b[0m\n",
       "┏━━━━━━━━━━━━━━━━━━━━━━━━━━━━━━━━━━━━━━━━━━━━━━━━━━━━━━━━━━━━━━━━━━┳━━━━━━━━━━━━━━━━━━━━━━━━━━━━━━━━━━━━━━━━━━━━━━┓\n",
       "┃\u001b[1m \u001b[0m\u001b[1mstatus                                                          \u001b[0m\u001b[1m \u001b[0m┃\u001b[1m \u001b[0m\u001b[1m                                       count\u001b[0m\u001b[1m \u001b[0m┃\n",
       "┡━━━━━━━━━━━━━━━━━━━━━━━━━━━━━━━━━━━━━━━━━━━━━━━━━━━━━━━━━━━━━━━━━━╇━━━━━━━━━━━━━━━━━━━━━━━━━━━━━━━━━━━━━━━━━━━━━━┩\n",
       "│\u001b[32m \u001b[0m\u001b[32mcomplete                                                        \u001b[0m\u001b[32m \u001b[0m│\u001b[32m \u001b[0m\u001b[32m                                          72\u001b[0m\u001b[32m \u001b[0m│\n",
       "│\u001b[38;5;172m \u001b[0m\u001b[38;5;172mrunning                                                         \u001b[0m\u001b[38;5;172m \u001b[0m│\u001b[38;5;172m \u001b[0m\u001b[38;5;172m                                           0\u001b[0m\u001b[38;5;172m \u001b[0m│\n",
       "│\u001b[38;2;23;147;208m \u001b[0m\u001b[38;2;23;147;208mwaiting                                                         \u001b[0m\u001b[38;2;23;147;208m \u001b[0m│\u001b[38;2;23;147;208m \u001b[0m\u001b[38;2;23;147;208m                                           0\u001b[0m\u001b[38;2;23;147;208m \u001b[0m│\n",
       "│\u001b[38;2;255;7;58m \u001b[0m\u001b[38;2;255;7;58merror                                                           \u001b[0m\u001b[38;2;255;7;58m \u001b[0m│\u001b[38;2;255;7;58m \u001b[0m\u001b[38;2;255;7;58m                                           0\u001b[0m\u001b[38;2;255;7;58m \u001b[0m│\n",
       "│\u001b[38;5;201m \u001b[0m\u001b[38;5;201minvalid                                                         \u001b[0m\u001b[38;5;201m \u001b[0m│\u001b[38;5;201m \u001b[0m\u001b[38;5;201m                                           0\u001b[0m\u001b[38;5;201m \u001b[0m│\n",
       "│\u001b[38;5;129m \u001b[0m\u001b[38;5;129mdeleted                                                         \u001b[0m\u001b[38;5;129m \u001b[0m│\u001b[38;5;129m \u001b[0m\u001b[38;5;129m                                           0\u001b[0m\u001b[38;5;129m \u001b[0m│\n",
       "└──────────────────────────────────────────────────────────────────┴──────────────────────────────────────────────┘\n"
      ]
     },
     "metadata": {},
     "output_type": "display_data"
    },
    {
     "data": {
      "text/plain": [
       "{'complete': 72}"
      ]
     },
     "execution_count": 98,
     "metadata": {},
     "output_type": "execute_result"
    }
   ],
   "source": [
    "asc.get_network_status(an_sk)"
   ]
  },
  {
   "cell_type": "markdown",
   "id": "aa4146ff-baf8-4af1-b84f-12c0368631a3",
   "metadata": {},
   "source": [
    "Finally, with more sampling, we can pull our results again, this time with more `ProtocolDAGResult`s included in the `ProtocolResult` for our `Transformation`s:"
   ]
  },
  {
   "cell_type": "code",
   "execution_count": 102,
   "id": "43aa0be9-4306-48f8-a3c6-e6851b05d553",
   "metadata": {},
   "outputs": [],
   "source": [
    "results = dict()\n",
    "for tf_sk in asc.get_network_transformations(an_sk):\n",
    "    results[str(tf_sk)] = asc.get_transformation_results(tf_sk, visualize=False)"
   ]
  },
  {
   "cell_type": "code",
   "execution_count": 103,
   "id": "bd6409b5-1ec9-469e-b7e7-5d0dbb2c29b3",
   "metadata": {},
   "outputs": [
    {
     "data": {
      "text/plain": [
       "{'Transformation-15fdd9ff3f68cde67e706ffa87f6a9b7-ddotson-tyk2-demo': <RelativeHybridTopologyProtocolResult-394e0443ec86ffc0c16c8e00c82e9b12>,\n",
       " 'Transformation-152928d4d69298dcedf2dd622073a95b-ddotson-tyk2-demo': <RelativeHybridTopologyProtocolResult-d116d14de4407acbeaac9f29587719e9>,\n",
       " 'Transformation-82e90d15b483a813a6501073e3964930-ddotson-tyk2-demo': <RelativeHybridTopologyProtocolResult-dcd71f35d39c66af70ed89aa7a279000>,\n",
       " 'Transformation-73164716e2ad3c2e410fce413fa41be4-ddotson-tyk2-demo': <RelativeHybridTopologyProtocolResult-ad94c858081e514585b43f65c5a68f18>,\n",
       " 'Transformation-e3022bfd607e772136f5c262875a8e78-ddotson-tyk2-demo': <RelativeHybridTopologyProtocolResult-18c2551684f6b806fe8b6a9ece095009>,\n",
       " 'Transformation-6064e55fed6e90b90b727b299462cbad-ddotson-tyk2-demo': <RelativeHybridTopologyProtocolResult-d55f3325367e5a7f0a211077df9ccc7e>,\n",
       " 'Transformation-28453f83bb03486a08afc096a8dc5298-ddotson-tyk2-demo': <RelativeHybridTopologyProtocolResult-09120f442dacd96143ee12c6d166ef79>,\n",
       " 'Transformation-eebbe29feefc097086749081844d8adc-ddotson-tyk2-demo': <RelativeHybridTopologyProtocolResult-fe22eaa7d7ebd7a5d23adae41e98e1f6>,\n",
       " 'Transformation-2a345646fa5b3900aba8b74935fc4ec6-ddotson-tyk2-demo': <RelativeHybridTopologyProtocolResult-ed6c30bbaeb8124335f6080b648f78da>,\n",
       " 'Transformation-f8fb4a09881bce886dcb55a88be49016-ddotson-tyk2-demo': <RelativeHybridTopologyProtocolResult-6365aa29ece7fbc051405ba330d52328>,\n",
       " 'Transformation-874c39cca17041ceb7a91f142104e8eb-ddotson-tyk2-demo': <RelativeHybridTopologyProtocolResult-1d47e63b207e04a4960741d14d80480c>,\n",
       " 'Transformation-b4857c06e9564cf3c2451f436f7af410-ddotson-tyk2-demo': <RelativeHybridTopologyProtocolResult-febae6aa0f84830b17f89913b20b3e31>,\n",
       " 'Transformation-958a3d55d581ec276b72394435df4bd0-ddotson-tyk2-demo': <RelativeHybridTopologyProtocolResult-501a8034121f24d44579bc6edd1ba167>,\n",
       " 'Transformation-22a2847c2a28584956e90d549fc6bcc6-ddotson-tyk2-demo': <RelativeHybridTopologyProtocolResult-ef58753a1b7c856a2831287b22a11fa2>,\n",
       " 'Transformation-d5cdd9f4f4edd380361129082a01360b-ddotson-tyk2-demo': <RelativeHybridTopologyProtocolResult-0172ce2b7010333b1c341e7d14eb3a81>,\n",
       " 'Transformation-20fd18a057e4affd5c78cad41a81d3b4-ddotson-tyk2-demo': <RelativeHybridTopologyProtocolResult-32536721cc9db99a4929e743344fb5ff>,\n",
       " 'Transformation-44cf523e9d0e53674fadc59c9b9110b7-ddotson-tyk2-demo': <RelativeHybridTopologyProtocolResult-761f181afdb778b924eaaf8f096aff42>,\n",
       " 'Transformation-856f85d23d9b8b84916d5b83ebfa1773-ddotson-tyk2-demo': <RelativeHybridTopologyProtocolResult-ed7a2dd2de1cb55ecd338eee10989819>,\n",
       " 'Transformation-ef57a778259ba88b9fb4c23cc2bd78f4-ddotson-tyk2-demo': <RelativeHybridTopologyProtocolResult-889ff92aa5ec0aa090eca47f055ecd0e>,\n",
       " 'Transformation-c33480c9f0dfd80852541205f46914a7-ddotson-tyk2-demo': <RelativeHybridTopologyProtocolResult-bb3df5d7f37c55d3f4eddd4fa553d0db>,\n",
       " 'Transformation-4bfeb3edd7f0d47ec52f533a5cf435a0-ddotson-tyk2-demo': <RelativeHybridTopologyProtocolResult-09615a191ec58d54947dd7c974c9da3d>,\n",
       " 'Transformation-8e74110792d4c68bb5a772733d490401-ddotson-tyk2-demo': <RelativeHybridTopologyProtocolResult-2e0e7ef5064dc92335ad8baf158a2052>,\n",
       " 'Transformation-06eac733376ab1ff566248040fe37e01-ddotson-tyk2-demo': <RelativeHybridTopologyProtocolResult-836ae5c50d7bdeaa4273fa9aa0835226>,\n",
       " 'Transformation-76de739d87d53981abfff4ab9ce071e4-ddotson-tyk2-demo': <RelativeHybridTopologyProtocolResult-2dbee9e919321cdfac39967b797f27de>}"
      ]
     },
     "execution_count": 103,
     "metadata": {},
     "output_type": "execute_result"
    }
   ],
   "source": [
    "results"
   ]
  },
  {
   "cell_type": "markdown",
   "id": "09170a13-accb-4b8e-a817-f76ad2e572d1",
   "metadata": {},
   "source": [
    "## Advanced example: comparing results to experimental values with `cinnabar`"
   ]
  },
  {
   "cell_type": "markdown",
   "id": "1ffedcc8-91c0-4448-b249-e2c42699aab5",
   "metadata": {},
   "source": [
    "Source notebook: `https://github.com/IAlibay/alchemiscale-utilities/blob/main/notebooks/TYK2_MST/Alchemiscale_submit_and_analyze.ipynb`"
   ]
  },
  {
   "cell_type": "markdown",
   "id": "394a112f-d3c5-4ecb-8c6e-8137c63cd106",
   "metadata": {},
   "source": [
    "We can gather up results for each `Transformation` as above and put into a form suitable for use with `cinnabar`. This will allow us to compare to experimental values for the binding free energies of these ligands. We use experimental values listed in `ligands.yml`, originally sourced from [openforcefield/protein-ligand-benchmark](https://github.com/openforcefield/protein-ligand-benchmark):"
   ]
  },
  {
   "cell_type": "code",
   "execution_count": 104,
   "id": "0717730d-dc4a-4ee5-a7e9-6af423c3335c",
   "metadata": {},
   "outputs": [
    {
     "name": "stdout",
     "output_type": "stream",
     "text": [
      "lig_ejm_31:\n",
      "  measurement:\n",
      "    comment: Table 4, entry 31\n",
      "    doi: 10.1016/j.ejmech.2013.03.070\n",
      "    error: 0.029\n",
      "    type: ki\n",
      "    unit: uM\n",
      "    value: 0.096\n",
      "  name: lig_ejm_31\n",
      "  smiles: '[H]c1c(c(c(c(c1[H])Cl)C(=O)N([H])c2c(c(nc(c2[H])N([H])C(=O)C([H])([H])[H])[H])[H])Cl)[H]'\n",
      "lig_ejm_42:\n",
      "  measurement:\n",
      "    comment: Table 4, entry 42\n",
      "    doi: 10.1016/j.ejmech.2013.03.070\n",
      "    error: 0.019\n",
      "    type: ki\n",
      "    unit: uM\n",
      "    value: 0.064\n",
      "  name: lig_ejm_42\n",
      "  smiles: '[H]c1c(c(c(c(c1[H])Cl)C(=O)N([H])c2c(c(nc(c2[H])N([H])C(=O)C([H])([H])C([H])([H])[H])[H])[H])Cl)[H]'\n",
      "lig_ejm_43:\n",
      "  measurement:\n",
      "    comment: Table 4, entry 43\n",
      "    doi: 10.1016/j.ejmech.2013.03.070\n",
      "    error: 0.25\n",
      "    type: ki\n",
      "    unit: uM\n",
      "    value: 0.84\n",
      "  name: lig_ejm_43\n",
      "  smiles: '[H]c1c(c(c(c(c1[H])Cl)C(=O)N([H])c2c(c(nc(c2[H])N([H])C(=O)C([H])(C([H])([H])[H])C([H])([H])[H])[H])[H])Cl)[H]'\n",
      "lig_ejm_45:\n",
      "  measurement:\n",
      "    comment: Table 4, entry 45\n",
      "    doi: 10.1016/j.ejmech.2013.03.070\n",
      "    error: 0.028\n",
      "    type: ki\n",
      "    unit: uM\n",
      "    value: 0.094\n",
      "  name: lig_ejm_45\n",
      "  smiles: '[H]c1c(c(c(c(c1[H])Cl)C(=O)N([H])c2c(c(nc(c2[H])N([H])C(=O)C([H])([H])C3(C(C3([H])[H])([H])[H])[H])[H])[H])Cl)[H]'\n",
      "lig_ejm_46:\n",
      "  measurement:\n",
      "    comment: Table 4, entry 46\n",
      "    doi: 10.1016/j.ejmech.2013.03.070\n",
      "    error: 0.0014\n",
      "    type: ki\n",
      "    unit: uM\n",
      "    value: 0.0048\n",
      "  name: lig_ejm_46\n",
      "  smiles: '[H]c1c(c(c(c(c1[H])Cl)C(=O)N([H])c2c(c(nc(c2[H])N([H])C(=O)C3(C(C3([H])[H])([H])[H])[H])[H])[H])Cl)[H]'\n",
      "lig_ejm_47:\n",
      "  measurement:\n",
      "    comment: Table 4, entry 47\n",
      "    doi: 10.1016/j.ejmech.2013.03.070\n",
      "    error: 0.022\n",
      "    type: ki\n",
      "    unit: uM\n",
      "    value: 0.074\n",
      "  name: lig_ejm_47\n",
      "  smiles: '[H]c1c(c(c(c(c1[H])Cl)C(=O)N([H])c2c(c(nc(c2[H])N([H])C(=O)C3(C(C(C3([H])[H])([H])[H])([H])[H])[H])[H])[H])Cl)[H]'\n",
      "lig_ejm_48:\n",
      "  measurement:\n",
      "    comment: Table 4, entry 48\n",
      "    doi: 10.1016/j.ejmech.2013.03.070\n",
      "    error: 0.072\n",
      "    type: ki\n",
      "    unit: uM\n",
      "    value: 0.24\n",
      "  name: lig_ejm_48\n",
      "  smiles: '[H]c1c(c(c(c(c1[H])Cl)C(=O)N([H])c2c(c(nc(c2[H])N([H])C(=O)C3(C(C(C(C3([H])[H])([H])[H])([H])[H])([H])[H])[H])[H])[H])Cl)[H]'\n",
      "lig_ejm_50:\n",
      "  measurement:\n",
      "    comment: Table 4, entry 50\n",
      "    doi: 10.1016/j.ejmech.2013.03.070\n",
      "    error: 0.075\n",
      "    type: ki\n",
      "    unit: uM\n",
      "    value: 0.25\n",
      "  name: lig_ejm_50\n",
      "  smiles: '[H]c1c(c(c(c(c1[H])Cl)C(=O)N([H])c2c(c(nc(c2[H])N([H])C(=O)C([H])([H])O[H])[H])[H])Cl)[H]'\n",
      "lig_ejm_54:\n",
      "  measurement:\n",
      "    comment: Table 4, entry 54\n",
      "    doi: 10.1016/j.ejmech.2013.03.070\n",
      "    error: 0.0054\n",
      "    type: ki\n",
      "    unit: uM\n",
      "    value: 0.018\n",
      "  name: lig_ejm_54\n",
      "  smiles: '[H]c1c(c(c(c(c1[H])Cl)C(=O)N([H])c2c(c(nc(c2[H])N([H])C(=O)N([H])C([H])([H])C([H])([H])[H])[H])[H])Cl)[H]'\n",
      "lig_ejm_55:\n",
      "  measurement:\n",
      "    comment: Table 4, entry 55\n",
      "    doi: 10.1016/j.ejmech.2013.03.070\n",
      "    error: 0.051\n",
      "    type: ki\n",
      "    unit: uM\n",
      "    value: 0.17\n",
      "  name: lig_ejm_55\n",
      "  smiles: '[H]c1c(c(c(c(c1[H])Cl)C(=O)N([H])c2c(c(nc(c2[H])N([H])C(=O)OC([H])([H])[H])[H])[H])Cl)[H]'\n",
      "lig_jmc_23:\n",
      "  measurement:\n",
      "    comment: Table 2, entry 23; values for four different enantionmers listed, this\n",
      "      one is for cis\n",
      "    doi: 10.1021/jm400266t\n",
      "    error: 0.75\n",
      "    type: ki\n",
      "    unit: nM\n",
      "    value: 2.5\n",
      "  name: lig_jmc_23\n",
      "  smiles: '[H]c1c(c(c(c(c1[H])Cl)C(=O)N([H])c2c(c(nc(c2[H])N([H])C(=O)[C@@]3([C@](C3([H])[H])([H])F)[H])[H])[H])Cl)[H]'\n",
      "lig_jmc_27:\n",
      "  measurement:\n",
      "    comment: Table 2, entry 27; cis enantiomer\n",
      "    doi: 10.1021/jm400266t\n",
      "    error: 1.5\n",
      "    type: ki\n",
      "    unit: nM\n",
      "    value: 5.1\n",
      "  name: lig_jmc_27\n",
      "  smiles: '[H]c1c(c(c(c(c1[H])Cl)C(=O)N([H])c2c(c(nc(c2[H])N([H])C(=O)[C@@]3([C@](C3([H])[H])([H])Cl)[H])[H])[H])Cl)[H]'\n",
      "lig_jmc_28:\n",
      "  measurement:\n",
      "    comment: Table 2, entry 28; cis enantiomer\n",
      "    doi: 10.1021/jm400266t\n",
      "    error: 2.6\n",
      "    type: ki\n",
      "    unit: nM\n",
      "    value: 8.5\n",
      "  name: lig_jmc_28\n",
      "  smiles: '[H]c1c(c(c(c(c1[H])Cl)C(=O)N([H])c2c(c(nc(c2[H])N([H])C(=O)[C@@]3([C@](C3([H])[H])([H])C([H])([H])[H])[H])[H])[H])Cl)[H]'\n"
     ]
    }
   ],
   "source": [
    "%cat ligands.yml"
   ]
  },
  {
   "cell_type": "code",
   "execution_count": 105,
   "id": "7076019c-aa12-4be3-9b87-f864b5a5ffd8",
   "metadata": {},
   "outputs": [],
   "source": [
    "from pathlib import Path"
   ]
  },
  {
   "cell_type": "code",
   "execution_count": 106,
   "id": "f688cd6c",
   "metadata": {},
   "outputs": [],
   "source": [
    "# Next we define a convenience method to check what type of transformation we are looking at\n",
    "def _scan_components(system):\n",
    "    comps = system.components.values()\n",
    "    if any([isinstance(comp, openfe.ProteinComponent) for comp in comps]):\n",
    "        return \"complex\"\n",
    "    elif any([isinstance(comp, openfe.SolventComponent) for comp in comps]):\n",
    "        return \"solvent\"\n",
    "    else:\n",
    "        return \"vacuum\""
   ]
  },
  {
   "cell_type": "code",
   "execution_count": 109,
   "id": "7af574ec",
   "metadata": {
    "scrolled": true
   },
   "outputs": [
    {
     "data": {
      "application/vnd.jupyter.widget-view+json": {
       "model_id": "5640f16b208b45b2bed156a7c1cd2abb",
       "version_major": 2,
       "version_minor": 0
      },
      "text/plain": [
       "Output()"
      ]
     },
     "metadata": {},
     "output_type": "display_data"
    },
    {
     "data": {
      "text/html": [
       "<pre style=\"white-space:pre;overflow-x:auto;line-height:normal;font-family:Menlo,'DejaVu Sans Mono',consolas,'Courier New',monospace\"></pre>\n"
      ],
      "text/plain": []
     },
     "metadata": {},
     "output_type": "display_data"
    },
    {
     "data": {
      "application/vnd.jupyter.widget-view+json": {
       "model_id": "845047b7a9cf4c85ac99743a3ecc518e",
       "version_major": 2,
       "version_minor": 0
      },
      "text/plain": [
       "Output()"
      ]
     },
     "metadata": {},
     "output_type": "display_data"
    },
    {
     "data": {
      "text/html": [
       "<pre style=\"white-space:pre;overflow-x:auto;line-height:normal;font-family:Menlo,'DejaVu Sans Mono',consolas,'Courier New',monospace\"></pre>\n"
      ],
      "text/plain": []
     },
     "metadata": {},
     "output_type": "display_data"
    },
    {
     "data": {
      "application/vnd.jupyter.widget-view+json": {
       "model_id": "47d1c9fb6abb40c69bebf036eda37a9a",
       "version_major": 2,
       "version_minor": 0
      },
      "text/plain": [
       "Output()"
      ]
     },
     "metadata": {},
     "output_type": "display_data"
    },
    {
     "data": {
      "text/html": [
       "<pre style=\"white-space:pre;overflow-x:auto;line-height:normal;font-family:Menlo,'DejaVu Sans Mono',consolas,'Courier New',monospace\"></pre>\n"
      ],
      "text/plain": []
     },
     "metadata": {},
     "output_type": "display_data"
    },
    {
     "data": {
      "application/vnd.jupyter.widget-view+json": {
       "model_id": "c53caabbffe2450abf5a5bf7d79b2971",
       "version_major": 2,
       "version_minor": 0
      },
      "text/plain": [
       "Output()"
      ]
     },
     "metadata": {},
     "output_type": "display_data"
    },
    {
     "data": {
      "text/html": [
       "<pre style=\"white-space:pre;overflow-x:auto;line-height:normal;font-family:Menlo,'DejaVu Sans Mono',consolas,'Courier New',monospace\"></pre>\n"
      ],
      "text/plain": []
     },
     "metadata": {},
     "output_type": "display_data"
    },
    {
     "data": {
      "application/vnd.jupyter.widget-view+json": {
       "model_id": "ad925a7d7ac140c1a4f8c5afb8478ebb",
       "version_major": 2,
       "version_minor": 0
      },
      "text/plain": [
       "Output()"
      ]
     },
     "metadata": {},
     "output_type": "display_data"
    },
    {
     "data": {
      "text/html": [
       "<pre style=\"white-space:pre;overflow-x:auto;line-height:normal;font-family:Menlo,'DejaVu Sans Mono',consolas,'Courier New',monospace\"></pre>\n"
      ],
      "text/plain": []
     },
     "metadata": {},
     "output_type": "display_data"
    },
    {
     "data": {
      "application/vnd.jupyter.widget-view+json": {
       "model_id": "5ef90d51ad2046f289db987ff1b4628a",
       "version_major": 2,
       "version_minor": 0
      },
      "text/plain": [
       "Output()"
      ]
     },
     "metadata": {},
     "output_type": "display_data"
    },
    {
     "data": {
      "text/html": [
       "<pre style=\"white-space:pre;overflow-x:auto;line-height:normal;font-family:Menlo,'DejaVu Sans Mono',consolas,'Courier New',monospace\"></pre>\n"
      ],
      "text/plain": []
     },
     "metadata": {},
     "output_type": "display_data"
    },
    {
     "data": {
      "application/vnd.jupyter.widget-view+json": {
       "model_id": "838201f53e1d4149a9c1536443aee3ce",
       "version_major": 2,
       "version_minor": 0
      },
      "text/plain": [
       "Output()"
      ]
     },
     "metadata": {},
     "output_type": "display_data"
    },
    {
     "data": {
      "text/html": [
       "<pre style=\"white-space:pre;overflow-x:auto;line-height:normal;font-family:Menlo,'DejaVu Sans Mono',consolas,'Courier New',monospace\"></pre>\n"
      ],
      "text/plain": []
     },
     "metadata": {},
     "output_type": "display_data"
    },
    {
     "data": {
      "application/vnd.jupyter.widget-view+json": {
       "model_id": "d50442f24ec94b24a8d68d020d93cee6",
       "version_major": 2,
       "version_minor": 0
      },
      "text/plain": [
       "Output()"
      ]
     },
     "metadata": {},
     "output_type": "display_data"
    },
    {
     "data": {
      "text/html": [
       "<pre style=\"white-space:pre;overflow-x:auto;line-height:normal;font-family:Menlo,'DejaVu Sans Mono',consolas,'Courier New',monospace\"></pre>\n"
      ],
      "text/plain": []
     },
     "metadata": {},
     "output_type": "display_data"
    },
    {
     "data": {
      "application/vnd.jupyter.widget-view+json": {
       "model_id": "674d814a72ba4fb2b636162ac63fb280",
       "version_major": 2,
       "version_minor": 0
      },
      "text/plain": [
       "Output()"
      ]
     },
     "metadata": {},
     "output_type": "display_data"
    },
    {
     "data": {
      "text/html": [
       "<pre style=\"white-space:pre;overflow-x:auto;line-height:normal;font-family:Menlo,'DejaVu Sans Mono',consolas,'Courier New',monospace\"></pre>\n"
      ],
      "text/plain": []
     },
     "metadata": {},
     "output_type": "display_data"
    },
    {
     "data": {
      "application/vnd.jupyter.widget-view+json": {
       "model_id": "383e725ae62d4df2ae55b14e084af261",
       "version_major": 2,
       "version_minor": 0
      },
      "text/plain": [
       "Output()"
      ]
     },
     "metadata": {},
     "output_type": "display_data"
    },
    {
     "data": {
      "text/html": [
       "<pre style=\"white-space:pre;overflow-x:auto;line-height:normal;font-family:Menlo,'DejaVu Sans Mono',consolas,'Courier New',monospace\"></pre>\n"
      ],
      "text/plain": []
     },
     "metadata": {},
     "output_type": "display_data"
    },
    {
     "data": {
      "application/vnd.jupyter.widget-view+json": {
       "model_id": "1fb3baae68dd4fb08ff1030ced2b6d11",
       "version_major": 2,
       "version_minor": 0
      },
      "text/plain": [
       "Output()"
      ]
     },
     "metadata": {},
     "output_type": "display_data"
    },
    {
     "data": {
      "text/html": [
       "<pre style=\"white-space:pre;overflow-x:auto;line-height:normal;font-family:Menlo,'DejaVu Sans Mono',consolas,'Courier New',monospace\"></pre>\n"
      ],
      "text/plain": []
     },
     "metadata": {},
     "output_type": "display_data"
    },
    {
     "data": {
      "application/vnd.jupyter.widget-view+json": {
       "model_id": "bf1110fdffb9434c9592b9b1fcb8b2de",
       "version_major": 2,
       "version_minor": 0
      },
      "text/plain": [
       "Output()"
      ]
     },
     "metadata": {},
     "output_type": "display_data"
    },
    {
     "data": {
      "text/html": [
       "<pre style=\"white-space:pre;overflow-x:auto;line-height:normal;font-family:Menlo,'DejaVu Sans Mono',consolas,'Courier New',monospace\"></pre>\n"
      ],
      "text/plain": []
     },
     "metadata": {},
     "output_type": "display_data"
    },
    {
     "data": {
      "application/vnd.jupyter.widget-view+json": {
       "model_id": "4f822a027b4c46b5bc1ac9d2eb08a3ef",
       "version_major": 2,
       "version_minor": 0
      },
      "text/plain": [
       "Output()"
      ]
     },
     "metadata": {},
     "output_type": "display_data"
    },
    {
     "data": {
      "text/html": [
       "<pre style=\"white-space:pre;overflow-x:auto;line-height:normal;font-family:Menlo,'DejaVu Sans Mono',consolas,'Courier New',monospace\"></pre>\n"
      ],
      "text/plain": []
     },
     "metadata": {},
     "output_type": "display_data"
    },
    {
     "data": {
      "application/vnd.jupyter.widget-view+json": {
       "model_id": "b9698a65e59240799d4b01943b45b1a8",
       "version_major": 2,
       "version_minor": 0
      },
      "text/plain": [
       "Output()"
      ]
     },
     "metadata": {},
     "output_type": "display_data"
    },
    {
     "data": {
      "text/html": [
       "<pre style=\"white-space:pre;overflow-x:auto;line-height:normal;font-family:Menlo,'DejaVu Sans Mono',consolas,'Courier New',monospace\"></pre>\n"
      ],
      "text/plain": []
     },
     "metadata": {},
     "output_type": "display_data"
    },
    {
     "data": {
      "application/vnd.jupyter.widget-view+json": {
       "model_id": "24b046c1c06b4822be16f35b329bbb80",
       "version_major": 2,
       "version_minor": 0
      },
      "text/plain": [
       "Output()"
      ]
     },
     "metadata": {},
     "output_type": "display_data"
    },
    {
     "data": {
      "text/html": [
       "<pre style=\"white-space:pre;overflow-x:auto;line-height:normal;font-family:Menlo,'DejaVu Sans Mono',consolas,'Courier New',monospace\"></pre>\n"
      ],
      "text/plain": []
     },
     "metadata": {},
     "output_type": "display_data"
    },
    {
     "data": {
      "application/vnd.jupyter.widget-view+json": {
       "model_id": "42932d87f6764a7bac5f55f07ae87ebb",
       "version_major": 2,
       "version_minor": 0
      },
      "text/plain": [
       "Output()"
      ]
     },
     "metadata": {},
     "output_type": "display_data"
    },
    {
     "data": {
      "text/html": [
       "<pre style=\"white-space:pre;overflow-x:auto;line-height:normal;font-family:Menlo,'DejaVu Sans Mono',consolas,'Courier New',monospace\"></pre>\n"
      ],
      "text/plain": []
     },
     "metadata": {},
     "output_type": "display_data"
    },
    {
     "data": {
      "application/vnd.jupyter.widget-view+json": {
       "model_id": "79ba040445ac48c8b4a023921860635d",
       "version_major": 2,
       "version_minor": 0
      },
      "text/plain": [
       "Output()"
      ]
     },
     "metadata": {},
     "output_type": "display_data"
    },
    {
     "data": {
      "text/html": [
       "<pre style=\"white-space:pre;overflow-x:auto;line-height:normal;font-family:Menlo,'DejaVu Sans Mono',consolas,'Courier New',monospace\"></pre>\n"
      ],
      "text/plain": []
     },
     "metadata": {},
     "output_type": "display_data"
    },
    {
     "data": {
      "application/vnd.jupyter.widget-view+json": {
       "model_id": "76d1dfe808aa48ecb5fb51d28a651260",
       "version_major": 2,
       "version_minor": 0
      },
      "text/plain": [
       "Output()"
      ]
     },
     "metadata": {},
     "output_type": "display_data"
    },
    {
     "data": {
      "text/html": [
       "<pre style=\"white-space:pre;overflow-x:auto;line-height:normal;font-family:Menlo,'DejaVu Sans Mono',consolas,'Courier New',monospace\"></pre>\n"
      ],
      "text/plain": []
     },
     "metadata": {},
     "output_type": "display_data"
    },
    {
     "data": {
      "application/vnd.jupyter.widget-view+json": {
       "model_id": "7c5b48f995964c688cd4d4616db9a98b",
       "version_major": 2,
       "version_minor": 0
      },
      "text/plain": [
       "Output()"
      ]
     },
     "metadata": {},
     "output_type": "display_data"
    },
    {
     "data": {
      "text/html": [
       "<pre style=\"white-space:pre;overflow-x:auto;line-height:normal;font-family:Menlo,'DejaVu Sans Mono',consolas,'Courier New',monospace\"></pre>\n"
      ],
      "text/plain": []
     },
     "metadata": {},
     "output_type": "display_data"
    },
    {
     "data": {
      "application/vnd.jupyter.widget-view+json": {
       "model_id": "ae39c441c65f458c89733f8999647ff6",
       "version_major": 2,
       "version_minor": 0
      },
      "text/plain": [
       "Output()"
      ]
     },
     "metadata": {},
     "output_type": "display_data"
    },
    {
     "data": {
      "text/html": [
       "<pre style=\"white-space:pre;overflow-x:auto;line-height:normal;font-family:Menlo,'DejaVu Sans Mono',consolas,'Courier New',monospace\"></pre>\n"
      ],
      "text/plain": []
     },
     "metadata": {},
     "output_type": "display_data"
    },
    {
     "data": {
      "application/vnd.jupyter.widget-view+json": {
       "model_id": "142d2b7e001649bc92c1f67dcd68aa61",
       "version_major": 2,
       "version_minor": 0
      },
      "text/plain": [
       "Output()"
      ]
     },
     "metadata": {},
     "output_type": "display_data"
    },
    {
     "data": {
      "text/html": [
       "<pre style=\"white-space:pre;overflow-x:auto;line-height:normal;font-family:Menlo,'DejaVu Sans Mono',consolas,'Courier New',monospace\"></pre>\n"
      ],
      "text/plain": []
     },
     "metadata": {},
     "output_type": "display_data"
    },
    {
     "data": {
      "application/vnd.jupyter.widget-view+json": {
       "model_id": "d9edac5adf1b4b23895a97f732085228",
       "version_major": 2,
       "version_minor": 0
      },
      "text/plain": [
       "Output()"
      ]
     },
     "metadata": {},
     "output_type": "display_data"
    },
    {
     "data": {
      "text/html": [
       "<pre style=\"white-space:pre;overflow-x:auto;line-height:normal;font-family:Menlo,'DejaVu Sans Mono',consolas,'Courier New',monospace\"></pre>\n"
      ],
      "text/plain": []
     },
     "metadata": {},
     "output_type": "display_data"
    },
    {
     "data": {
      "application/vnd.jupyter.widget-view+json": {
       "model_id": "e6430eb94a95449e8cf05b40dd35c53c",
       "version_major": 2,
       "version_minor": 0
      },
      "text/plain": [
       "Output()"
      ]
     },
     "metadata": {},
     "output_type": "display_data"
    },
    {
     "data": {
      "text/html": [
       "<pre style=\"white-space:pre;overflow-x:auto;line-height:normal;font-family:Menlo,'DejaVu Sans Mono',consolas,'Courier New',monospace\"></pre>\n"
      ],
      "text/plain": []
     },
     "metadata": {},
     "output_type": "display_data"
    },
    {
     "data": {
      "application/vnd.jupyter.widget-view+json": {
       "model_id": "705fc471c9934c73ab154770dfa260fa",
       "version_major": 2,
       "version_minor": 0
      },
      "text/plain": [
       "Output()"
      ]
     },
     "metadata": {},
     "output_type": "display_data"
    },
    {
     "data": {
      "text/html": [
       "<pre style=\"white-space:pre;overflow-x:auto;line-height:normal;font-family:Menlo,'DejaVu Sans Mono',consolas,'Courier New',monospace\"></pre>\n"
      ],
      "text/plain": []
     },
     "metadata": {},
     "output_type": "display_data"
    },
    {
     "data": {
      "application/vnd.jupyter.widget-view+json": {
       "model_id": "a824882f0bcd4aee8837198ff622ab98",
       "version_major": 2,
       "version_minor": 0
      },
      "text/plain": [
       "Output()"
      ]
     },
     "metadata": {},
     "output_type": "display_data"
    },
    {
     "data": {
      "text/html": [
       "<pre style=\"white-space:pre;overflow-x:auto;line-height:normal;font-family:Menlo,'DejaVu Sans Mono',consolas,'Courier New',monospace\"></pre>\n"
      ],
      "text/plain": []
     },
     "metadata": {},
     "output_type": "display_data"
    },
    {
     "data": {
      "application/vnd.jupyter.widget-view+json": {
       "model_id": "263ceb1b35844f688257019aab56abdf",
       "version_major": 2,
       "version_minor": 0
      },
      "text/plain": [
       "Output()"
      ]
     },
     "metadata": {},
     "output_type": "display_data"
    },
    {
     "data": {
      "text/html": [
       "<pre style=\"white-space:pre;overflow-x:auto;line-height:normal;font-family:Menlo,'DejaVu Sans Mono',consolas,'Courier New',monospace\"></pre>\n"
      ],
      "text/plain": []
     },
     "metadata": {},
     "output_type": "display_data"
    },
    {
     "data": {
      "application/vnd.jupyter.widget-view+json": {
       "model_id": "bd7e31f3b1ab43e491fd8d9971cfd816",
       "version_major": 2,
       "version_minor": 0
      },
      "text/plain": [
       "Output()"
      ]
     },
     "metadata": {},
     "output_type": "display_data"
    },
    {
     "data": {
      "text/html": [
       "<pre style=\"white-space:pre;overflow-x:auto;line-height:normal;font-family:Menlo,'DejaVu Sans Mono',consolas,'Courier New',monospace\"></pre>\n"
      ],
      "text/plain": []
     },
     "metadata": {},
     "output_type": "display_data"
    },
    {
     "data": {
      "application/vnd.jupyter.widget-view+json": {
       "model_id": "dc2a347f4b5c4505bbab03b8a0282265",
       "version_major": 2,
       "version_minor": 0
      },
      "text/plain": [
       "Output()"
      ]
     },
     "metadata": {},
     "output_type": "display_data"
    },
    {
     "data": {
      "text/html": [
       "<pre style=\"white-space:pre;overflow-x:auto;line-height:normal;font-family:Menlo,'DejaVu Sans Mono',consolas,'Courier New',monospace\"></pre>\n"
      ],
      "text/plain": []
     },
     "metadata": {},
     "output_type": "display_data"
    },
    {
     "data": {
      "application/vnd.jupyter.widget-view+json": {
       "model_id": "583bf82b76cd45369508e44eee099745",
       "version_major": 2,
       "version_minor": 0
      },
      "text/plain": [
       "Output()"
      ]
     },
     "metadata": {},
     "output_type": "display_data"
    },
    {
     "data": {
      "text/html": [
       "<pre style=\"white-space:pre;overflow-x:auto;line-height:normal;font-family:Menlo,'DejaVu Sans Mono',consolas,'Courier New',monospace\"></pre>\n"
      ],
      "text/plain": []
     },
     "metadata": {},
     "output_type": "display_data"
    },
    {
     "data": {
      "application/vnd.jupyter.widget-view+json": {
       "model_id": "3d68642ae3b74b7d9ed59c8bac3d6183",
       "version_major": 2,
       "version_minor": 0
      },
      "text/plain": [
       "Output()"
      ]
     },
     "metadata": {},
     "output_type": "display_data"
    },
    {
     "data": {
      "text/html": [
       "<pre style=\"white-space:pre;overflow-x:auto;line-height:normal;font-family:Menlo,'DejaVu Sans Mono',consolas,'Courier New',monospace\"></pre>\n"
      ],
      "text/plain": []
     },
     "metadata": {},
     "output_type": "display_data"
    },
    {
     "data": {
      "application/vnd.jupyter.widget-view+json": {
       "model_id": "811f3559740f457396013e40808136b6",
       "version_major": 2,
       "version_minor": 0
      },
      "text/plain": [
       "Output()"
      ]
     },
     "metadata": {},
     "output_type": "display_data"
    },
    {
     "data": {
      "text/html": [
       "<pre style=\"white-space:pre;overflow-x:auto;line-height:normal;font-family:Menlo,'DejaVu Sans Mono',consolas,'Courier New',monospace\"></pre>\n"
      ],
      "text/plain": []
     },
     "metadata": {},
     "output_type": "display_data"
    },
    {
     "data": {
      "application/vnd.jupyter.widget-view+json": {
       "model_id": "e8d49748a3a54b6bb02ba88534338eba",
       "version_major": 2,
       "version_minor": 0
      },
      "text/plain": [
       "Output()"
      ]
     },
     "metadata": {},
     "output_type": "display_data"
    },
    {
     "data": {
      "text/html": [
       "<pre style=\"white-space:pre;overflow-x:auto;line-height:normal;font-family:Menlo,'DejaVu Sans Mono',consolas,'Courier New',monospace\"></pre>\n"
      ],
      "text/plain": []
     },
     "metadata": {},
     "output_type": "display_data"
    },
    {
     "data": {
      "application/vnd.jupyter.widget-view+json": {
       "model_id": "cc5410edf0f54836bda93c10ddf338a7",
       "version_major": 2,
       "version_minor": 0
      },
      "text/plain": [
       "Output()"
      ]
     },
     "metadata": {},
     "output_type": "display_data"
    },
    {
     "data": {
      "text/html": [
       "<pre style=\"white-space:pre;overflow-x:auto;line-height:normal;font-family:Menlo,'DejaVu Sans Mono',consolas,'Courier New',monospace\"></pre>\n"
      ],
      "text/plain": []
     },
     "metadata": {},
     "output_type": "display_data"
    },
    {
     "data": {
      "application/vnd.jupyter.widget-view+json": {
       "model_id": "f53b79d2deb44be78d72ce65994faefa",
       "version_major": 2,
       "version_minor": 0
      },
      "text/plain": [
       "Output()"
      ]
     },
     "metadata": {},
     "output_type": "display_data"
    },
    {
     "data": {
      "text/html": [
       "<pre style=\"white-space:pre;overflow-x:auto;line-height:normal;font-family:Menlo,'DejaVu Sans Mono',consolas,'Courier New',monospace\"></pre>\n"
      ],
      "text/plain": []
     },
     "metadata": {},
     "output_type": "display_data"
    },
    {
     "data": {
      "application/vnd.jupyter.widget-view+json": {
       "model_id": "a42280ce12b74e409c0750c577fdae5d",
       "version_major": 2,
       "version_minor": 0
      },
      "text/plain": [
       "Output()"
      ]
     },
     "metadata": {},
     "output_type": "display_data"
    },
    {
     "data": {
      "text/html": [
       "<pre style=\"white-space:pre;overflow-x:auto;line-height:normal;font-family:Menlo,'DejaVu Sans Mono',consolas,'Courier New',monospace\"></pre>\n"
      ],
      "text/plain": []
     },
     "metadata": {},
     "output_type": "display_data"
    },
    {
     "data": {
      "application/vnd.jupyter.widget-view+json": {
       "model_id": "a4dc7fa912944302b857ae7f850e4f90",
       "version_major": 2,
       "version_minor": 0
      },
      "text/plain": [
       "Output()"
      ]
     },
     "metadata": {},
     "output_type": "display_data"
    },
    {
     "data": {
      "text/html": [
       "<pre style=\"white-space:pre;overflow-x:auto;line-height:normal;font-family:Menlo,'DejaVu Sans Mono',consolas,'Courier New',monospace\"></pre>\n"
      ],
      "text/plain": []
     },
     "metadata": {},
     "output_type": "display_data"
    },
    {
     "data": {
      "application/vnd.jupyter.widget-view+json": {
       "model_id": "e8962d615e9a4e27ba7d8c5054102a2d",
       "version_major": 2,
       "version_minor": 0
      },
      "text/plain": [
       "Output()"
      ]
     },
     "metadata": {},
     "output_type": "display_data"
    },
    {
     "data": {
      "text/html": [
       "<pre style=\"white-space:pre;overflow-x:auto;line-height:normal;font-family:Menlo,'DejaVu Sans Mono',consolas,'Courier New',monospace\"></pre>\n"
      ],
      "text/plain": []
     },
     "metadata": {},
     "output_type": "display_data"
    },
    {
     "data": {
      "application/vnd.jupyter.widget-view+json": {
       "model_id": "383eb5aebf724c72acb6ad6b0441e12b",
       "version_major": 2,
       "version_minor": 0
      },
      "text/plain": [
       "Output()"
      ]
     },
     "metadata": {},
     "output_type": "display_data"
    },
    {
     "data": {
      "text/html": [
       "<pre style=\"white-space:pre;overflow-x:auto;line-height:normal;font-family:Menlo,'DejaVu Sans Mono',consolas,'Courier New',monospace\"></pre>\n"
      ],
      "text/plain": []
     },
     "metadata": {},
     "output_type": "display_data"
    },
    {
     "data": {
      "application/vnd.jupyter.widget-view+json": {
       "model_id": "8d2fddee302348ec8d84e9ac59074882",
       "version_major": 2,
       "version_minor": 0
      },
      "text/plain": [
       "Output()"
      ]
     },
     "metadata": {},
     "output_type": "display_data"
    },
    {
     "data": {
      "text/html": [
       "<pre style=\"white-space:pre;overflow-x:auto;line-height:normal;font-family:Menlo,'DejaVu Sans Mono',consolas,'Courier New',monospace\"></pre>\n"
      ],
      "text/plain": []
     },
     "metadata": {},
     "output_type": "display_data"
    },
    {
     "data": {
      "application/vnd.jupyter.widget-view+json": {
       "model_id": "a5edea747d104f6b8c446502ad7018b2",
       "version_major": 2,
       "version_minor": 0
      },
      "text/plain": [
       "Output()"
      ]
     },
     "metadata": {},
     "output_type": "display_data"
    },
    {
     "data": {
      "text/html": [
       "<pre style=\"white-space:pre;overflow-x:auto;line-height:normal;font-family:Menlo,'DejaVu Sans Mono',consolas,'Courier New',monospace\"></pre>\n"
      ],
      "text/plain": []
     },
     "metadata": {},
     "output_type": "display_data"
    },
    {
     "data": {
      "application/vnd.jupyter.widget-view+json": {
       "model_id": "c1f70064159645b38c3c77cdf96c1092",
       "version_major": 2,
       "version_minor": 0
      },
      "text/plain": [
       "Output()"
      ]
     },
     "metadata": {},
     "output_type": "display_data"
    },
    {
     "data": {
      "text/html": [
       "<pre style=\"white-space:pre;overflow-x:auto;line-height:normal;font-family:Menlo,'DejaVu Sans Mono',consolas,'Courier New',monospace\"></pre>\n"
      ],
      "text/plain": []
     },
     "metadata": {},
     "output_type": "display_data"
    },
    {
     "data": {
      "application/vnd.jupyter.widget-view+json": {
       "model_id": "bc2f90eccdf743d0b27c13d70f2a0530",
       "version_major": 2,
       "version_minor": 0
      },
      "text/plain": [
       "Output()"
      ]
     },
     "metadata": {},
     "output_type": "display_data"
    },
    {
     "data": {
      "text/html": [
       "<pre style=\"white-space:pre;overflow-x:auto;line-height:normal;font-family:Menlo,'DejaVu Sans Mono',consolas,'Courier New',monospace\"></pre>\n"
      ],
      "text/plain": []
     },
     "metadata": {},
     "output_type": "display_data"
    },
    {
     "data": {
      "application/vnd.jupyter.widget-view+json": {
       "model_id": "f3bfab0988684822ae3827397bb21747",
       "version_major": 2,
       "version_minor": 0
      },
      "text/plain": [
       "Output()"
      ]
     },
     "metadata": {},
     "output_type": "display_data"
    },
    {
     "data": {
      "text/html": [
       "<pre style=\"white-space:pre;overflow-x:auto;line-height:normal;font-family:Menlo,'DejaVu Sans Mono',consolas,'Courier New',monospace\"></pre>\n"
      ],
      "text/plain": []
     },
     "metadata": {},
     "output_type": "display_data"
    },
    {
     "data": {
      "application/vnd.jupyter.widget-view+json": {
       "model_id": "f7dff08088554f3689630d034311ad15",
       "version_major": 2,
       "version_minor": 0
      },
      "text/plain": [
       "Output()"
      ]
     },
     "metadata": {},
     "output_type": "display_data"
    },
    {
     "data": {
      "text/html": [
       "<pre style=\"white-space:pre;overflow-x:auto;line-height:normal;font-family:Menlo,'DejaVu Sans Mono',consolas,'Courier New',monospace\"></pre>\n"
      ],
      "text/plain": []
     },
     "metadata": {},
     "output_type": "display_data"
    },
    {
     "data": {
      "application/vnd.jupyter.widget-view+json": {
       "model_id": "720a037fd3634ad390d57a41e624c52d",
       "version_major": 2,
       "version_minor": 0
      },
      "text/plain": [
       "Output()"
      ]
     },
     "metadata": {},
     "output_type": "display_data"
    },
    {
     "data": {
      "text/html": [
       "<pre style=\"white-space:pre;overflow-x:auto;line-height:normal;font-family:Menlo,'DejaVu Sans Mono',consolas,'Courier New',monospace\"></pre>\n"
      ],
      "text/plain": []
     },
     "metadata": {},
     "output_type": "display_data"
    },
    {
     "data": {
      "application/vnd.jupyter.widget-view+json": {
       "model_id": "afc64bb900fe4ea7a386995529725151",
       "version_major": 2,
       "version_minor": 0
      },
      "text/plain": [
       "Output()"
      ]
     },
     "metadata": {},
     "output_type": "display_data"
    },
    {
     "data": {
      "text/html": [
       "<pre style=\"white-space:pre;overflow-x:auto;line-height:normal;font-family:Menlo,'DejaVu Sans Mono',consolas,'Courier New',monospace\"></pre>\n"
      ],
      "text/plain": []
     },
     "metadata": {},
     "output_type": "display_data"
    },
    {
     "data": {
      "application/vnd.jupyter.widget-view+json": {
       "model_id": "53bc5bb6d8ec40e884b4a2c9c4305b1c",
       "version_major": 2,
       "version_minor": 0
      },
      "text/plain": [
       "Output()"
      ]
     },
     "metadata": {},
     "output_type": "display_data"
    },
    {
     "data": {
      "text/html": [
       "<pre style=\"white-space:pre;overflow-x:auto;line-height:normal;font-family:Menlo,'DejaVu Sans Mono',consolas,'Courier New',monospace\"></pre>\n"
      ],
      "text/plain": []
     },
     "metadata": {},
     "output_type": "display_data"
    },
    {
     "data": {
      "application/vnd.jupyter.widget-view+json": {
       "model_id": "a75e01b4007b4dfc981d0a7180dc91ce",
       "version_major": 2,
       "version_minor": 0
      },
      "text/plain": [
       "Output()"
      ]
     },
     "metadata": {},
     "output_type": "display_data"
    },
    {
     "data": {
      "text/html": [
       "<pre style=\"white-space:pre;overflow-x:auto;line-height:normal;font-family:Menlo,'DejaVu Sans Mono',consolas,'Courier New',monospace\"></pre>\n"
      ],
      "text/plain": []
     },
     "metadata": {},
     "output_type": "display_data"
    },
    {
     "data": {
      "application/vnd.jupyter.widget-view+json": {
       "model_id": "5db61c39491b4c5788065e9144912f99",
       "version_major": 2,
       "version_minor": 0
      },
      "text/plain": [
       "Output()"
      ]
     },
     "metadata": {},
     "output_type": "display_data"
    },
    {
     "data": {
      "text/html": [
       "<pre style=\"white-space:pre;overflow-x:auto;line-height:normal;font-family:Menlo,'DejaVu Sans Mono',consolas,'Courier New',monospace\"></pre>\n"
      ],
      "text/plain": []
     },
     "metadata": {},
     "output_type": "display_data"
    },
    {
     "data": {
      "application/vnd.jupyter.widget-view+json": {
       "model_id": "1a5fc3c12fa14995ae9c8da66f978ddd",
       "version_major": 2,
       "version_minor": 0
      },
      "text/plain": [
       "Output()"
      ]
     },
     "metadata": {},
     "output_type": "display_data"
    },
    {
     "data": {
      "text/html": [
       "<pre style=\"white-space:pre;overflow-x:auto;line-height:normal;font-family:Menlo,'DejaVu Sans Mono',consolas,'Courier New',monospace\"></pre>\n"
      ],
      "text/plain": []
     },
     "metadata": {},
     "output_type": "display_data"
    },
    {
     "data": {
      "application/vnd.jupyter.widget-view+json": {
       "model_id": "70a986f7ce2c43dbaa0ea6ead8342e59",
       "version_major": 2,
       "version_minor": 0
      },
      "text/plain": [
       "Output()"
      ]
     },
     "metadata": {},
     "output_type": "display_data"
    },
    {
     "data": {
      "text/html": [
       "<pre style=\"white-space:pre;overflow-x:auto;line-height:normal;font-family:Menlo,'DejaVu Sans Mono',consolas,'Courier New',monospace\"></pre>\n"
      ],
      "text/plain": []
     },
     "metadata": {},
     "output_type": "display_data"
    },
    {
     "data": {
      "application/vnd.jupyter.widget-view+json": {
       "model_id": "e61f3b4367034945b3265f576dfad535",
       "version_major": 2,
       "version_minor": 0
      },
      "text/plain": [
       "Output()"
      ]
     },
     "metadata": {},
     "output_type": "display_data"
    },
    {
     "data": {
      "text/html": [
       "<pre style=\"white-space:pre;overflow-x:auto;line-height:normal;font-family:Menlo,'DejaVu Sans Mono',consolas,'Courier New',monospace\"></pre>\n"
      ],
      "text/plain": []
     },
     "metadata": {},
     "output_type": "display_data"
    },
    {
     "data": {
      "application/vnd.jupyter.widget-view+json": {
       "model_id": "ee2922bba40c4bb1840d35a806d217b8",
       "version_major": 2,
       "version_minor": 0
      },
      "text/plain": [
       "Output()"
      ]
     },
     "metadata": {},
     "output_type": "display_data"
    },
    {
     "data": {
      "text/html": [
       "<pre style=\"white-space:pre;overflow-x:auto;line-height:normal;font-family:Menlo,'DejaVu Sans Mono',consolas,'Courier New',monospace\"></pre>\n"
      ],
      "text/plain": []
     },
     "metadata": {},
     "output_type": "display_data"
    },
    {
     "data": {
      "application/vnd.jupyter.widget-view+json": {
       "model_id": "c1e2d7ea12984bfead52f1ee8f07f643",
       "version_major": 2,
       "version_minor": 0
      },
      "text/plain": [
       "Output()"
      ]
     },
     "metadata": {},
     "output_type": "display_data"
    },
    {
     "data": {
      "text/html": [
       "<pre style=\"white-space:pre;overflow-x:auto;line-height:normal;font-family:Menlo,'DejaVu Sans Mono',consolas,'Courier New',monospace\"></pre>\n"
      ],
      "text/plain": []
     },
     "metadata": {},
     "output_type": "display_data"
    },
    {
     "data": {
      "application/vnd.jupyter.widget-view+json": {
       "model_id": "8a8902fc7888428b8717f700d044c94f",
       "version_major": 2,
       "version_minor": 0
      },
      "text/plain": [
       "Output()"
      ]
     },
     "metadata": {},
     "output_type": "display_data"
    },
    {
     "data": {
      "text/html": [
       "<pre style=\"white-space:pre;overflow-x:auto;line-height:normal;font-family:Menlo,'DejaVu Sans Mono',consolas,'Courier New',monospace\"></pre>\n"
      ],
      "text/plain": []
     },
     "metadata": {},
     "output_type": "display_data"
    },
    {
     "data": {
      "application/vnd.jupyter.widget-view+json": {
       "model_id": "a9b270285b394c48bb5da6e7978be104",
       "version_major": 2,
       "version_minor": 0
      },
      "text/plain": [
       "Output()"
      ]
     },
     "metadata": {},
     "output_type": "display_data"
    },
    {
     "data": {
      "text/html": [
       "<pre style=\"white-space:pre;overflow-x:auto;line-height:normal;font-family:Menlo,'DejaVu Sans Mono',consolas,'Courier New',monospace\"></pre>\n"
      ],
      "text/plain": []
     },
     "metadata": {},
     "output_type": "display_data"
    },
    {
     "data": {
      "application/vnd.jupyter.widget-view+json": {
       "model_id": "2e208d5417e34d38bfc7d2b5b9a1a245",
       "version_major": 2,
       "version_minor": 0
      },
      "text/plain": [
       "Output()"
      ]
     },
     "metadata": {},
     "output_type": "display_data"
    },
    {
     "data": {
      "text/html": [
       "<pre style=\"white-space:pre;overflow-x:auto;line-height:normal;font-family:Menlo,'DejaVu Sans Mono',consolas,'Courier New',monospace\"></pre>\n"
      ],
      "text/plain": []
     },
     "metadata": {},
     "output_type": "display_data"
    },
    {
     "data": {
      "application/vnd.jupyter.widget-view+json": {
       "model_id": "f4d94b60391f4557800763de8c0b7d0f",
       "version_major": 2,
       "version_minor": 0
      },
      "text/plain": [
       "Output()"
      ]
     },
     "metadata": {},
     "output_type": "display_data"
    },
    {
     "data": {
      "text/html": [
       "<pre style=\"white-space:pre;overflow-x:auto;line-height:normal;font-family:Menlo,'DejaVu Sans Mono',consolas,'Courier New',monospace\"></pre>\n"
      ],
      "text/plain": []
     },
     "metadata": {},
     "output_type": "display_data"
    },
    {
     "data": {
      "application/vnd.jupyter.widget-view+json": {
       "model_id": "cb6fb55d42a545bbad0feae5e94e8fc7",
       "version_major": 2,
       "version_minor": 0
      },
      "text/plain": [
       "Output()"
      ]
     },
     "metadata": {},
     "output_type": "display_data"
    },
    {
     "data": {
      "text/html": [
       "<pre style=\"white-space:pre;overflow-x:auto;line-height:normal;font-family:Menlo,'DejaVu Sans Mono',consolas,'Courier New',monospace\"></pre>\n"
      ],
      "text/plain": []
     },
     "metadata": {},
     "output_type": "display_data"
    },
    {
     "data": {
      "application/vnd.jupyter.widget-view+json": {
       "model_id": "9427b4c604b3464f8761b5f5610bf48b",
       "version_major": 2,
       "version_minor": 0
      },
      "text/plain": [
       "Output()"
      ]
     },
     "metadata": {},
     "output_type": "display_data"
    },
    {
     "data": {
      "text/html": [
       "<pre style=\"white-space:pre;overflow-x:auto;line-height:normal;font-family:Menlo,'DejaVu Sans Mono',consolas,'Courier New',monospace\"></pre>\n"
      ],
      "text/plain": []
     },
     "metadata": {},
     "output_type": "display_data"
    },
    {
     "data": {
      "application/vnd.jupyter.widget-view+json": {
       "model_id": "30f8344c2ab34b14a828dd5dc299319b",
       "version_major": 2,
       "version_minor": 0
      },
      "text/plain": [
       "Output()"
      ]
     },
     "metadata": {},
     "output_type": "display_data"
    },
    {
     "data": {
      "text/html": [
       "<pre style=\"white-space:pre;overflow-x:auto;line-height:normal;font-family:Menlo,'DejaVu Sans Mono',consolas,'Courier New',monospace\"></pre>\n"
      ],
      "text/plain": []
     },
     "metadata": {},
     "output_type": "display_data"
    },
    {
     "data": {
      "application/vnd.jupyter.widget-view+json": {
       "model_id": "b968ae8260b248e98fb3327273c14660",
       "version_major": 2,
       "version_minor": 0
      },
      "text/plain": [
       "Output()"
      ]
     },
     "metadata": {},
     "output_type": "display_data"
    },
    {
     "data": {
      "text/html": [
       "<pre style=\"white-space:pre;overflow-x:auto;line-height:normal;font-family:Menlo,'DejaVu Sans Mono',consolas,'Courier New',monospace\"></pre>\n"
      ],
      "text/plain": []
     },
     "metadata": {},
     "output_type": "display_data"
    },
    {
     "data": {
      "application/vnd.jupyter.widget-view+json": {
       "model_id": "3279db9a348a4bc9a1b72fb2a54cb8a8",
       "version_major": 2,
       "version_minor": 0
      },
      "text/plain": [
       "Output()"
      ]
     },
     "metadata": {},
     "output_type": "display_data"
    },
    {
     "data": {
      "text/html": [
       "<pre style=\"white-space:pre;overflow-x:auto;line-height:normal;font-family:Menlo,'DejaVu Sans Mono',consolas,'Courier New',monospace\"></pre>\n"
      ],
      "text/plain": []
     },
     "metadata": {},
     "output_type": "display_data"
    },
    {
     "data": {
      "application/vnd.jupyter.widget-view+json": {
       "model_id": "177311c4b4784caa8d966a84eb2b6e32",
       "version_major": 2,
       "version_minor": 0
      },
      "text/plain": [
       "Output()"
      ]
     },
     "metadata": {},
     "output_type": "display_data"
    },
    {
     "data": {
      "text/html": [
       "<pre style=\"white-space:pre;overflow-x:auto;line-height:normal;font-family:Menlo,'DejaVu Sans Mono',consolas,'Courier New',monospace\"></pre>\n"
      ],
      "text/plain": []
     },
     "metadata": {},
     "output_type": "display_data"
    },
    {
     "data": {
      "application/vnd.jupyter.widget-view+json": {
       "model_id": "147ca9dba234457b958db4d29287152b",
       "version_major": 2,
       "version_minor": 0
      },
      "text/plain": [
       "Output()"
      ]
     },
     "metadata": {},
     "output_type": "display_data"
    },
    {
     "data": {
      "text/html": [
       "<pre style=\"white-space:pre;overflow-x:auto;line-height:normal;font-family:Menlo,'DejaVu Sans Mono',consolas,'Courier New',monospace\"></pre>\n"
      ],
      "text/plain": []
     },
     "metadata": {},
     "output_type": "display_data"
    },
    {
     "data": {
      "application/vnd.jupyter.widget-view+json": {
       "model_id": "17817e9a32f943e7aa4c65dcac85e1ff",
       "version_major": 2,
       "version_minor": 0
      },
      "text/plain": [
       "Output()"
      ]
     },
     "metadata": {},
     "output_type": "display_data"
    },
    {
     "data": {
      "text/html": [
       "<pre style=\"white-space:pre;overflow-x:auto;line-height:normal;font-family:Menlo,'DejaVu Sans Mono',consolas,'Courier New',monospace\"></pre>\n"
      ],
      "text/plain": []
     },
     "metadata": {},
     "output_type": "display_data"
    },
    {
     "data": {
      "application/vnd.jupyter.widget-view+json": {
       "model_id": "16379ac2e83648a4b0383e44004d5f07",
       "version_major": 2,
       "version_minor": 0
      },
      "text/plain": [
       "Output()"
      ]
     },
     "metadata": {},
     "output_type": "display_data"
    },
    {
     "data": {
      "text/html": [
       "<pre style=\"white-space:pre;overflow-x:auto;line-height:normal;font-family:Menlo,'DejaVu Sans Mono',consolas,'Courier New',monospace\"></pre>\n"
      ],
      "text/plain": []
     },
     "metadata": {},
     "output_type": "display_data"
    },
    {
     "data": {
      "application/vnd.jupyter.widget-view+json": {
       "model_id": "6558a1acb84c4c41a66122255c078a3c",
       "version_major": 2,
       "version_minor": 0
      },
      "text/plain": [
       "Output()"
      ]
     },
     "metadata": {},
     "output_type": "display_data"
    },
    {
     "data": {
      "text/html": [
       "<pre style=\"white-space:pre;overflow-x:auto;line-height:normal;font-family:Menlo,'DejaVu Sans Mono',consolas,'Courier New',monospace\"></pre>\n"
      ],
      "text/plain": []
     },
     "metadata": {},
     "output_type": "display_data"
    },
    {
     "data": {
      "application/vnd.jupyter.widget-view+json": {
       "model_id": "a809e3b4d67e45a8964cb201bb6625f5",
       "version_major": 2,
       "version_minor": 0
      },
      "text/plain": [
       "Output()"
      ]
     },
     "metadata": {},
     "output_type": "display_data"
    },
    {
     "data": {
      "text/html": [
       "<pre style=\"white-space:pre;overflow-x:auto;line-height:normal;font-family:Menlo,'DejaVu Sans Mono',consolas,'Courier New',monospace\"></pre>\n"
      ],
      "text/plain": []
     },
     "metadata": {},
     "output_type": "display_data"
    },
    {
     "data": {
      "application/vnd.jupyter.widget-view+json": {
       "model_id": "972ec7796a16447f94371ffbdcfbf36d",
       "version_major": 2,
       "version_minor": 0
      },
      "text/plain": [
       "Output()"
      ]
     },
     "metadata": {},
     "output_type": "display_data"
    },
    {
     "data": {
      "text/html": [
       "<pre style=\"white-space:pre;overflow-x:auto;line-height:normal;font-family:Menlo,'DejaVu Sans Mono',consolas,'Courier New',monospace\"></pre>\n"
      ],
      "text/plain": []
     },
     "metadata": {},
     "output_type": "display_data"
    }
   ],
   "source": [
    "# Next we create a results dictionary and scan our network edges to accumulate all\n",
    "# the free energy results and their uncertainty\n",
    "results_dir = Path('results')\n",
    "results_dir.mkdir(parents=True, exist_ok=True)\n",
    "results = dict()\n",
    "for tf_sk in asc.get_network_transformations(an_sk):\n",
    "    transformation = asc.get_transformation(tf_sk)\n",
    "    result = asc.get_transformation_results(tf_sk)\n",
    "    if result is None:\n",
    "        continue\n",
    "    runtype = _scan_components(transformation.stateA)\n",
    "    mapping = transformation.mapping[0]\n",
    "    nameA = mapping.componentA.name\n",
    "    nameB = mapping.componentB.name\n",
    "\n",
    "    # store in accumulator\n",
    "    if f\"{nameA}_{nameB}\" in results.keys():\n",
    "        results[f\"{nameA}_{nameB}\"][runtype] = result\n",
    "    else:\n",
    "        results[f\"{nameA}_{nameB}\"] = {runtype: result, 'molA': nameA, 'molB': nameB}\n",
    "\n",
    "    # output individual results to a separate `.dat` file for future use\n",
    "    filename = results_dir / f\"{nameA}_{nameB}.{runtype}.results.dat\"\n",
    "    output = f\"{result.get_estimate()},{result.get_uncertainty()}\"\n",
    "\n",
    "    with open(filename, 'w') as f:\n",
    "        f.write(output)"
   ]
  },
  {
   "cell_type": "markdown",
   "id": "7a185273-3bea-4ee0-b69b-64a859bff35c",
   "metadata": {},
   "source": [
    "### Writing out a `cinnabar` input CSV file\n",
    "\n",
    "Since this is a known benchmark system, we have experimental values for each of our ligands. We can combine them with our results to create a `cinnabar` input CSV file."
   ]
  },
  {
   "cell_type": "code",
   "execution_count": 110,
   "id": "e61661ee",
   "metadata": {},
   "outputs": [],
   "source": [
    "# Here we create a dictionary of experimental values from an input protein-ligand benchmark ligands.yml\n",
    "\n",
    "# First load the yaml data\n",
    "import yaml\n",
    "\n",
    "with open('ligands.yml') as stream:\n",
    "    exp_data = yaml.safe_load(stream)"
   ]
  },
  {
   "cell_type": "code",
   "execution_count": 111,
   "id": "8d693308",
   "metadata": {},
   "outputs": [],
   "source": [
    "# Define a method for converting between Ki to estimated DG\n",
    "from openff.units import unit\n",
    "import math\n",
    "\n",
    "def ki_to_dg(\n",
    "    ki: unit.Quantity, uncertainty: unit.Quantity,\n",
    "    temperature: unit.Quantity = 298.15 * unit.kelvin\n",
    ") -> tuple[unit.Quantity, unit.Quantity]:\n",
    "    \"\"\"\n",
    "    Convenience method to convert a Ki w/ a given uncertainty to an\n",
    "    experimental estimate of the binding free energy.\n",
    "    \n",
    "    Parameters\n",
    "    ----------\n",
    "    ki : unit.Quantity\n",
    "        Experimental Ki value (e.g. 5 * unit.nanomolar)\n",
    "    uncertainty : unit.Quantity\n",
    "        Experimental error. Note: returns 0 if =< 0 * unit.nanomolar.\n",
    "    temperature : unit.Quantity\n",
    "        Experimental temperature. Default: 298.15 * unit.kelvin.\n",
    "        \n",
    "    Returns\n",
    "    -------\n",
    "    DG : unit.Quantity\n",
    "        Gibbs binding free energy.\n",
    "    dDG : unit.Quantity\n",
    "        Error in binding free energy.\n",
    "    \"\"\"\n",
    "    if ki > 1e-15 * unit.nanomolar:\n",
    "        DG = (unit.molar_gas_constant * temperature.to(unit.kelvin)\n",
    "              * math.log(ki / unit.molar)).to(unit.kilocalorie_per_mole)\n",
    "    else:\n",
    "        raise ValueError(\"negative Ki values are not supported\")\n",
    "    if uncertainty > 0 * unit.molar:\n",
    "        dDG = (unit.molar_gas_constant * temperature.to(unit.kelvin)\n",
    "               * uncertainty / ki).to(unit.kilocalorie_per_mole)\n",
    "    else:\n",
    "        dDG = 0 * unit.kilocalorie_per_mole\n",
    "        \n",
    "    return DG, dDG"
   ]
  },
  {
   "cell_type": "code",
   "execution_count": 112,
   "id": "bbc447a8",
   "metadata": {},
   "outputs": [],
   "source": [
    "from openff.units import unit\n",
    "\n",
    "exp_values = {}\n",
    "for lig in exp_data:\n",
    "    exp_units = unit(exp_data[lig]['measurement']['unit'])\n",
    "    exp_values[lig] = {}\n",
    "    DG, dDG = ki_to_dg(exp_data[lig]['measurement']['value'] * exp_units,\n",
    "                       exp_data[lig]['measurement']['error'] * exp_units)\n",
    "    exp_values[lig]['value'] = DG\n",
    "    exp_values[lig]['error'] = dDG"
   ]
  },
  {
   "cell_type": "code",
   "execution_count": 113,
   "id": "03439752",
   "metadata": {},
   "outputs": [],
   "source": [
    "import numpy as np\n",
    "\n",
    "# write out the cinnabar input file\n",
    "with open('cinnabar_input.csv', 'w') as f:\n",
    "    f.write(\"# Experimental block\\n\")\n",
    "    f.write(\"# Ligand, expt_DDG, expt_dDDG\\n\")\n",
    "    for entry in exp_values:\n",
    "        f.write(f\"{entry},{exp_values[entry]['value'].m:.2f},{exp_values[entry]['error'].m:.2f}\\n\")\n",
    "    f.write('\\n')\n",
    "    \n",
    "    f.write('# Calculated block\\n')\n",
    "    f.write('# Ligand1,Ligand2,calc_DDG,calc_dDDG(MBAR),calc_dDDG(additional)\\n')\n",
    "    for entry in results:\n",
    "        estimate = (results[entry]['complex'].get_estimate()\n",
    "                    - results[entry]['solvent'].get_estimate())\n",
    "        err = np.sqrt(results[entry]['complex'].get_uncertainty()**2\n",
    "                      + results[entry]['solvent'].get_uncertainty()**2)\n",
    "        molA = results[entry]['molA']\n",
    "        molB = results[entry]['molB']\n",
    "        f.write(f\"{molA},{molB},{estimate.m:.2f},0,{err.m:.2f}\\n\")"
   ]
  },
  {
   "cell_type": "markdown",
   "id": "f8e32ef8-a959-42e3-a94e-6d171bcf07ff",
   "metadata": {},
   "source": [
    "### Plotting out results using `cinnabar` components\n",
    "\n",
    "**Note: the `cinnabar` API will change in its next release.**"
   ]
  },
  {
   "cell_type": "code",
   "execution_count": 124,
   "id": "60413e9e",
   "metadata": {},
   "outputs": [],
   "source": [
    "import cinnabar\n",
    "from cinnabar import plotting as cinnabar_plotting\n",
    "from cinnabar import FEMap, femap\n",
    "%matplotlib inline"
   ]
  },
  {
   "cell_type": "markdown",
   "id": "afc23071-b546-4d46-97d9-1d36efaa7c8f",
   "metadata": {},
   "source": [
    "#### Generating a Cinnabar FEMap and plotting out the network"
   ]
  },
  {
   "cell_type": "markdown",
   "id": "d5b583a8-d545-4c66-ae1b-fc76b1bacbe1",
   "metadata": {},
   "source": [
    "First let's load the data into cinnabar and draw out the network of free energy results:"
   ]
  },
  {
   "cell_type": "code",
   "execution_count": 118,
   "id": "56de38d7-fbde-4610-a1ff-428eaaa70648",
   "metadata": {},
   "outputs": [
    {
     "data": {
      "image/png": "[encoded data removed]",
      "text/plain": [
       "<Figure size 1000x1000 with 1 Axes>"
      ]
     },
     "metadata": {},
     "output_type": "display_data"
    }
   ],
   "source": [
    "fe = FEMap.from_csv('cinnabar_input.csv')\n",
    "fe.generate_absolute_values()  # Get MLE generated estimates of the absolute values\n",
    "fe.draw_graph()"
   ]
  },
  {
   "cell_type": "markdown",
   "id": "3ef71a46-4b8b-4072-8c65-7dbc22747469",
   "metadata": {},
   "source": [
    "#### Plotting out the relative free energy results"
   ]
  },
  {
   "cell_type": "markdown",
   "id": "73acc23c-7a5c-4fbb-b313-445ead198882",
   "metadata": {},
   "source": [
    "Next we can go ahead and plot out the relative free energy results:"
   ]
  },
  {
   "cell_type": "code",
   "execution_count": 120,
   "id": "1a747b7f-a06c-4027-9556-433242fb50ce",
   "metadata": {},
   "outputs": [
    {
     "data": {
      "image/png": "[encoded data removed]",
      "text/plain": [
       "<Figure size 500x500 with 1 Axes>"
      ]
     },
     "metadata": {},
     "output_type": "display_data"
    }
   ],
   "source": [
    "# note you can pass the filename argument to write things out to file\n",
    "cinnabar_plotting.plot_DDGs(fe.to_legacy_graph(), figsize=5,  xy_lim=[5, -5])"
   ]
  },
  {
   "cell_type": "markdown",
   "id": "c004a6f7-ed37-4895-9552-fb9f42c0f2b4",
   "metadata": {},
   "source": [
    "#### Plotting out the absolute free energy results"
   ]
  },
  {
   "cell_type": "markdown",
   "id": "14de5ffe-c80b-46d3-9356-b72f0ad1e134",
   "metadata": {},
   "source": [
    "Finally let's go ahead and plot out the MLE derived absolute free energies:"
   ]
  },
  {
   "cell_type": "code",
   "execution_count": 121,
   "id": "f9e652a4-3657-43c9-a2ed-7b074a03578e",
   "metadata": {},
   "outputs": [
    {
     "data": {
      "image/png": "[encoded data removed]",
      "text/plain": [
       "<Figure size 500x500 with 1 Axes>"
      ]
     },
     "metadata": {},
     "output_type": "display_data"
    }
   ],
   "source": [
    "# note you can pass the filename argument to write to file\n",
    "cinnabar_plotting.plot_DGs(fe.to_legacy_graph(), figsize=5,  xy_lim=[5, -5])"
   ]
  },
  {
   "cell_type": "markdown",
   "id": "999ee6ed-b2b2-4d79-aca4-de45d06bdaa5",
   "metadata": {},
   "source": [
    "We can also shift our free energies by the average experimental value to have DGs on the same scale as experiment:"
   ]
  },
  {
   "cell_type": "code",
   "execution_count": 125,
   "id": "873fb9e5-5035-4c2d-9d16-620acdc6f94a",
   "metadata": {},
   "outputs": [
    {
     "name": "stderr",
     "output_type": "stream",
     "text": [
      "/home/david/micromamba/envs/alchemiscale-client-user-guide-2024.09.26/lib/python3.12/site-packages/cinnabar/femap.py:35: UserWarning: Assuming kcal/mol units on measurements\n",
      "  warnings.warn(\"Assuming kcal/mol units on measurements\")\n"
     ]
    },
    {
     "data": {
      "image/png": "[encoded data removed]",
      "text/plain": [
       "<Figure size 500x500 with 1 Axes>"
      ]
     },
     "metadata": {},
     "output_type": "display_data"
    }
   ],
   "source": [
    "data = femap.read_csv('cinnabar_input.csv')\n",
    "exp_DG_sum = sum([data['Experimental'][i].DG for i in data['Experimental'].keys()])\n",
    "shift = exp_DG_sum / len(data['Experimental'].keys())\n",
    "\n",
    "cinnabar_plotting.plot_DGs(fe.to_legacy_graph(), figsize=5,  shift=shift.m)"
   ]
  }
 ],
 "metadata": {
  "kernelspec": {
   "display_name": "Python 3 (ipykernel)",
   "language": "python",
   "name": "python3"
  },
  "language_info": {
   "codemirror_mode": {
    "name": "ipython",
    "version": 3
   },
   "file_extension": ".py",
   "mimetype": "text/x-python",
   "name": "python",
   "nbconvert_exporter": "python",
   "pygments_lexer": "ipython3",
   "version": "3.12.6"
  }
 },
 "nbformat": 4,
 "nbformat_minor": 5
}
